{
  "nbformat": 4,
  "nbformat_minor": 0,
  "metadata": {
    "colab": {
      "name": "Aula 1 - final.ipynb",
      "provenance": [],
      "authorship_tag": "ABX9TyNmUUz5HOFjnPR6/hUpfaUp",
      "include_colab_link": true
    },
    "kernelspec": {
      "name": "python3",
      "display_name": "Python 3"
    },
    "language_info": {
      "name": "python"
    }
  },
  "cells": [
    {
      "cell_type": "markdown",
      "metadata": {
        "id": "view-in-github",
        "colab_type": "text"
      },
      "source": [
        "<a href=\"https://colab.research.google.com/github/cristiane88/ShePY/blob/main/Aula%201%3A%20ShePY.ipynb\" target=\"_parent\"><img src=\"https://colab.research.google.com/assets/colab-badge.svg\" alt=\"Open In Colab\"/></a>"
      ]
    },
    {
      "cell_type": "markdown",
      "metadata": {
        "id": "xIM26ORk619r"
      },
      "source": [
        "# **Iniciando na programação com Python e Google Colab**"
      ]
    },
    {
      "cell_type": "markdown",
      "metadata": {
        "id": "1f1oa0qb610b"
      },
      "source": [
        "###**Por que aprender a programar?**\n",
        "\n",
        "*Tudo o que fazemos responde a um algoritmo. É hora de de que todos e entendem como e por quê.*\n",
        "\n",
        "- Desenvolve a habilidade de resolver problemas\n",
        "- Trabalha a criatividade, persistência e a capacidade de superação\n",
        "- Ganho de autonomia e agilidade no trabalho\n",
        "\n",
        "# **Por que Python?**\n",
        "\n",
        "- Simples e fácil de aprender\n",
        "- Grande comunidade\n",
        "- Versatilidade e diversas aplicações: Desenvolvimento web, ciência de dados, inteligência artificial, desenvolvimento de jogos e etc.\n",
        "- Bem aceita no mercado de trabalho\n",
        "\n",
        "## **Por que iremos utilizar o Google Colab?**\n",
        "\n",
        "O Google Colab é um ambiente de armazenamento em nuvem de notebooks, executado diretamente no navegador, sem a necessidade de nenhum tipo de instalação de software em máquina. Os notebooks permitem combinar códigos executáveis (por exemplo, códigos em Python) com textos e imagens utilizando Markdown.\n"
      ]
    },
    {
      "cell_type": "markdown",
      "metadata": {
        "id": "lfBH5Bg560-r"
      },
      "source": [
        "#**Tipos de dados**\n",
        "\n",
        "## **Numéricos:**\n",
        "\n",
        "- Inteiros (int) -> números sem casa decimal: 9, 7, -4\n",
        "\n",
        "- Reais (float) -> números com casa decimal: 3.14, 600.4, 0.0\n",
        "\n",
        "\n",
        "## **Não numéricos:**\n",
        "- Texto/String (str): \"Python\", \"Maria Clara\", \"96785-202\"\n",
        "\n",
        "- Lógicos (bool): True ou False"
      ]
    },
    {
      "cell_type": "markdown",
      "metadata": {
        "id": "UsULgYTM-Y1l"
      },
      "source": [
        "## **Variáveis e identificadores**\n",
        "\n",
        "Variáveis são locais onde armazenamos valores na memória. De modo geral, **as variáveis são elementos básicos na programação que armazenam os dados que precisamos no nosso algoritmo.**\n",
        "\n",
        "Toda variável será caracterizada por um nome (que a identifica em um programa) e por um tipo.\n",
        "\n",
        "**Identificador** é um nome dado para variáveis, constantes e funções.\n",
        "\n",
        "Em Python, um identificador pode conter apenas:\n",
        "\n",
        "- Letras de A a Z (maiúsculas e minúsculas)\n",
        "- Os dígitos de 0 a 9\n",
        "- O símbolo underscore _\n",
        "\n",
        "Regras para identificadores em Python:\n",
        "\n",
        "- O identificador deve começar obrigatoriamente com uma letra ou underscore.\n",
        "\n",
        "- Não deve conter espaços, caracteres especiais ou letras acentuadas.\n",
        "\n",
        "- Python faz diferenciação entre maiúsculas e minúsculas.\n",
        "\n"
      ]
    },
    {
      "cell_type": "markdown",
      "metadata": {
        "id": "YFNyHNBQuI7j"
      },
      "source": [
        "\n",
        "Faça um programa que pergunte seu nome e armazene essa entrada/input na variável nome. Após, utilizando a variável criada, retorne uma mensagem em tela seguindo esse formato:\n",
        "\n",
        "---\n",
        "\n"
      ]
    },
    {
      "cell_type": "code",
      "metadata": {
        "colab": {
          "base_uri": "https://localhost:8080/"
        },
        "id": "DnicIRw2_fMp",
        "outputId": "f663bf1f-4939-4a3e-9d89-401f334a6cd1"
      },
      "source": [
        "print('Hello, world!')"
      ],
      "execution_count": 62,
      "outputs": [
        {
          "output_type": "stream",
          "text": [
            "Hello, world!\n"
          ],
          "name": "stdout"
        }
      ]
    },
    {
      "cell_type": "code",
      "metadata": {
        "colab": {
          "base_uri": "https://localhost:8080/"
        },
        "id": "qRjSFP4a_fJT",
        "outputId": "a4ee0866-0c41-404a-b9ce-71a4b67efc03"
      },
      "source": [
        "\n",
        "mensagem = 'Hello, world!'\n",
        "print(mensagem)\n"
      ],
      "execution_count": 64,
      "outputs": [
        {
          "output_type": "stream",
          "text": [
            "Hello, world!\n"
          ],
          "name": "stdout"
        }
      ]
    },
    {
      "cell_type": "code",
      "metadata": {
        "colab": {
          "base_uri": "https://localhost:8080/"
        },
        "id": "TdwedSw2_fFo",
        "outputId": "0a86ace3-0ce0-42f1-ec30-2b164c4e9f10"
      },
      "source": [
        "mensagem = 'Hello, world!'\n",
        "print('mensagem')"
      ],
      "execution_count": 65,
      "outputs": [
        {
          "output_type": "stream",
          "text": [
            "mensagem\n"
          ],
          "name": "stdout"
        }
      ]
    },
    {
      "cell_type": "code",
      "metadata": {
        "colab": {
          "base_uri": "https://localhost:8080/"
        },
        "id": "Y9RN_4FR_fDS",
        "outputId": "4320c3cc-57bb-480a-e3ba-420065fcff17"
      },
      "source": [
        "type(mensagem)"
      ],
      "execution_count": 66,
      "outputs": [
        {
          "output_type": "execute_result",
          "data": {
            "text/plain": [
              "str"
            ]
          },
          "metadata": {
            "tags": []
          },
          "execution_count": 66
        }
      ]
    },
    {
      "cell_type": "code",
      "metadata": {
        "colab": {
          "base_uri": "https://localhost:8080/"
        },
        "id": "7MwJocel_e9c",
        "outputId": "6642a2a1-8257-4c29-c3ba-e6ad0da74f83"
      },
      "source": [
        "print(mensagem, 'Estou aprendendo a programar.')"
      ],
      "execution_count": 67,
      "outputs": [
        {
          "output_type": "stream",
          "text": [
            "Hello, world! Estou aprendendo a programar.\n"
          ],
          "name": "stdout"
        }
      ]
    },
    {
      "cell_type": "code",
      "metadata": {
        "colab": {
          "base_uri": "https://localhost:8080/"
        },
        "id": "9uOpab3L_e0P",
        "outputId": "bf140ad9-1844-408c-f1f3-dc8f8ab20c37"
      },
      "source": [
        "nome = 'Maria'\n",
        "print(nome)"
      ],
      "execution_count": 68,
      "outputs": [
        {
          "output_type": "stream",
          "text": [
            "Maria\n"
          ],
          "name": "stdout"
        }
      ]
    },
    {
      "cell_type": "code",
      "metadata": {
        "colab": {
          "base_uri": "https://localhost:8080/",
          "height": 129
        },
        "id": "KWdYU1Ai_ex-",
        "outputId": "c632810d-4c50-419d-9e4e-e289302aa68d"
      },
      "source": [
        "meu nome = 'Maria' #Erro devido ao espaço no identicador\n",
        "print(meu nome)"
      ],
      "execution_count": 69,
      "outputs": [
        {
          "output_type": "error",
          "ename": "SyntaxError",
          "evalue": "ignored",
          "traceback": [
            "\u001b[0;36m  File \u001b[0;32m\"<ipython-input-69-0af47fa31033>\"\u001b[0;36m, line \u001b[0;32m1\u001b[0m\n\u001b[0;31m    meu nome = 'Maria'\u001b[0m\n\u001b[0m           ^\u001b[0m\n\u001b[0;31mSyntaxError\u001b[0m\u001b[0;31m:\u001b[0m invalid syntax\n"
          ]
        }
      ]
    },
    {
      "cell_type": "code",
      "metadata": {
        "colab": {
          "base_uri": "https://localhost:8080/"
        },
        "id": "PgpRjli5_euI",
        "outputId": "2c01609d-6892-43f8-f1dc-1b289c208a6a"
      },
      "source": [
        "meu_nome = 'Maria'\n",
        "print(meu_nome)"
      ],
      "execution_count": 70,
      "outputs": [
        {
          "output_type": "stream",
          "text": [
            "Maria\n"
          ],
          "name": "stdout"
        }
      ]
    },
    {
      "cell_type": "code",
      "metadata": {
        "colab": {
          "base_uri": "https://localhost:8080/"
        },
        "id": "V0OXoz2__erE",
        "outputId": "80d63eb2-879c-4f8d-b98e-805fa0e8acd9"
      },
      "source": [
        "nome = 'Maria'\n",
        "print('Hello', nome, '!')"
      ],
      "execution_count": 71,
      "outputs": [
        {
          "output_type": "stream",
          "text": [
            "Hello Maria !\n"
          ],
          "name": "stdout"
        }
      ]
    },
    {
      "cell_type": "code",
      "metadata": {
        "colab": {
          "base_uri": "https://localhost:8080/"
        },
        "id": "FTTgEEOH_enn",
        "outputId": "8822f657-6973-4cee-fafd-880323ad3da7"
      },
      "source": [
        "\n",
        "salario = 1245.30\n",
        "type(salario)"
      ],
      "execution_count": 72,
      "outputs": [
        {
          "output_type": "execute_result",
          "data": {
            "text/plain": [
              "float"
            ]
          },
          "metadata": {
            "tags": []
          },
          "execution_count": 72
        }
      ]
    },
    {
      "cell_type": "code",
      "metadata": {
        "colab": {
          "base_uri": "https://localhost:8080/"
        },
        "id": "JEB8TDw6_ekf",
        "outputId": "ffcaf31f-f982-4979-9993-2f9f9d52c60d"
      },
      "source": [
        "print('O meu salário é:', salario)"
      ],
      "execution_count": 73,
      "outputs": [
        {
          "output_type": "stream",
          "text": [
            "O meu salário é: 1245.3\n"
          ],
          "name": "stdout"
        }
      ]
    },
    {
      "cell_type": "code",
      "metadata": {
        "colab": {
          "base_uri": "https://localhost:8080/",
          "height": 129
        },
        "id": "3X_nOaAe_ehL",
        "outputId": "f3f69c21-8155-478a-c852-ad9847ccfe9c"
      },
      "source": [
        "salário$ = 1000 #Erro devido ao caractere especial que não pode ser usado. \n",
        "type(salário$)"
      ],
      "execution_count": 74,
      "outputs": [
        {
          "output_type": "error",
          "ename": "SyntaxError",
          "evalue": "ignored",
          "traceback": [
            "\u001b[0;36m  File \u001b[0;32m\"<ipython-input-74-f7c01813481f>\"\u001b[0;36m, line \u001b[0;32m1\u001b[0m\n\u001b[0;31m    salário$ = 1000\u001b[0m\n\u001b[0m           ^\u001b[0m\n\u001b[0;31mSyntaxError\u001b[0m\u001b[0;31m:\u001b[0m invalid syntax\n"
          ]
        }
      ]
    },
    {
      "cell_type": "code",
      "metadata": {
        "colab": {
          "base_uri": "https://localhost:8080/"
        },
        "id": "K99w9BJw_edw",
        "outputId": "bede8f47-d86f-4965-a67a-443fd3a32a1c"
      },
      "source": [
        "\n",
        "idade = 22\n",
        "IDADE = 23\n",
        "print(idade)\n",
        "print(IDADE)"
      ],
      "execution_count": 75,
      "outputs": [
        {
          "output_type": "stream",
          "text": [
            "22\n",
            "23\n"
          ],
          "name": "stdout"
        }
      ]
    },
    {
      "cell_type": "code",
      "metadata": {
        "colab": {
          "base_uri": "https://localhost:8080/"
        },
        "id": "HrleYJ_u_eaD",
        "outputId": "ea3c3545-be8a-43ee-bf3f-3801ddd40642"
      },
      "source": [
        "\n",
        "nome = 'Maria'\n",
        "print('Hello, {}!'.format(nome))"
      ],
      "execution_count": 76,
      "outputs": [
        {
          "output_type": "stream",
          "text": [
            "Hello, Maria!\n"
          ],
          "name": "stdout"
        }
      ]
    },
    {
      "cell_type": "code",
      "metadata": {
        "colab": {
          "base_uri": "https://localhost:8080/"
        },
        "id": "57nYcge0_eWq",
        "outputId": "4bf82fb4-50f8-498f-dc50-c6cc00d91ee4"
      },
      "source": [
        "idade = 24\n",
        "print('Minha idade é: {}'.format(idade))"
      ],
      "execution_count": 77,
      "outputs": [
        {
          "output_type": "stream",
          "text": [
            "Minha idade é: 24\n"
          ],
          "name": "stdout"
        }
      ]
    },
    {
      "cell_type": "code",
      "metadata": {
        "colab": {
          "base_uri": "https://localhost:8080/"
        },
        "id": "hll0sTxM_eOS",
        "outputId": "4413dff1-9786-4001-a012-613a88b270c6"
      },
      "source": [
        "print('Olá, meu nome é {} e eu tenho {} anos.'.format(nome, idade))"
      ],
      "execution_count": 78,
      "outputs": [
        {
          "output_type": "stream",
          "text": [
            "Olá, meu nome é Maria e eu tenho 24 anos.\n"
          ],
          "name": "stdout"
        }
      ]
    },
    {
      "cell_type": "markdown",
      "metadata": {
        "id": "C-coIg1YA-w_"
      },
      "source": [
        "Armazene as informações abaixo em variáveis com suas informações e descubra o tipo de dado de cada uma delas:\n",
        "\n",
        "- Nome\n",
        "- Idade\n",
        "- Altura (em cm)\n",
        "- Estado civil\n",
        "- Número do sapato\n",
        "- Você tem CNH?\n"
      ]
    },
    {
      "cell_type": "code",
      "metadata": {
        "colab": {
          "base_uri": "https://localhost:8080/"
        },
        "id": "RWb-JomXA9rh",
        "outputId": "53132a3b-8b2d-4202-ad1b-f705b71b4af0"
      },
      "source": [
        "Nome = 'Maria'\n",
        "type(nome)"
      ],
      "execution_count": 79,
      "outputs": [
        {
          "output_type": "execute_result",
          "data": {
            "text/plain": [
              "str"
            ]
          },
          "metadata": {
            "tags": []
          },
          "execution_count": 79
        }
      ]
    },
    {
      "cell_type": "code",
      "metadata": {
        "colab": {
          "base_uri": "https://localhost:8080/"
        },
        "id": "dt_iKD70A9p4",
        "outputId": "a7b17a52-2bd8-442f-d174-1986302d98bd"
      },
      "source": [
        "idade = 24\n",
        "type(idade)"
      ],
      "execution_count": 80,
      "outputs": [
        {
          "output_type": "execute_result",
          "data": {
            "text/plain": [
              "int"
            ]
          },
          "metadata": {
            "tags": []
          },
          "execution_count": 80
        }
      ]
    },
    {
      "cell_type": "code",
      "metadata": {
        "colab": {
          "base_uri": "https://localhost:8080/"
        },
        "id": "5I5yuLCFA9nD",
        "outputId": "edddc7e4-fba8-488f-f318-ca299d29a2aa"
      },
      "source": [
        "altura = 1.66\n",
        "type(altura)"
      ],
      "execution_count": 81,
      "outputs": [
        {
          "output_type": "execute_result",
          "data": {
            "text/plain": [
              "float"
            ]
          },
          "metadata": {
            "tags": []
          },
          "execution_count": 81
        }
      ]
    },
    {
      "cell_type": "code",
      "metadata": {
        "colab": {
          "base_uri": "https://localhost:8080/"
        },
        "id": "MkEXGgSMA9j_",
        "outputId": "4437e886-a216-4ad9-8a9d-525e0516f7c4"
      },
      "source": [
        "estado_civil = 'solteira'\n",
        "type(estado_civil)"
      ],
      "execution_count": 82,
      "outputs": [
        {
          "output_type": "execute_result",
          "data": {
            "text/plain": [
              "str"
            ]
          },
          "metadata": {
            "tags": []
          },
          "execution_count": 82
        }
      ]
    },
    {
      "cell_type": "code",
      "metadata": {
        "colab": {
          "base_uri": "https://localhost:8080/"
        },
        "id": "LiMShYClA9gX",
        "outputId": "94d5baf6-1883-43bc-e7e1-0280b182e5ed"
      },
      "source": [
        "sapato = 36\n",
        "type(sapato)"
      ],
      "execution_count": 83,
      "outputs": [
        {
          "output_type": "execute_result",
          "data": {
            "text/plain": [
              "int"
            ]
          },
          "metadata": {
            "tags": []
          },
          "execution_count": 83
        }
      ]
    },
    {
      "cell_type": "code",
      "metadata": {
        "colab": {
          "base_uri": "https://localhost:8080/"
        },
        "id": "v6PyUFUvA9cN",
        "outputId": "b3ef63c2-bfd7-4d4f-ba6e-4f639e85644a"
      },
      "source": [
        "cnh = True\n",
        "type(cnh)"
      ],
      "execution_count": 85,
      "outputs": [
        {
          "output_type": "execute_result",
          "data": {
            "text/plain": [
              "bool"
            ]
          },
          "metadata": {
            "tags": []
          },
          "execution_count": 85
        }
      ]
    },
    {
      "cell_type": "markdown",
      "metadata": {
        "id": "xnz7K_BtaU4J"
      },
      "source": [
        "# **Operadores aritméticos**\n",
        "\n",
        "![PY.JPG](data:image/jpeg;base64,/9j/4AAQSkZJRgABAQEAYABgAAD/4RDcRXhpZgAATU0AKgAAAAgABAE7AAIAAAAGAAAISodpAAQAAAABAAAIUJydAAEAAAAMAAAQyOocAAcAAAgMAAAAPgAAAAAc6gAAAAgAAAAAAAAAAAAAAAAAAAAAAAAAAAAAAAAAAAAAAAAAAAAAAAAAAAAAAAAAAAAAAAAAAAAAAAAAAAAAAAAAAAAAAAAAAAAAAAAAAAAAAAAAAAAAAAAAAAAAAAAAAAAAAAAAAAAAAAAAAAAAAAAAAAAAAAAAAAAAAAAAAAAAAAAAAAAAAAAAAAAAAAAAAAAAAAAAAAAAAAAAAAAAAAAAAAAAAAAAAAAAAAAAAAAAAAAAAAAAAAAAAAAAAAAAAAAAAAAAAAAAAAAAAAAAAAAAAAAAAAAAAAAAAAAAAAAAAAAAAAAAAAAAAAAAAAAAAAAAAAAAAAAAAAAAAAAAAAAAAAAAAAAAAAAAAAAAAAAAAAAAAAAAAAAAAAAAAAAAAAAAAAAAAAAAAAAAAAAAAAAAAAAAAAAAAAAAAAAAAAAAAAAAAAAAAAAAAAAAAAAAAAAAAAAAAAAAAAAAAAAAAAAAAAAAAAAAAAAAAAAAAAAAAAAAAAAAAAAAAAAAAAAAAAAAAAAAAAAAAAAAAAAAAAAAAAAAAAAAAAAAAAAAAAAAAAAAAAAAAAAAAAAAAAAAAAAAAAAAAAAAAAAAAAAAAAAAAAAAAAAAAAAAAAAAAAAAAAAAAAAAAAAAAAAAAAAAAAAAAAAAAAAAAAAAAAAAAAAAAAAAAAAAAAAAAAAAAAAAAAAAAAAAAAAAAAAAAAAAAAAAAAAAAAAAAAAAAAAAAAAAAAAAAAAAAAAAAAAAAAAAAAAAAAAAAAAAAAAAAAAAAAAAAAAAAAAAAAAAAAAAAAAAAAAAAAAAAAAAAAAAAAAAAAAAAAAAAAAAAAAAAAAAAAAAAAAAAAAAAAAAAAAAAAAAAAAAAAAAAAAAAAAAAAAAAAAAAAAAAAAAAAAAAAAAAAAAAAAAAAAAAAAAAAAAAAAAAAAAAAAAAAAAAAAAAAAAAAAAAAAAAAAAAAAAAAAAAAAAAAAAAAAAAAAAAAAAAAAAAAAAAAAAAAAAAAAAAAAAAAAAAAAAAAAAAAAAAAAAAAAAAAAAAAAAAAAAAAAAAAAAAAAAAAAAAAAAAAAAAAAAAAAAAAAAAAAAAAAAAAAAAAAAAAAAAAAAAAAAAAAAAAAAAAAAAAAAAAAAAAAAAAAAAAAAAAAAAAAAAAAAAAAAAAAAAAAAAAAAAAAAAAAAAAAAAAAAAAAAAAAAAAAAAAAAAAAAAAAAAAAAAAAAAAAAAAAAAAAAAAAAAAAAAAAAAAAAAAAAAAAAAAAAAAAAAAAAAAAAAAAAAAAAAAAAAAAAAAAAAAAAAAAAAAAAAAAAAAAAAAAAAAAAAAAAAAAAAAAAAAAAAAAAAAAAAAAAAAAAAAAAAAAAAAAAAAAAAAAAAAAAAAAAAAAAAAAAAAAAAAAAAAAAAAAAAAAAAAAAAAAAAAAAAAAAAAAAAAAAAAAAAAAAAAAAAAAAAAAAAAAAAAAAAAAAAAAAAAAAAAAAAAAAAAAAAAAAAAAAAAAAAAAAAAAAAAAAAAAAAAAAAAAAAAAAAAAAAAAAAAAAAAAAAAAAAAAAAAAAAAAAAAAAAAAAAAAAAAAAAAAAAAAAAAAAAAAAAAAAAAAAAAAAAAAAAAAAAAAAAAAAAAAAAAAAAAAAAAAAAAAAAAAAAAAAAAAAAAAAAAAAAAAAAAAAAAAAAAAAAAAAAAAAAAAAAAAAAAAAAAAAAAAAAAAAAAAAAAAAAAAAAAAAAAAAAAAAAAAAAAAAAAAAAAAAAAAAAAAAAAAAAAAAAAAAAAAAAAAAAAAAAAAAAAAAAAAAAAAAAAAAAAAAAAAAAAAAAAAAAAAAAAAAAAAAAAAAAAAAAAAAAAAAAAAAAAAAAAAAAAAAAAAAAAAAAAAAAAAAAAAAAAAAAAAAAAAAAAAAAAAAAAAAAAAAAAAAAAAAAAAAAAAAAAAAAAAAAAAAAAAAAAAAAAAAAAAAAAAAAAAAAAAAAAAAAAAAAAAAAAAAAAAAAAAAAAAAAAAAAAAAAAAAAAAAAAAAAAAAAAAAAAAAAAAAAAAAAAAAAAAAAAAAAAAAAAAAAAAAAAAAAAAAAAAAAAAAAAAAAAAAAAAAAAAAAAAAAAAAAAAAAAAAAAAAAAAAAAAAAAAAAAAAAAAAAAAAAAAAAAAAAAAAAAAAAAAAAAAAAAAAAAAAAAAAAAAAAAAAAAAAAAAAAAAAAAAAAAAAAAAAAAAAAAAAAAAAAAAAAAAAAAAAAAAAAAAAAAAAAAAAAAAAAAAAAAAAAAAAAAAAAAAAAAAAAAAAAAAAAAAAAAAAAAAAAAAAAAAAAAAAAAAAAAAAAAAAAAAAAAAAAAAAAAAAAAAAAAAAAAAAAAAAAAAAAAAAAAAAAAAAAAAAAAAAAAAAAAAAAAAAAAAAAAAAAAAAAAAAAAAAAAAAAAAAAAAAAAAAAAAAAAAAAAAAAAAAAAAAAAAAAAAAAAAAAAAAAAAAAAAAAAAAAAAAAAAAAAAAAAAAAAAAAAAAAAAAAAAAAAAAAAAAAAAAAAAAAAAAAAAAAAAAAAAAAAAAAAAAAAAAAAAAAAAAAAAAAAAAAAAAAAAAAAAAAAAAAAAAAAAAAAAAAAAAAAAAAAAAAAAAAAAAAAAAAAAAAAAAAAAAAAAAAAAAAAAAAAAAAAAAAAAAAAAAAAAAAAAAAAAAAAAAAAAAAAAAAAAAAAAAAAAAAAAAAAAAAAAAAAAAAAAAAAAAAAAAAAAAAAAAAAAAAAAAAAAAAAAAAAAAAAAAAAAAAAAAAAAAAGNyaXN0AAAFkAMAAgAAABQAABCekAQAAgAAABQAABCykpEAAgAAAAM2NwAAkpIAAgAAAAM2NwAA6hwABwAACAwAAAiSAAAAABzqAAAACAAAAAAAAAAAAAAAAAAAAAAAAAAAAAAAAAAAAAAAAAAAAAAAAAAAAAAAAAAAAAAAAAAAAAAAAAAAAAAAAAAAAAAAAAAAAAAAAAAAAAAAAAAAAAAAAAAAAAAAAAAAAAAAAAAAAAAAAAAAAAAAAAAAAAAAAAAAAAAAAAAAAAAAAAAAAAAAAAAAAAAAAAAAAAAAAAAAAAAAAAAAAAAAAAAAAAAAAAAAAAAAAAAAAAAAAAAAAAAAAAAAAAAAAAAAAAAAAAAAAAAAAAAAAAAAAAAAAAAAAAAAAAAAAAAAAAAAAAAAAAAAAAAAAAAAAAAAAAAAAAAAAAAAAAAAAAAAAAAAAAAAAAAAAAAAAAAAAAAAAAAAAAAAAAAAAAAAAAAAAAAAAAAAAAAAAAAAAAAAAAAAAAAAAAAAAAAAAAAAAAAAAAAAAAAAAAAAAAAAAAAAAAAAAAAAAAAAAAAAAAAAAAAAAAAAAAAAAAAAAAAAAAAAAAAAAAAAAAAAAAAAAAAAAAAAAAAAAAAAAAAAAAAAAAAAAAAAAAAAAAAAAAAAAAAAAAAAAAAAAAAAAAAAAAAAAAAAAAAAAAAAAAAAAAAAAAAAAAAAAAAAAAAAAAAAAAAAAAAAAAAAAAAAAAAAAAAAAAAAAAAAAAAAAAAAAAAAAAAAAAAAAAAAAAAAAAAAAAAAAAAAAAAAAAAAAAAAAAAAAAAAAAAAAAAAAAAAAAAAAAAAAAAAAAAAAAAAAAAAAAAAAAAAAAAAAAAAAAAAAAAAAAAAAAAAAAAAAAAAAAAAAAAAAAAAAAAAAAAAAAAAAAAAAAAAAAAAAAAAAAAAAAAAAAAAAAAAAAAAAAAAAAAAAAAAAAAAAAAAAAAAAAAAAAAAAAAAAAAAAAAAAAAAAAAAAAAAAAAAAAAAAAAAAAAAAAAAAAAAAAAAAAAAAAAAAAAAAAAAAAAAAAAAAAAAAAAAAAAAAAAAAAAAAAAAAAAAAAAAAAAAAAAAAAAAAAAAAAAAAAAAAAAAAAAAAAAAAAAAAAAAAAAAAAAAAAAAAAAAAAAAAAAAAAAAAAAAAAAAAAAAAAAAAAAAAAAAAAAAAAAAAAAAAAAAAAAAAAAAAAAAAAAAAAAAAAAAAAAAAAAAAAAAAAAAAAAAAAAAAAAAAAAAAAAAAAAAAAAAAAAAAAAAAAAAAAAAAAAAAAAAAAAAAAAAAAAAAAAAAAAAAAAAAAAAAAAAAAAAAAAAAAAAAAAAAAAAAAAAAAAAAAAAAAAAAAAAAAAAAAAAAAAAAAAAAAAAAAAAAAAAAAAAAAAAAAAAAAAAAAAAAAAAAAAAAAAAAAAAAAAAAAAAAAAAAAAAAAAAAAAAAAAAAAAAAAAAAAAAAAAAAAAAAAAAAAAAAAAAAAAAAAAAAAAAAAAAAAAAAAAAAAAAAAAAAAAAAAAAAAAAAAAAAAAAAAAAAAAAAAAAAAAAAAAAAAAAAAAAAAAAAAAAAAAAAAAAAAAAAAAAAAAAAAAAAAAAAAAAAAAAAAAAAAAAAAAAAAAAAAAAAAAAAAAAAAAAAAAAAAAAAAAAAAAAAAAAAAAAAAAAAAAAAAAAAAAAAAAAAAAAAAAAAAAAAAAAAAAAAAAAAAAAAAAAAAAAAAAAAAAAAAAAAAAAAAAAAAAAAAAAAAAAAAAAAAAAAAAAAAAAAAAAAAAAAAAAAAAAAAAAAAAAAAAAAAAAAAAAAAAAAAAAAAAAAAAAAAAAAAAAAAAAAAAAAAAAAAAAAAAAAAAAAAAAAAAAAAAAAAAAAAAAAAAAAAAAAAAAAAAAAAAAAAAAAAAAAAAAAAAAAAAAAAAAAAAAAAAAAAAAAAAAAAAAAAAAAAAAAAAAAAAAAAAAAAAAAAAAAAAAAAAAAAAAAAAAAAAAAAAAAAAAAAAAAAAAAAAAAAAAAAAAAAAAAAAAAAAAAAAAAAAAAAAAAAAAAAAAAAAAAAAAAAAAAAAAAAAAAAAAAAAAAAAAAAAAAAAAAAAAAAAAAAAAAAAAAAAAAAAAAAAAAAAAAAAAAAAAAAAAAAAAAAAAAAAAAAAAAAAAAAAAAAAAAAAAAAAAAAAAAAAAAAAAAAAAAAAAAAAAAAAAAAAAAAAAAAAAAAAAAAAAAAAAAAAAAAAAAAAAAAAAAAAAAAAAAAAAAAAAAAAAAAAAAAAAAAAAAAAAAAAAAAAAAAAAAAAAAAAAAAAAAAAAAAAAAAAAAAAAAAAAAAAAAAAAAAAAAAAAAAAAAAAAAAAAAAAAAAAAAAAAAAAAAAAAAAAAAAAAAAAAAAAAAAAAAAAAAAAAAAAAAAAAAAAAAAAAAAAAAAAAAAAAAAAAAAAAAAAAAAAAAAAAAAAAAAAAAAAAAAAAAAAAAAAAAAAAAAAAAAAAAAAAAAAAAAAAAAAAAAAAAAAAAAAAAAAAAAAAAAAAAAAAAAAAAAAAAAAAAAAAAAAAAAAAAAAAAAAAAAAAAAAAAAAAAAAAAAAAAAAAAAAAAAAAAAAAAAAAAAAAAAAAAAAAAAAAAAAAAAAAAAAAAAAAAAAAAAAAAAAAAAAAAAAAAAAAAAAAAAAAAAAAAAAAAAAAAAAAAAAAAAAAAAAAAAAAAAAAAAAAAAAAAAAAAAAAAAAAAAAAAAAAAAAAAAAAAAAAAAAAAAAAAAAAAAAAAAAAAAAAAAAAAAAAAAAAAAAAAAAAAAAAAAAAAAAAAAAAAAAAAAAAAAAAAAAAAAAAAAAAAAAAAAAAAAAAAAAAAAAAAAAAAAAAAAAAMjAyMTowNToyMCAxNToyOToyOQAyMDIxOjA1OjIwIDE1OjI5OjI5AAAAYwByAGkAcwB0AAAA/+ELGGh0dHA6Ly9ucy5hZG9iZS5jb20veGFwLzEuMC8APD94cGFja2V0IGJlZ2luPSfvu78nIGlkPSdXNU0wTXBDZWhpSHpyZVN6TlRjemtjOWQnPz4NCjx4OnhtcG1ldGEgeG1sbnM6eD0iYWRvYmU6bnM6bWV0YS8iPjxyZGY6UkRGIHhtbG5zOnJkZj0iaHR0cDovL3d3dy53My5vcmcvMTk5OS8wMi8yMi1yZGYtc3ludGF4LW5zIyI+PHJkZjpEZXNjcmlwdGlvbiByZGY6YWJvdXQ9InV1aWQ6ZmFmNWJkZDUtYmEzZC0xMWRhLWFkMzEtZDMzZDc1MTgyZjFiIiB4bWxuczpkYz0iaHR0cDovL3B1cmwub3JnL2RjL2VsZW1lbnRzLzEuMS8iLz48cmRmOkRlc2NyaXB0aW9uIHJkZjphYm91dD0idXVpZDpmYWY1YmRkNS1iYTNkLTExZGEtYWQzMS1kMzNkNzUxODJmMWIiIHhtbG5zOnhtcD0iaHR0cDovL25zLmFkb2JlLmNvbS94YXAvMS4wLyI+PHhtcDpDcmVhdGVEYXRlPjIwMjEtMDUtMjBUMTU6Mjk6MjkuNjcxPC94bXA6Q3JlYXRlRGF0ZT48L3JkZjpEZXNjcmlwdGlvbj48cmRmOkRlc2NyaXB0aW9uIHJkZjphYm91dD0idXVpZDpmYWY1YmRkNS1iYTNkLTExZGEtYWQzMS1kMzNkNzUxODJmMWIiIHhtbG5zOmRjPSJodHRwOi8vcHVybC5vcmcvZGMvZWxlbWVudHMvMS4xLyI+PGRjOmNyZWF0b3I+PHJkZjpTZXEgeG1sbnM6cmRmPSJodHRwOi8vd3d3LnczLm9yZy8xOTk5LzAyLzIyLXJkZi1zeW50YXgtbnMjIj48cmRmOmxpPmNyaXN0PC9yZGY6bGk+PC9yZGY6U2VxPg0KCQkJPC9kYzpjcmVhdG9yPjwvcmRmOkRlc2NyaXB0aW9uPjwvcmRmOlJERj48L3g6eG1wbWV0YT4NCiAgICAgICAgICAgICAgICAgICAgICAgICAgICAgICAgICAgICAgICAgICAgICAgICAgICAgICAgICAgICAgICAgICAgICAgICAgICAgICAgICAgICAgICAgICAgICAgICAgICAKICAgICAgICAgICAgICAgICAgICAgICAgICAgICAgICAgICAgICAgICAgICAgICAgICAgICAgICAgICAgICAgICAgICAgICAgICAgICAgICAgICAgICAgICAgICAgICAgICAgIAogICAgICAgICAgICAgICAgICAgICAgICAgICAgICAgICAgICAgICAgICAgICAgICAgICAgICAgICAgICAgICAgICAgICAgICAgICAgICAgICAgICAgICAgICAgICAgICAgICAgCiAgICAgICAgICAgICAgICAgICAgICAgICAgICAgICAgICAgICAgICAgICAgICAgICAgICAgICAgICAgICAgICAgICAgICAgICAgICAgICAgICAgICAgICAgICAgICAgICAgICAKICAgICAgICAgICAgICAgICAgICAgICAgICAgICAgICAgICAgICAgICAgICAgICAgICAgICAgICAgICAgICAgICAgICAgICAgICAgICAgICAgICAgICAgICAgICAgICAgICAgIAogICAgICAgICAgICAgICAgICAgICAgICAgICAgICAgICAgICAgICAgICAgICAgICAgICAgICAgICAgICAgICAgICAgICAgICAgICAgICAgICAgICAgICAgICAgICAgICAgICAgCiAgICAgICAgICAgICAgICAgICAgICAgICAgICAgICAgICAgICAgICAgICAgICAgICAgICAgICAgICAgICAgICAgICAgICAgICAgICAgICAgICAgICAgICAgICAgICAgICAgICAKICAgICAgICAgICAgICAgICAgICAgICAgICAgICAgICAgICAgICAgICAgICAgICAgICAgICAgICAgICAgICAgICAgICAgICAgICAgICAgICAgICAgICAgICAgICAgICAgICAgIAogICAgICAgICAgICAgICAgICAgICAgICAgICAgICAgICAgICAgICAgICAgICAgICAgICAgICAgICAgICAgICAgICAgICAgICAgICAgICAgICAgICAgICAgICAgICAgICAgICAgCiAgICAgICAgICAgICAgICAgICAgICAgICAgICAgICAgICAgICAgICAgICAgICAgICAgICAgICAgICAgICAgICAgICAgICAgICAgICAgICAgICAgICAgICAgICAgICAgICAgICAKICAgICAgICAgICAgICAgICAgICAgICAgICAgICAgICAgICAgICAgICAgICAgICAgICAgICAgICAgICAgICAgICAgICAgICAgICAgICAgICAgICAgICAgICAgICAgICAgICAgIAogICAgICAgICAgICAgICAgICAgICAgICAgICAgICAgICAgICAgICAgICAgICAgICAgICAgICAgICAgICAgICAgICAgICAgICAgICAgICAgICAgICAgICAgICAgICAgICAgICAgCiAgICAgICAgICAgICAgICAgICAgICAgICAgICAgICAgICAgICAgICAgICAgICAgICAgICAgICAgICAgICAgICAgICAgICAgICAgICAgICAgICAgICAgICAgICAgICAgICAgICAKICAgICAgICAgICAgICAgICAgICAgICAgICAgICAgICAgICAgICAgICAgICAgICAgICAgICAgICAgICAgICAgICAgICAgICAgICAgICAgICAgICAgICAgICAgICAgICAgICAgIAogICAgICAgICAgICAgICAgICAgICAgICAgICAgICAgICAgICAgICAgICAgICAgICAgICAgICAgICAgICAgICAgICAgICAgICAgICAgICAgICAgICAgICAgICAgICAgICAgICAgCiAgICAgICAgICAgICAgICAgICAgICAgICAgICAgICAgICAgICAgICAgICAgICAgICAgICAgICAgICAgICAgICAgICAgICAgICAgICAgICAgICAgICAgICAgICAgICAgICAgICAKICAgICAgICAgICAgICAgICAgICAgICAgICAgICAgICAgICAgICAgICAgICAgICAgICAgICAgICAgICAgICAgICAgICAgICAgICAgICAgICAgICAgICAgICAgICAgICAgICAgIAogICAgICAgICAgICAgICAgICAgICAgICAgICAgICAgICAgICAgICAgICAgICAgICAgICAgICAgICAgICAgICAgICAgICAgICAgICAgICAgICAgICAgICAgICAgICAgICAgICAgCiAgICAgICAgICAgICAgICAgICAgICAgICAgICAgICAgICAgICAgICAgICAgICAgICAgICAgICAgICAgICAgICAgICAgICAgICAgICAgICAgICAgICAgICAgICAgICAgICAgICAKICAgICAgICAgICAgICAgICAgICAgICAgICAgICAgICAgICAgICAgICAgICAgICAgICAgICAgICAgICAgICAgICAgICAgICAgICAgICAgICAgICAgICAgICAgICAgICAgICAgIAogICAgICAgICAgICAgICAgICAgICAgICAgICAgPD94cGFja2V0IGVuZD0ndyc/Pv/bAEMABwUFBgUEBwYFBggHBwgKEQsKCQkKFQ8QDBEYFRoZGBUYFxseJyEbHSUdFxgiLiIlKCkrLCsaIC8zLyoyJyorKv/bAEMBBwgICgkKFAsLFCocGBwqKioqKioqKioqKioqKioqKioqKioqKioqKioqKioqKioqKioqKioqKioqKioqKioqKv/AABEIAYUBnQMBIgACEQEDEQH/xAAfAAABBQEBAQEBAQAAAAAAAAAAAQIDBAUGBwgJCgv/xAC1EAACAQMDAgQDBQUEBAAAAX0BAgMABBEFEiExQQYTUWEHInEUMoGRoQgjQrHBFVLR8CQzYnKCCQoWFxgZGiUmJygpKjQ1Njc4OTpDREVGR0hJSlNUVVZXWFlaY2RlZmdoaWpzdHV2d3h5eoOEhYaHiImKkpOUlZaXmJmaoqOkpaanqKmqsrO0tba3uLm6wsPExcbHyMnK0tPU1dbX2Nna4eLj5OXm5+jp6vHy8/T19vf4+fr/xAAfAQADAQEBAQEBAQEBAAAAAAAAAQIDBAUGBwgJCgv/xAC1EQACAQIEBAMEBwUEBAABAncAAQIDEQQFITEGEkFRB2FxEyIygQgUQpGhscEJIzNS8BVictEKFiQ04SXxFxgZGiYnKCkqNTY3ODk6Q0RFRkdISUpTVFVWV1hZWmNkZWZnaGlqc3R1dnd4eXqCg4SFhoeIiYqSk5SVlpeYmZqio6Slpqeoqaqys7S1tre4ubrCw8TFxsfIycrS09TV1tfY2dri4+Tl5ufo6ery8/T19vf4+fr/2gAMAwEAAhEDEQA/APUfBXhOy1fwD4f1LUNQ8QTXd5pltPPJ/wAJFfrvd4lZjgTADJJ4AxW5/wAIHpH/AD+eIP8Awo9Q/wDj9Hw4/wCSWeFP+wLZ/wDohK19T1nTNEthcazqNpp8BOBLdzrEpPpliBQBkf8ACB6R/wA/niD/AMKPUP8A4/R/wgekf8/niD/wo9Q/+P1tafqdhq9ot1pV7bX1u3Sa2lWRD/wJSRVqgDm/+ED0j/n88Qf+FHqH/wAfo/4QPSP+fzxB/wCFHqH/AMfrpKKAOb/4QPSP+fzxB/4Ueof/AB+j/hA9I/5/PEH/AIUeof8Ax+ukooA5v/hA9I/5/PEH/hR6h/8AH6P+ED0j/n88Qf8AhR6h/wDH66Sqep6xpmiwJNrGo2mnxSOI0kup1iVnPRQWIyeDxQBj/wDCB6R/z+eIP/Cj1D/4/R/wgekf8/niD/wo9Q/+P10lFAHN/wDCB6R/z+eIP/Cj1D/4/WHd+E7KLx9pWmpqHiAWlxpl7PLH/wAJFf8AzPHLaqhz52RgSvwDg7uegx6BXN33/JU9C/7Aupf+j7GgA/4QPSP+fzxB/wCFHqH/AMfo/wCED0j/AJ/PEH/hR6h/8fropJEijaSVlRFBZmY4AA7k1m6b4n0HWrmS30fW9Ov5o/vxWt3HKy/UKSRQBn/8IHpH/P54g/8ACj1D/wCP0f8ACB6R/wA/niD/AMKPUP8A4/WvLrOlwavDpU+pWcWo3CF4bN51E0ijOSqE7iPlPIHY+lXaAOb/AOED0j/n88Qf+FHqH/x+j/hA9I/5/PEH/hR6h/8AH66SigDm/wDhA9I/5/PEH/hR6h/8fo/4QPSP+fzxB/4Ueof/AB+tg6xpg1gaSdRtP7SMfmiy89fOKf3tmd2PfGKgn8TaDa6odNudb06G/C7jayXcay4xnOwnOMc9KAM7/hA9I/5/PEH/AIUeof8Ax+j/AIQPSP8An88Qf+FHqH/x+trTdU0/WbFbzSL62v7VyQs9rMsqMQcHDKSODVqgDm/+ED0j/n88Qf8AhR6h/wDH6P8AhA9I/wCfzxB/4Ueof/H66SigDm/+ED0j/n88Qf8AhR6h/wDH6P8AhA9I/wCfzxB/4Ueof/H62LnWNMstQtrC81G0t7y7z9mt5Z1WSbHXYpOWx7VcoA5v/hA9I/5/PEH/AIUeof8Ax+j/AIQPSP8An88Qf+FHqH/x+ukooA5v/hA9I/5/PEH/AIUeof8Ax+j/AIQPSP8An88Qf+FHqH/x+ukooA5v/hA9I/5/PEH/AIUeof8Ax+sPwl4TstT0W4nvtQ8QSypqeoQK3/CRX64SK8mjQcTdkRRnqcZOTXoFc34D/wCRduv+w1qv/pwuKAD/AIQPSP8An88Qf+FHqH/x+j/hA9I/5/PEH/hR6h/8fqzqPjTwtpF89lq3iXSLG6jwXgub+KORcjIyrMCMgg1JpXi3w3rt2bXRPEGl6jcKhcw2l7HK4UcE4Uk45HPvRvsGxS/4QPSP+fzxB/4Ueof/AB+j/hA9I/5/PEH/AIUeof8Ax+ukooA5v/hA9I/5/PEH/hR6h/8AH6P+ED0j/n88Qf8AhR6h/wDH66SigDm/+ED0j/n88Qf+FHqH/wAfo/4QPSP+fzxB/wCFHqH/AMfrpKKAOb/4QPSP+fzxB/4Ueof/AB+j/hA9I/5/PEH/AIUeof8Ax+ugubmCztZbm7mjgghQvJLK4VUUDJJJ4AA71HY6hZ6pYx3mmXcF5ayjMc9vIJEcZxwwyDyKAMP/AIQPSP8An88Qf+FHqH/x+j/hA9I/5/PEH/hR6h/8frpKKAOb/wCED0j/AJ/PEH/hR6h/8fo/4QPSP+fzxB/4Ueof/H66SigDm/8AhA9I/wCfzxB/4Ueof/H6P+ED0j/n88Qf+FHqH/x+ukooA5v/AIQPSP8An88Qf+FHqH/x+jwEZP8AhF3jluLi48jU9RgSS5neaTZHezIgLuSzYVVGSScCukrm/Af/ACLt1/2GtV/9OFxQAfDj/klnhT/sC2f/AKISvI/Cfg/TvjF4+8W6946Mt/babqD6dY2CztGkSITydpB6Y6Ec7ic1658OP+SWeFP+wLZ/+iErznVvA3j/AMC+NNW8QfCr7DqNlrMnnXWlXzbQspJJZcsoxkk53A84wcClopXfZ/fp/wAEevLZf1/WhnX3hmz+D/xq8Jt4Nea20vxHI9neae0zSJwVAYbiT1cHknGD64rfh+IPj3XPH/ivwz4W0vQ3OjSIIbq+aVEVSDw+0kux7Y2gYOah8L+BPG3ib4gWHjP4pvZWraWhGn6VZHcsbn+IkFh7/eYkgdAKwvDd74n0341fEi78KaRb60VnhWaxluxbOxIbayuwK8YOQcZz14oV7qMu0n+Kt/XmJ9ZLy/W/6fcdLYfHCNPhhrHiHXNLFvq2i3ZsLmwjk+V584XDHopOc9cbT1qloXxo1KLxRo+neKZ/Ct5b63IIoX8P6gZ5LJzjasyknOSQMjjOapwfBLV9S+FPiCw1e4tbfxFruo/2oyoSYYZA2VjJHUctkjON3fHNnw54F8RX3irRZtR8DeGfCljpXz3c1tbWlxJqEgxtKERlohkZzkMM9elVH4/e8vy1/G/4WE/h08/z0/D/AIJdn+InjrU/iz4i8GeFdN0OQabHHLDc3/nIqKVQneVJ3El8AAD3PFT+PPiJ4p8M6mbWBvCmkwwW6yNda3etm8bHzCGGJjIADxlhzVrwr4R1vTfj14w8R3tl5WlalbxJa3HmofMKrGCNoO4fdPUDpWDN4L8ZaF8W/EWu6V4d0zX4tcC/ZdQvLtYzppAxyCpYj2QchRz2qNeWPe349hr4pX6P8NNTS0z43Q3HwSufHV9poS4tpTbG0jkO2SbIC4YjIU7ge5HPWuD+L2qeONQ8B6BN400rSraC61WCeB9OmkLQ5VsRyq/8RB6qSODW34e+D+v3XwG1nwZrcSWGptqLXNpK0qvHLjaVbKEkKcEcgEZzimeNtA+Kfjjwbo2lXnhSzszpt7C83lalE7XOxSPMAJCovXjcWyRxwa0Vue/nH7tL/iLXlfpL9bfgdt4n8f64fHkfgjwFp9hdawtp9rurnUpHW3to+MAhPmYnK9PUdecQ6D8TdUnn8TaB4l021sfE2gWb3e23kZ7e5QJuDrnDAcrkHnkc9hB4j8I+JtA+KrePvBenW2tNd2Is77TJrkW8jY24ZJGG3+Bevp3zxBofgTxJe6t4t8YeKLa3tdY1rTXsbPTLecSC3j2YCtJwpYlV6cdT3wMnfkfez+/W1vwLVuZfL9L3/Es/Czxr478fabp2t39hoVposhljuGjMvnyMpIDRqSVVc4B3EkkE8cV1t9/yVPQv+wLqX/o+xrJ+DPhzVfCnws03R9ftfsl/A8xkh8xX27pWYcqSOhHeta+/5KnoX/YF1L/0fY1tOylZGcb21OZ+POg674i+GUtp4cimuXS5jlubSA4e4hXOVX1Odpx3x36V49YQfC2717R00GTVfhz4jsrpHLajFLKsp/uEtJhcnudo6gjmvefiZ4b8ReIvDsP/AAhmuT6Rq1nOs8RSdo47gDrHJt6g9eQRkc8E15fr/hj4x/E60h0Dxfo2g6RpyTo8l/GVeQgHkriRyCfQBc9MgZrOF1LTuv06/p/mXPWOvZ/1b9Ts/EHiT7L+0V4Y0H+xtIn+16fJL/aM1ruu4cLN8scmflU7emP4m9agsPiR4v8AFPiPW28GaJpU+g6FcNbTvezyJPduv3hFtBUHjgMMHI5GeH6v4J1uT9oDwn4gs7NpdF0zTGtp7tpkBVtswAKltx+8vIB61zvhWDxB4Q8S+LtI8Hf2DrmmXt3Jdve/2tGG0pmyCJ4hlzjGMcfd6jnBLSKt2l999PwKesv/AAH8tfxH2/xr8RzfAe/8bNY6YupW2oi1SHypPK2FkGSPM3Z+Y/xVpX3xP8baBq3hi58SaDpMWh+IZordEtp5HuYHcDBcnC987QD0I3VwPhHwprXir9lbUNL0G0+2XtzrBkiTzEj3qrpuOWIH8J716Z8R/B2u69o/gaDSbH7RJpWp2s94vnIvlIigMfmYZx6DJq9n84/c0rmV2/8Ayb703YdfeIrkftBtoFjo+iG6OhtPDqU9qftIfnahlBz5ecZAHrXm/wAJbDWZ/F3jfWtU03w3fNY3dyb2e4geSdJtsny25PSMnIOSCVr05/CWtn9pCPxSLL/iTLo/2Y3Xmp/rMn5dmd344xVD4eeCvEGhr8RBqmn+R/bN9PLYfvo285G8zB+Vjt+8PvY61jK6pya35Zf+lf5FbzS6XX/pP+Zl+HviuuifAnTNfi8P6bDf6hfPZWWl6XF9mt2lMjAHGTgcEn1Ppmus0DxN49tfF9tovjjw9Zvb30LSQ6loiTPBbsMny5iwO0nHXIGcYz24bT/hD4kufgPo2jTRRaf4j0bUn1C3hnlV42PmMQrMhI5Bz9euK7fRLj4m694tsrnW7C28K6JaRsLqzS5iu5L9z0IYKdijr1B+vbb7X9bWX63/AOGJ15f63v8A5WOX8c/F7xT4Y1LUmVPCmn2tjIVjsNRvmmv7xR0ZUhYhN3YPjHetjXPjFJbfD7wzq+iaUlxrHieRILGymlwiSE4bceCQGIHbOR0rjLH4bePNG0jxd4ctfDul3z63JO6eI57xFcxuMGPZt37jz1woLHqK1J/hf4muPhT4JNpaRW/ibwpcfaEsrmZCkuJNxXepK87UI59jipjblXN/dv38/wCvuLl8en97/gf195n+IbjxTL8d/h1D40sdOgvI3mKz6ZK7QTAjkAOAykY5HI5GDXZXXxA8WeJPGer6D8NtM0mSPQ2Ed7favLII3kOf3aLHzkYIyeOO3Gce+0L4g+Kvit4M8Saz4at9L0/S2k86CLUI53gyOWY/LnPGAgbGOTzVuLwz4z+HnjrxDq3g/RLXxJpniCYXD2z3y2strLkkklxhlyx4HPTpjkj8KT/vfpb9RPdtf3f1udX8OPH3/Ccadfpe2P8AZur6TdNaX9pv3qkgzyp7qcH8j16nsq4H4V+CNS8KW2s6l4jmhk1nXr1ry6S3JMcOSSEBPXG48++OcZPfU3/l9/US6+r+7oFFFFIYVzfgP/kXbr/sNar/AOnC4rpK5vwH/wAi7df9hrVf/ThcUAfO3xIv/BunftHa/L8Q9JvNV002cKxw2blWWXyosMcSJxgMOvfpXoHwWuvhjq+v6jcfDjw5qGkalbWu2Sa+kd1KO3QL5z55UHt9aq+JvD/xO0T45az4u8CeG7PUoL20jtle8uIwpUJHuwvmowIZMc11Pg3X/i9da46+N/COmWemrbyOGspkMjygfKgzOw56ZIx7iiDtBej8u/8AX4FVdZaeX5I5m5+NnivTrq98JXmhWcnjgailrZQxQyC1mhbkSnLk4wM/e/iB7Guo8e/EvUPBsuhaCjaMfEGqRlpbvUJjbWFsFHzOxJLYJBAG7PHrgHh734Y/ELV7m6+IczfY/GsN8slhpYuI2ijtlyvlFw23kH1wRnPLHHSePfAuueJ9V8M+NYfDdjfalYW5i1Dw7qUsbJMpB+UP8yEgsxBPseoxSXwq/wA/u0/HewtOZ27O3rf+rEvhz4xXWpWHiqwvho8+uaDp0l9HcaVcG4srtVTdlTnPBKgjOee1YLfGfx5H8NLDx3JoWhf2P5oiuo/OlE8x3lC0Y5CLkY+YseM4xWzoPgPXjoni+/vfDui6Fcarp01ppujabbWyvAGjIw9wiLu3MBwW29+OMZN18OPFUn7LNr4QTSs67HNua0+0RcD7Sz/f3bPukHrTlpG/X3fzd/wtcdlZer/JfrsbU/xQ8XaP4n8MnxHoel2+heJpkhtVt7h3urYvt2mUnCE/MCQo9eeKmv8A4heM7n4va34J8L6Zo8/2O0jngub0yosWVRiZCpO4ZbAVVB568Gk+IXgvX9cf4enS7Dzxo19DNffvo18lF8vJ+Zhu+6fu56VzhuPEFl+1B4tu/C+nwapPDpkHm2E1wIDOpSL7shBCsDg88EZ6VWnNbzl9ySsTG/JzPey+/mt+Rsx+Pr/xX8OfH+jeJLCCw17Q7KeG7jtmJikBjfDpnkA4PGT2PeqPhPx4ngL9nTwtcxWbahqF8xtLG0D7fNlaR8ZPYD/Ad6u6H8PPEn/CN+P9Y1u2hj8QeK4JVi06CZWWAbGCIXztJJbGc44HPJqqfhTr+ofBLwtpgEOn+JfD1wLyGG4cPGXEjHYzISOQQcjPTH0nXl1392/43sD1at/et+FjZX4g+MPCfiXR9P8AiVpejpZ65P8AZ7W80eWQi3lONqSq/Xr1HFep15De+HfG/wASPE2gSeMNCtfDek6Fdi8dEv1uZLyVcbdu0YVeO/OCa9ep9Nf6X9XF1/rcKKKKQwooooAK5vwH/wAi7df9hrVf/ThcV0lc34D/AORduv8AsNar/wCnC4oAPhx/ySzwp/2BbP8A9EJXSV534BvPGK/Dbw0tnoWhy240m1EUkutTI7L5K4LKLVgpI6gE49T1roPt3jf/AKF7w/8A+D6f/wCQ6AOkrH0vwro2ja5qmsabZ+Tf6sytezea7eaVzjgkhep6AVT+3eN/+he8P/8Ag+n/APkOj7d43/6F7w//AOD6f/5Do63DpY6Siub+3eN/+he8P/8Ag+n/APkOj7d43/6F7w//AOD6f/5DoA6Siub+3eN/+he8P/8Ag+n/APkOj7d43/6F7w//AOD6f/5DoA6Siub+3eN/+he8P/8Ag+n/APkOj7d43/6F7w//AOD6f/5DoA6Siub+3eN/+he8P/8Ag+n/APkOj7d43/6F7w//AOD6f/5DoA6Subvv+Sp6F/2BdS/9H2NH27xv/wBC94f/APB9P/8AIdc/eXnjH/hZOjM2haGLgaTfhIxrUxRl86z3Et9lyCCFwMHOTyMAEA9Eorm/t3jf/oXvD/8A4Pp//kOj7d43/wChe8P/APg+n/8AkOgDpK4vXfhB4D8Sau+p6x4cgmvJG3SSpLJF5jerBGAY+5FaH27xv/0L3h//AMH0/wD8h0fbvG//AEL3h/8A8H0//wAh0dbgbWm6ZZaPpsOn6VaxWlpAu2KGFQqoPYVarm/t3jf/AKF7w/8A+D6f/wCQ6Pt3jf8A6F7w/wD+D6f/AOQ6Nw2Okorm/t3jf/oXvD//AIPp/wD5Do+3eN/+he8P/wDg+n/+Q6AOkorm/t3jf/oXvD//AIPp/wD5Do+3eN/+he8P/wDg+n/+Q6AOkorm/t3jf/oXvD//AIPp/wD5Do+3eN/+he8P/wDg+n/+Q6AOkorm/t3jf/oXvD//AIPp/wD5Do+3eN/+he8P/wDg+n/+Q6AOkorm/t3jf/oXvD//AIPp/wD5Do+3eN/+he8P/wDg+n/+Q6AOkorm/t3jf/oXvD//AIPp/wD5Do+3eN/+he8P/wDg+n/+Q6AOkrm/Af8AyLt1/wBhrVf/AE4XFH27xv8A9C94f/8AB9P/APIdc/4LvPGK6Dci10LQ5E/tbUiWk1qZCG+3T7hgWp4DZAOeQAcDOAAeiUVzf27xv/0L3h//AMH0/wD8h0fbvG//AEL3h/8A8H0//wAh0AdJRXN/bvG//QveH/8AwfT/APyHR9u8b/8AQveH/wDwfT//ACHQB0lFc39u8b/9C94f/wDB9P8A/IdH27xv/wBC94f/APB9P/8AIdAHSVj2vhTRbPxXeeJbaz2avfRLDcXPmud6KAANpO0fdHQDpVP7d43/AOhe8P8A/g+n/wDkOj7d43/6F7w//wCD6f8A+Q6Otw6WOkorm/t3jf8A6F7w/wD+D6f/AOQ6Pt3jf/oXvD//AIPp/wD5DoA6Siub+3eN/wDoXvD/AP4Pp/8A5Do+3eN/+he8P/8Ag+n/APkOgDpKK5v7d43/AOhe8P8A/g+n/wDkOj7d43/6F7w//wCD6f8A+Q6AOkorm/t3jf8A6F7w/wD+D6f/AOQ6Pt3jf/oXvD//AIPp/wD5DoA6Sub8B/8AIu3X/Ya1X/04XFH27xv/ANC94f8A/B9P/wDIdRfDpp28JSteRxxXB1bUzLHFIXRW+3z5CsQpYA9CQM+g6UAS/Dj/AJJZ4U/7Atn/AOiErpK5v4cf8ks8Kf8AYFs//RCVo6xr1rot1pcF1HM7aneCzhMaghXKM2WyRgYQ9M9uKANOiiigAooooAKKKKACiiigAooooAK5u+/5KnoX/YF1L/0fY10lc3ff8lT0L/sC6l/6PsaAOkoqK5uIrO1lublxHDChkkdjwqgZJ/KvNPh14117VfEQh8Tyj7Nr1m2qaKhiVDFEJGBiJAG47DE+Tk/MaFq7f1/Wj+4Hor/1/Wx6hRWJ4h8Y6D4VMC67qC28txnyYUjeWWTHUhEBYgdzjArjtP8AHTa1H4/urbxLHb6VpscTWOoxWyzrZqbfc77AMyENklWycjHtSvo32Dql3PTKKwNS8X6J4b0axute1ZF+1IohYRMZLk7QSUiUFj1zgDjNMbxhpuo+D7zXPD2qac8MCsDPeSNFFCw6iXjcuM/dIB6DjOab0v5AtbeZ0VFefeEfiPFr3iZdKuNX0iTdCxtxFbXMEt4wIO5FmUKFC54VpM5zkAc7mu/ETwr4b1E2Gr6skV0qh5IYoZJmiU/xP5atsHu2BQ9LeYHS0VBY31rqdjDe6fcRXVrOgeKaFwyup7gjrU9ABRRRQAUUUUAFFFFABRRRQAVzfgP/AJF26/7DWq/+nC4rpK5vwH/yLt1/2GtV/wDThcUAdJRXPa/488NeGbxbTWNSEd0U8z7PDDJPIqf3mSNWKr7kAVp6PrWm+INKh1LRbyK9s5gdk0LZBwcEexB4IPIo31QbF6iua8TfEHw14PvIbXxDfy2000fmRqlnNNlc4zmNGA59aZ4b+JHhbxbqbafoGoS3NysZlKPZTwjaCATl0UdxxnNC12B6bnUUVj+KJddj0Rl8KQQS6jLKkSvcEeXApbDSkZG7aMnaDknFctY6p4i8O/EPSfDur6/H4ji1WCeVybOOCazMYBDny+PLbO3kZzjk80LV2/ruD0Vz0GiisyPXrWXxXP4fWOb7XBZpeM5UeWUd2UAHOc5Q9vTmjrYOlzToorgmj8ceJtW1WWy1hvC1hZXLW1lE2mpM93tAzM5k/gJJwFxwOtLqB3tFcz8PvEl14q8G2+o6hHCl2sstvOYCTHI8UjIXTP8ACduR9a6aqAKKKKQBRRRQAVzfgP8A5F26/wCw1qv/AKcLiukrm/Af/Iu3X/Ya1X/04XFAB8OP+SWeFP8AsC2f/ohK4jxr8MpbnX9EubXX/F1wtzrO+cR6lIyWSMkhLxgD90AcKD2Bx3rt/hx/ySzwp/2BbP8A9EJXSUdUx9GjK8O6Evh3SvsKalqWpDzC/n6ndG4l57bzzjjpWrRRQTawUUUUDCiiigAooooAKKKKACubvv8Akqehf9gXUv8A0fY10lc3ff8AJU9C/wCwLqX/AKPsaAMP4v3V3deGbXwppEipqXia5FjGzchIsbpnIHOAgIOP71cv430rxzoelaV4mu5dAmh8JyrcrDplpNFKbfASVAXkYbdhJIx/CK9gl0+ynv4L6azgku7ZWWC4eJTJEG+8FbGQDgZx1qWeCK5t5ILmJJoZVKSRyKGV1IwQQeCCO1JXSut73/y/rzY9G7Pb/Pf+vI820/WdMt/jPe6nql3bwwatolq2j3U7BFkjBdpERicZyysR6Y9K5e4vNLv9D+NF1oTxS2ckAIkhwUkf7Kd7Ajg5bPI617HceHdEu9Ki0y70ewn0+AARWktqjRRgdNqEYGPYU4aDpC291AulWIhvEEdzGLZNs6BdoVxjDALxg9uKGlZpdmvvdxK/Mm/L8FY86sbq00n4saPd6/NHb2914Zig0ye4YLGJQ+ZUUngMVKH1IFVPGHiPwl/ZfiC40fS7e/abVLK3vr2eVlsGuMja7sjciPC7sYycAk13HjzR49W8EXWkx6JJqiTp5KW9s0EbRAjAdTLhF2/mOwq14b0iSHwRYaZr1hp6y/ZlS6tbaFRb7scgLjGPwxVN8zb7P83f+vkxRXKl/WySPMNd1K8m+IngeDVPF+k6vN/aocWWmWYjSAGJxuZ/MduSQACRnng443vh/rGlaFqHjGz8RX9rYaqNbuLm4+1yrG0kDYMTjceU2YA7DGK7q18L6BY20VtZaHptvBDMLiKKK0jRUlHRwAMBhk8jnmn6l4e0XWZopdY0iwv5ITmJ7q2SUx/7pYHH4Ulpf5/jb/IGr/h+F/8AM5H4Oqp8J6jcWkbR6ZdazeT6apXaPs7SfKVHZSckfWu/pFUIoVQFUDAAHSlpv+vkPq33u/v1CiiikAUUUUAFFFFABRRRQAVzfgP/AJF26/7DWq/+nC4rpK5vwH/yLt1/2GtV/wDThcUAcSddkk8d+Ll0nV/D/hQ2s0Ud7dalG09zc7YwRIFaVFSMA4HUHBNaHwNnW48H6tKt19sDa7eN9oMYj83LA7tg+7nOce9dxe+HdE1LUIr/AFDR9Pu7yH/VXE9qjyR/7rEZH4VbtrG0smnaztYbc3EhmmMUYXzXIALNjq3A5PPFEdFr2t+X+WwS1ene/wCDX6mD4mXxw15D/wAIbL4fS28v97/asc7OXz/D5bAYx60zw2vj5dTb/hLpvDb2PlnaNLinWXfkYyZGI24z79K6iihaA9TH8TeJrHwnpkeo6ssws2nSGSaJAywBzje/IwgPU84rzq7t/Duk/FHw7N8O7mH+09Uu3bV4LG482O4tCrM0soBIBDEbW4JLEc163JGk0TRyoro42srDIYehFUdL0DR9DEg0XSbHThKcyfZLZIt59TtAzRHR3/r0B6q39epPqVkNS0u5sjcXFqLiNozPayGOWPIxuRh91h2NeTwfCmU/Eu9RvEnjNbMaXCV1AarKHkfzZMxGXHIAwdvbdnvXsNFHW4+lv63IrWD7LZw24kkl8qNU8yVtzvgYyx7k9zXmfiLxrB4o1698LaX4hsdD0yzfydV1SW7jjmdv4oLcMeDjhpOg6DmvUa56b4feDLieSe48I6FLLIxd5H02FmdickkleST3oeruxLRWRd8OQ6Na+H7S18MvbPplunlQfZZBIgA/2gTk56981qVV03S9P0axWz0ixtrC1QkrBawrEiknJwqgDk1apt3dxJWVgooopDCiiigArm/Af/Iu3X/Ya1X/ANOFxXSVzfgP/kXbr/sNar/6cLigDn/APj7wfZ/Dbw1a3nizQ4LiHSbWOWKXUoVeNhCoKsC2QQRgg10H/Cx/BH/Q5eH/APwaQf8AxVHw4/5JZ4U/7Atn/wCiErpKAOb/AOFj+CP+hy8P/wDg0g/+Ko/4WP4I/wChy8P/APg0g/8Aiq6SigDm/wDhY/gj/ocvD/8A4NIP/iqP+Fj+CP8AocvD/wD4NIP/AIqukooA5v8A4WP4I/6HLw//AODSD/4qj/hY/gj/AKHLw/8A+DSD/wCKrpKKAOb/AOFj+CP+hy8P/wDg0g/+Ko/4WP4I/wChy8P/APg0g/8Aiq6SigDm/wDhY/gj/ocvD/8A4NIP/iqP+Fj+CP8AocvD/wD4NIP/AIqukooA5v8A4WP4I/6HLw//AODSD/4qufvPH3g9viTo10vizQzbx6TfxvKNSh2KzTWZVSd2ASEYgd9p9DXolc3ff8lT0L/sC6l/6PsaAD/hY/gj/ocvD/8A4NIP/iqP+Fj+CP8AocvD/wD4NIP/AIqukooA5v8A4WP4I/6HLw//AODSD/4qj/hY/gj/AKHLw/8A+DSD/wCKrpKKAOb/AOFj+CP+hy8P/wDg0g/+Ko/4WP4I/wChy8P/APg0g/8Aiq6SigDm/wDhY/gj/ocvD/8A4NIP/iqP+Fj+CP8AocvD/wD4NIP/AIqukooA5v8A4WP4I/6HLw//AODSD/4qj/hY/gj/AKHLw/8A+DSD/wCKrpKKAOb/AOFj+CP+hy8P/wDg0g/+Ko/4WP4I/wChy8P/APg0g/8Aiq6SigDm/wDhY/gj/ocvD/8A4NIP/iqP+Fj+CP8AocvD/wD4NIP/AIqukooA5v8A4WP4I/6HLw//AODSD/4qj/hY/gj/AKHLw/8A+DSD/wCKrpKKAOb/AOFj+CP+hy8P/wDg0g/+Ko/4WP4I/wChy8P/APg0g/8Aiq6SigDm/wDhY/gj/ocvD/8A4NIP/iq5/wAF+PvB9roNzHdeLNDhdtW1KQLJqUKkq99Oytgt0KsCD3BB716JXN+A/wDkXbr/ALDWq/8ApwuKAD/hY/gj/ocvD/8A4NIP/iqP+Fj+CP8AocvD/wD4NIP/AIqukooA5v8A4WP4I/6HLw//AODSD/4qj/hY/gj/AKHLw/8A+DSD/wCKrpKKAOb/AOFj+CP+hy8P/wDg0g/+Ko/4WP4I/wChy8P/APg0g/8Aiq6SigDm/wDhY/gj/ocvD/8A4NIP/iqP+Fj+CP8AocvD/wD4NIP/AIqukooA5v8A4WP4I/6HLw//AODSD/4qj/hY/gj/AKHLw/8A+DSD/wCKrpKKAOb/AOFj+CP+hy8P/wDg0g/+Ko/4WP4I/wChy8P/APg0g/8Aiq6SigDm/wDhY/gj/ocvD/8A4NIP/iqP+Fj+CP8AocvD/wD4NIP/AIqukooA5v8A4WP4I/6HLw//AODSD/4qj/hY/gj/AKHLw/8A+DSD/wCKrpKKAOb/AOFj+CP+hy8P/wDg0g/+KqL4dXMF54SlurOaOe3m1bU5IpYnDJIpv5yGUjggg5BFdTXN+A/+Rduv+w1qv/pwuKAD4cf8ks8Kf9gWz/8ARCV0lc38OP8AklfhT/sC2f8A6ISqWh/FjwV4k8RjQdF1r7TqRLgQfZZk5QEt8zIF4we9G7sGyudjRRRQAUUUUAFFFFABRRRQAUUUUAFc3ff8lT0L/sC6l/6Psa6Subvv+Sp6F/2BdS/9H2NAGl4g8Qab4Y0aXVNZuPItoyFyFLs7McKqqMlmJOABXL23xX0w3kMWsaF4i0GC4kWKG81XTTFA7scKCwJ2k9t2K0vHmhWniPSrKxl1aPStQS+iudNnfax+0x5ZcIxG/jOVHbNc3rmu+K/D+jyyfELw3ouvaBGytd3WmuSYkBBEj28oO7BwflY4xntQt9e/+Q35HplZ+v6zb+HfDt/rN6kslvYW73EqwgFyqjJABIGeO5FczZ6lcTfGy5tEu5msP+Eehnjt/MPlhjOw3hemSMDOM4rlvEt9d3OlfGG2uLqaWC1s0WCKSQssINpkhQeFyeTjvSldRb8m/udgjZz5fNfirnrNpcpeWUF1EGCTxrIoYcgEZGfzqrDrljP4iudEikZr61t47iZNhAVHLBeehJ2t09K8y1jTNa8G/D6DxjB4o1O51CwggnubSWYGzni+UNEsOMKNp+Vh82QMk1b0XQYpPj/rl8NQ1QNHp1pdCI3r7GLtMNjJnBQY4U8A5IqpaTt5v8myE3yX9PzX9fM9Soryr4c22pXvg3/hLNT8S6hLdwm9WGK7vmW0REkkRTKv8WCMljkgYA4GK4/WvEdxpvg7/hItI8S+MNW1uBEnlvUt5l0qQ7huG10WLy+SAV56HmktXb0/H+tS7M+haqapqtlounve6lN5NuhVS20sSzEKqhVBLEkgAAEkmuGvf7Q8afEjUdAbWNQ0rStHsreWSPTZ/IluZptxBMg+YKoXoMZJ5qPW18QeFPBFxa6r4wighOopFbarMpkvPsrEZjChD5k/3lUgHI56il0/rvb+vL7gWr/rtc7LSPFGj67dTW2k3guJrdA06CN1MOSQFfIG1uD8pw2OcVrV41omsy6Z8UPD1jot94un03VTcRXQ8RRy+XIUiLq0RmAcHI5wNuDWp4b0zU/iLpt54iv/ABRrWmtJeXENhbabc+RFaxxyMi7kx+8Ylcnfkc4wKb6f11sL+v6+49Rorlfhxr1/4h8Fw3OsNHJfwTz2lxLGu1ZXikaMuB2ztzj3rqqACiiigAooooAK5vwH/wAi7df9hrVf/ThcV0lc34D/AORduv8AsNar/wCnC4oAvaZ4jtNV17WNJt45ln0eSKOdpFAVjIm8bSCSeDzkDmtavKNN8NXHiH4peOg+uajptklxaZj0y48iSST7OvLOPm2gdAMAknOcYrpfh1qmpXMOt6PrN21/caHqT2S3rgBp49iuhbHG4B8HHpQtV8r/AJf5g9Pv/wAzsqK82+Jl74WtdXs18SeL/EuhTGAmOHR5rlEkXcfmbykYZzxzVf4cX/hK58TSJ4d8Z+KdbuvszE22rzXTxBdy5YCWNV3A4755NEfeCWh3XiTXm8O6at4mj6pq5aUR/Z9LgEsoyCdxBZfl4xnPcVzFl8WLe68Sabolz4R8U6dc6k5SBr2yjRMAZZjiQnaB1ODiu+JABJOAOprgPh2p8Tarqvju8+f7dK9npYYf6mzicqCP99wzH8KI/F/X9f0wl8Oh39FUNb1vT/Dmi3OrazcfZrG1XfNLsZ9ozjOFBJ69hWZ4S8e+GvHUVzJ4V1L7eloyrMfIki2Fs4++oz0PSha7BsdFRXCfEbUvs15o9lceIbjSLK5eQzw6ZHJJf3eANqRCNGYKCcswwegyM1jfDrWLsfEXVdDiuvEM2kjTo7yBPESN56OZChKlx5mwjH3u4OKI+87f1oEvdV/T8XY9UooooAKKKKACiiigArm/Af8AyLt1/wBhrVf/AE4XFdJXN+A/+Rduv+w1qv8A6cLigA+HH/JLPCn/AGBbP/0QldJXN/Dj/klnhT/sC2f/AKISukoAKKKKACiiigAooooAKKKKACiiigArm77/AJKnoX/YF1L/ANH2NdJXN33/ACVPQv8AsC6l/wCj7GgCx4s8KWXi7So7S8lntZredbm1u7V9sttMv3XU8juRg8EGuZm+HXiPWovsHi7x5darozEebZQadFatcAHO2SRckqcchQua9CooWgHJa94Ku7zxHba/4a1ttE1GG1+xSE2q3EU0G7cFKEjBB6EH86zYvhg8ej+MLObXprmbxRCElup7cFon8ryy2AQGGTkKNoAwPeu/opdLf1rqHVP+ux5/H8NNQns7LR9a8WXWo+HrMxFdPa0RHm8sgqsk3VkBUcYBOBknrWzN4Suk+IQ8T6bq/wBmjntUtb6ye2EgnRCxQq+4FCC57HNdPRVN3d2KytY5PSPAVtYfDi48H31293bXKXKSzInlMVmd2OBk4I34z7fhXP6l8LNd1zwfL4b1nxzPPYLCsVusOnRxH5cbPNIYmQDAOAUzjmvTKKXW5V9bnnnj3RL7Ro5fGHhvVGsdZgtEt7oGONobyJTnLI7KNygswIbOMjnNQWvw7ttd8LWeqWHiK8bV7m8i1uLWZYFy0vl7VzCcKE2HGzjHrXe6no2l61DHFrOm2moRxOJI0u4FlCOOjAMDg8nmriqFUKoAUDAAHShdf68/z1F2X9dvyOGT4farc+K9D8Ra54rl1C90iSQrEtksMBR4yjKqBsqxyDuLN0xgUN8P9X066vk8JeLZtG02/ne4ms2so7jypHOXaF2IKZPOCGAJOBXdUUAZfhvw9Y+FfD1ro+lh/s9spAaRtzuxJLMx7sSSSfetSiim3d3DYKKKKQBRRRQAVzfgP/kXbr/sNar/AOnC4rpK5vwH/wAi7df9hrVf/ThcUAZE/wAP9Yg8Xa34h8P+LJNMuNXaLfC1is8SqkYTlWYZbjIYEYzghq6Hwr4Zt/C2kvaw3E15PcTvc3d5cY8y4mf7ztgADsABwAAK2qKFogeu4UUUUAV9RtnvdLurWKYwPPC8ayhc+WSCA2OM4zmqPhbQk8MeE9L0OKXz10+2SDzdmzzCowWxk4yecZPWtaija/n+n/DgFFFFAHKeJ/B15q/iDT9f0HW20bVrGGS3EjWq3EUsTkEqyEjuoIIIqHQPAt3pHjafxNf+IbjVLq6sRaXCzQKgyH3KU24CKBkbcEnOSc12NFC028/x3/MHrv8A1YKKKKACiiigAooooAK5vwH/AMi7df8AYa1X/wBOFxXSVzfgP/kXbr/sNar/AOnC4oA5/wAA+HNUn+G3hqWLxprlskmk2rLDFDYlIwYVIVd1sWwOgySfUmug/wCEX1f/AKHvxB/340//AORaPhx/ySzwp/2BbP8A9EJXSUAc3/wi+r/9D34g/wC/Gn//ACLR/wAIvq//AEPfiD/vxp//AMi10lFAHN/8Ivq//Q9+IP8Avxp//wAi0f8ACL6v/wBD34g/78af/wDItdJRQBzf/CL6v/0PfiD/AL8af/8AItH/AAi+r/8AQ9+IP+/Gn/8AyLXSUUAc3/wi+r/9D34g/wC/Gn//ACLR/wAIvq//AEPfiD/vxp//AMi10lFAHN/8Ivq//Q9+IP8Avxp//wAi0f8ACL6v/wBD34g/78af/wDItdJRQBzf/CL6v/0PfiD/AL8af/8AItc/eeHNUHxJ0aI+NNcZ20m/YTGGx3oBNZgqP9G24O4E5BPyjBHOfRK5u+/5KnoX/YF1L/0fY0AH/CL6v/0PfiD/AL8af/8AItH/AAi+r/8AQ9+IP+/Gn/8AyLXSUUAc3/wi+r/9D34g/wC/Gn//ACLR/wAIvq//AEPfiD/vxp//AMi10lFAHN/8Ivq//Q9+IP8Avxp//wAi0f8ACL6v/wBD34g/78af/wDItdJRQBzf/CL6v/0PfiD/AL8af/8AItH/AAi+r/8AQ9+IP+/Gn/8AyLXSUUAc3/wi+r/9D34g/wC/Gn//ACLR/wAIvq//AEPfiD/vxp//AMi10lFAHN/8Ivq//Q9+IP8Avxp//wAi0f8ACL6v/wBD34g/78af/wDItdJRQBzf/CL6v/0PfiD/AL8af/8AItH/AAi+r/8AQ9+IP+/Gn/8AyLXSUUAc3/wi+r/9D34g/wC/Gn//ACLR/wAIvq//AEPfiD/vxp//AMi10lFAHN/8Ivq//Q9+IP8Avxp//wAi0f8ACL6v/wBD34g/78af/wDItdJRQBzf/CL6v/0PfiD/AL8af/8AItc/4L8OapNoNy0fjTXIANW1JSkcNiQSL6cFvmticsQWPbJOABgD0Sub8B/8i7df9hrVf/ThcUAH/CL6v/0PfiD/AL8af/8AItH/AAi+r/8AQ9+IP+/Gn/8AyLXSUUAc3/wi+r/9D34g/wC/Gn//ACLR/wAIvq//AEPfiD/vxp//AMi10lFAHN/8Ivq//Q9+IP8Avxp//wAi0f8ACL6v/wBD34g/78af/wDItdJRQBzf/CL6v/0PfiD/AL8af/8AItH/AAi+r/8AQ9+IP+/Gn/8AyLXSUUAc3/wi+r/9D34g/wC/Gn//ACLR/wAIvq//AEPfiD/vxp//AMi10lFAHN/8Ivq//Q9+IP8Avxp//wAi0f8ACL6v/wBD34g/78af/wDItdJRQBzf/CL6v/0PfiD/AL8af/8AItH/AAi+r/8AQ9+IP+/Gn/8AyLXSUUAc3/wi+r/9D34g/wC/Gn//ACLR/wAIvq//AEPfiD/vxp//AMi10lFAHN/8Ivq//Q9+IP8Avxp//wAi1F8Oong8JSxSzyXLx6tqatNKFDyEX84LNtAXJ6nAA9AK6mub8B/8i7df9hrVf/ThcUAHw4/5JZ4U/wCwLZ/+iErn9O8I+Ibf4nT6vcX12dIkxCkX2tDJtjJdC7bNzRlpJBs3ZGBksDgdB8OP+SWeFP8AsC2f/ohK6ShaO4dLBRRRQAUUUUAFFFFABRRRQAUUUUAFc3ff8lT0L/sC6l/6Psa6Subvv+Sp6F/2BdS/9H2NAHH/AB90tNc8LeHtKlYol94itLdmHUBw65/WtjQfGT2vwcbW9TG+/wBKtpLe6jHVrmEmMr9WdRj/AHhR8VNOvdRh8JjT7O4ujb+JrKebyImfy41LbnbA4UdyeBWPe+HtWPxSl0SKwmbw3qd7DrtxdBD5SSRLhoSemWkSF8dxupxV4uPd/pH9L/cXP7Muy/V/rYxfh/dT/Dbwb4+vb2M6jd6ZfrcXKGTZ50rW8TSfNg4+Zm7GvTvE3in/AIRzSNOvvsf2n7bfW1ps83Zs85wu7ODnGc44z6iuIvfC+ravoXxS0+3s5Un1O8zZechRbjFvFjaxwCCVK56ZqLxLrWr+LNF0GzsPCOuWzWmr2Mt815aGMRBJVzt6l8dSwG0KCSe1KLcnFf4Pu6kNWT/7e/4BHr17qOneI/irdaNF5l3HpFkVIn8kxjypsyBsHlRlgO5GMjrV3TNWeTw38PD4p8Po11NfQxWUi6iz+WfsrFbg4UbiQGBQ9M5yasXmhalfeKPiWkVnMF1PR7a3tJXjKpM/kzKQrHg4LDOOmao24v8AV9E+HATRNWtpNJ1SKK8jurJ42i2WrqznI+5uIAfoTThvb/D+b/r5+gVdtOz/APSY/wBfL1NtPiHrOo6lq9j4c8IyanJpF69tcO1+sCEKARtLLy5BPy9Bxluay/EXiSz8WWPgHVrBJYkk8SxI8My7ZIZFWVXRh2IIIqp4V8WXOga541ifw5q2pW7+IJzDNpdsJi0myPKOAQV42kM3y84yMUyHwprdho/hR72wk+23Hi1tWvYIFMotFk8w4Zl4AUFQW6ZpU/sN/wB1/PT/AIP9MVTRTX+JfKz/AOAjorXxToWgah471OfT2shpt3D9tnSZpWvHMEewqh4U4KoFHBPPep7Px3q8WqadB4n8Jz6NaarKILS5F4k5WQglUmRQPLJAOMFhngkVzWreEdY1xPiLb2lo8c9xqlneWBuEKR3RhihbAYjBBKFc9AetdLbeNdc1rUNPstI8KanYyGZTqU2r2pihtogPmCNuHmOTgDbkdzRHp8vyX9eVgfX5/n/XqRz+Ptbu5L+bwt4Pl1bTtPmkglupb9LZpnQ4fykKncAQRklckcVZufiRZHwzoep6Rp91qN34gA/s3T0KpJIdu5tzE7VVQOW5A964JLG/1NdSs/GPh3xZrXiB7iYRRLcSxaYULHytrK6xBNu3IbLdeDVnQ9F1rRvB/wAPdfXRryebw/bzW2oab5Wy4Eci7GdEbGSpUHHUg8Uo/Dr5fr/XkOWktPP/AIH9dTsrPx5KsmqWHizSZvD99Y2LXxMU63MckAyC8bhRlgRjaVHOOorkLXXtY0D+y/EGr6V4kj8ONJGN9zrkc0gMvyLLNDt3YJcHYJCqkg7BgY3J/FvirxdoOq3fgbSZbSy/sxm0+7v4vLmubk/d8tWOAgX+JhgnGOK4HxHov9s+EI20zwn40vtYt5IJLm51qWdjFtkUvsjdyJGPIHloRjJyOhqPxq/l+b/r8e1lL4Xbz/Jf1+Hr6zrnjO7tfER8P+GNDfXNVigW4uVa5W3hto2JC75CCdxwcKFPTPFWvCni1PEjX9ndWE2l6tpkix3thOyuYiwyrKy8MjDow9DwK5y7a+8GfErV/EDaNqWq6VrtrbK0mnQGeW2lhDLhoh820hs5AOD1q74JstTvfFviHxZqenTaVFqi29vZ2lyAJvKiVvnkAJ2li5+XqAOaUdv6/r+rjlbp5flr/XyO4ooooAK5vwH/AMi7df8AYa1X/wBOFxXSVzfgP/kXbr/sNar/AOnC4oAo6n431FvEV5o3hLw4+uT6cE+3TPeJbQwsw3LGGIJZ8c4AwMjJFbfhjxFb+KNCj1K2gmtiXeKa3uFxJBIjFXRu2QR1HBrjre5v/APjDxG93oOqanputXa31rdaXbG4ZXMao8UiryvKghj8uD1Fdh4XvNa1DRRd+I7GLT7qaV2jtUOWii3fIHOSC+3BOOMmiOsfl+PYJb/1t/X+Rk674g8a2OsTW+heB4dWsVC+XdvrUduXyAT8hQkYOR15xmr3hfVvEmp/af8AhJ/DMeheXt8nZqSXfnZzu+6q7cYH1z7VR134ex69rE2oP4o8U6eZQo+z6fqzwQpgAfKg4GcZPuTV7wv4STwv9p2a5rmq/aNuf7Wv2ufL25+5n7uc8+uB6UR21CXkL4p8UHw6ljBa6dNqmpajOYLOzhZU3sFLMWduFUAEk8/SqGgeM9QvPFLeHfEvh86NqLWpu4PKvFuoZogwVsOFUggsOCtZ/wATDrIutENtFrUugiWT+1E0EsLs/KPLxsIfZnO7Zz0rnfCOiG1+MdpqmmeF9Z0zSptJnh+16k8kss0nmRtmQuztGMfdDEE4bgUQ1lr5/lp+IS0X3fmek+KLS+vfDl1Ho7zJfhd1uYZxES46AllZdvqCpBHasn4deHNT8MeGhp2s3ct1PbkQRuZFMRiQYQogA2AjqDk56k8V1tFC0v5g9TzTx9qU+l/FfwXPZ6fNqVy1vfxw2sLBS7FI8ZY8Ko6knoB36V0Xh3xjcalr1xoHiDRn0XWYYBdLB9oWeOeEtt3xyADODgEEAjIrF8cyarp/xJ8J6vp2h3urWtrBerd/ZItzRqyx4IJwN3HC5BOCBk8VLoa3/in4lJ4pk0m+0rTLDTnsrYahD5M1zJI6szeWfmVQEAG7GSTxRHovX9bfiEtLv0/T9DvqKKKACiiigAooooAK5vwH/wAi7df9hrVf/ThcV0lc34D/AORduv8AsNar/wCnC4oAPhx/ySzwp/2BbP8A9EJXSV534B8R6pB8NvDUUXgvXLlI9JtVWaKaxCSAQqAy7rkNg9RkA+oFdB/wlGr/APQieIP+/wDp/wD8lUAdJRXN/wDCUav/ANCJ4g/7/wCn/wDyVR/wlGr/APQieIP+/wDp/wD8lUAdJRXN/wDCUav/ANCJ4g/7/wCn/wDyVR/wlGr/APQieIP+/wDp/wD8lUAdJRXN/wDCUav/ANCJ4g/7/wCn/wDyVR/wlGr/APQieIP+/wDp/wD8lUAdJRXN/wDCUav/ANCJ4g/7/wCn/wDyVR/wlGr/APQieIP+/wDp/wD8lUAdJRXN/wDCUav/ANCJ4g/7/wCn/wDyVR/wlGr/APQieIP+/wDp/wD8lUAdJXN33/JU9C/7Aupf+j7Gj/hKNX/6ETxB/wB/9P8A/kqufvPEeqH4k6NKfBeuK66TfqITNY73BmsyWH+k7cDaAckH5hgHnAB6JRXN/wDCUav/ANCJ4g/7/wCn/wDyVR/wlGr/APQieIP+/wDp/wD8lUAdJRXN/wDCUav/ANCJ4g/7/wCn/wDyVR/wlGr/APQieIP+/wDp/wD8lUAdJRXN/wDCUav/ANCJ4g/7/wCn/wDyVR/wlGr/APQieIP+/wDp/wD8lUAXtC8OWnh+bVZLOSZzql899N5rA7ZGVVIXAGFwo65PXmtaub/4SjV/+hE8Qf8Af/T/AP5Ko/4SjV/+hE8Qf9/9P/8AkqjyA6Siub/4SjV/+hE8Qf8Af/T/AP5Ko/4SjV/+hE8Qf9/9P/8AkqgDpKrajDc3Omzw2E8VvcSIVjlmh85FPqU3LuHtkVif8JRq/wD0IniD/v8A6f8A/JVH/CUav/0IniD/AL/6f/8AJVJq6sGxN4N8Mf8ACJeHxppvDdkzSTFliEUce452RxgkIg7KCcVvVzf/AAlGr/8AQieIP+/+n/8AyVR/wlGr/wDQieIP+/8Ap/8A8lVTdwOkorm/+Eo1f/oRPEH/AH/0/wD+SqP+Eo1f/oRPEH/f/T//AJKpAdJRXN/8JRq//QieIP8Av/p//wAlUf8ACUav/wBCJ4g/7/6f/wDJVAHSVzfgP/kXbr/sNar/AOnC4o/4SjV/+hE8Qf8Af/T/AP5Krn/BfiPVIdBuVj8F65ODq2pMXjmsQATfTkr81yDlSSp7ZBwSMEgHolFc3/wlGr/9CJ4g/wC/+n//ACVR/wAJRq//AEIniD/v/p//AMlUAdJRXN/8JRq//QieIP8Av/p//wAlUf8ACUav/wBCJ4g/7/6f/wDJVAHSUVzf/CUav/0IniD/AL/6f/8AJVH/AAlGr/8AQieIP+/+n/8AyVQB0lFc3/wlGr/9CJ4g/wC/+n//ACVR/wAJRq//AEIniD/v/p//AMlUAdJRXN/8JRq//QieIP8Av/p//wAlUf8ACUav/wBCJ4g/7/6f/wDJVAHSUVzf/CUav/0IniD/AL/6f/8AJVH/AAlGr/8AQieIP+/+n/8AyVQB0lFc3/wlGr/9CJ4g/wC/+n//ACVR/wAJRq//AEIniD/v/p//AMlUAdJRXN/8JRq//QieIP8Av/p//wAlUf8ACUav/wBCJ4g/7/6f/wDJVAHSVzfgP/kXbr/sNar/AOnC4o/4SjV/+hE8Qf8Af/T/AP5KqL4dSvP4Slllgktnk1bU2aGUqXjJv5yVbaSuR0OCR6E0AS/Dj/klnhT/ALAtn/6ISukrm/hx/wAks8Kf9gWz/wDRCVYXWribx4+iW6Rm2ttPFzdOVO4O77YlBzgcJITwe3SjrYOlzcooooAKKKKACiiigAooooAKKKKACubvv+Sp6F/2BdS/9H2NdJXN33/JU9C/7Aupf+j7GgDpKK5D4keJdX8MaBZT+Hksnvr3UrexT7cjtEvmttyQrA8cd6xtQ134neF7CXV9d07w5rGm2q+ZdQ6SZ4rhYx9518wsrYGTjjpSTW/9dP8AMdnex6RRXPx+IDf6loU2mX+l/wBl6layXBSeQrczLtVkaFc4IGfmz0yK2LTULK/sEvrG7gubR1LLcQyq8bAdSGBwRwapq25Kd9ixRWHb60194mto9P1LRrnSrjT2uUSKffdSNvAEiAHaYcEgt/eIqzH4l0KXV20qLWtPfUVOGs1ukMw/4Bnd+lIZp0VzHirxe/haZJLmztfsOzc1zdapDal2zjy4xIQGYcE7mQcjBPONjQ9SOr6Ha6hIkMRnTeUguVnRfYSLw34cZ9etG6uD0di/RWbYeI9E1S9ls9M1jT7y6h/1sFvdJI8f+8oJI/GtKgAooooAKKKKACiiigAooooAK5vwH/yLt1/2GtV/9OFxXSVzfgP/AJF26/7DWq/+nC4oA6SiqGo67pGjyQx6vqllYvcNthW6uEiMh9FDEZP0rJ8E+I7vxLZ6tNexwIbPVrmyj8lSA0cbYUnJPOOvb2oWv9en+YPTf+t3+h0tFZWreKfD+gzRw67rum6bLIu5EvLyOFmHTIDEZFN0rxb4b127NroniDS9RuFQuYbS9jlcKOCcKSccjn3oWuwGvRVbUdRs9I02fUNTuI7a0t0Mks0hwqKO5rk/A3j2Xxnr2vwLp8llZacbf7KbiMpNMsiFt7KTwCMFRgHB564AtXYNjtaK4KXxR4s1/WNWi8EWmkfYdHuDayy6k0ha7nVQXSPZgIFzt3Hdz24rU07xza3/AMN5fFjwNbrb20slxbMdzRSRbg8ee5DKR78Ur+7zDt73KdTRXET6z45u5bDTtI0vT7e7NhHc3+o38cv2VJG6wxIpyzZyTluBjrWl4L8TXXiG31K31W1htdS0m9ayu1t5C8TsFVgyEgHBDDg8joaq2rX9aO35k30v/Xc6WiiikMKKKKACiiigArm/Af8AyLt1/wBhrVf/AE4XFdJXN+A/+Rduv+w1qv8A6cLigA+HH/JK/Cn/AGBbP/0QlV/Av/EwfXPEDEkapqMiwkjpDD+5THsSjN/wOp/h0ob4U+FVPQ6LaA4OP+WCVt6Zplpo2lW2m6bCILS1jEUMYYttUDAGSST9TzQt7h0LVFFFABRRRQAUUUUAFFFFABRRRQAVzd9/yVPQv+wLqX/o+xrpK5u+/wCSp6F/2BdS/wDR9jQBh/F7/kDeHf8AsZLD/wBG10njTWrDQPBmq6hqsyRW8drIPnP32KkBR6kngCpfEvhbR/F+kjTfENobu0EqyiMTPGQ69DuQg9/WsLS/hD4F0jUYr600FHuYTuie6uJbjyz6gSOwB9wKnlvFwfVv8Ul+hXNaSkun+bf6nIeGNNudI1r4UWN+hjuYdGvBIjdUJijO0+4zioNRuZ/D1n4j+HVi5judU1FF0kDqtteFmlI9oys59uK9budF0+71qy1a4t999YJIltLvYeWJAA4wDg5AHUH2qK68N6Re+JLLXrqySTVLCN4ra4LHMav94Yzg/UjjJx1NW2pO721v6N3/AOB95EU4xst9LeqVjiJbO00n4w2VnCWtrO08HzRKYwcxos0YyAO4A7Vx1vaN4X8A2N7qvhzQfFPhS2MVzDrOnSNbXoTeCs7KwBaTOMhXBPfvXtraJp7+IE1xrfOopataLNvbiIsGK7c7eoBzjPvWDF8LvBkGqC/i0KFZRL5yxeZIYFkzncId3lg55ztoTel/695v9fIbtsv60S/TzOavv+J38UNYbw94es9Z1GxtLeC4uNbuxHBaBgXVIoxE7EsDljx0ArioJri0+FPjuCOS0t7dfEiQXX9lFlt4IGaETiPuFwWB6d+K9j1r4feF/EOrDU9W0tZb3YI2mjmkiMiD+F9jAOPZsirWmeD/AA/o1vf22maTb29tqBBubZV/dSYQJjyz8oG0AYAAPepWn3fqn+n4jf8AX3WOH+JWh6DoXhPSL/w5YWdhqdrqNomkyWcSo7FpFBRSvLKyFsjoRya9SrltI+GvhHQtUj1DTNFijuYc+Q0kskogz18tXYiP/gIFdTVX0+d/y/yJtr8v8wooopDCiiigAooooAKKKKACub8B/wDIu3X/AGGtV/8AThcV0lc34D/5F26/7DWq/wDpwuKAOZ8KaVpmt+PfHMviKytb3UIr5LZEuoxIY7TyVMYUMOFYlycdTn0qX4LW1jZ+F9ZttJKmxh1+9S3KnI2BwFwe4xXSa94D8NeJr6O81rS0nukTy/OSR4nZP7jFGBZf9lsj2q/ofh7SvDVlLaaFZJZW8szztFGTt3t1IBPA46DAHYUR0Wva35a/h97Ceu3e/wCD/wA/wOd8bRalJqNudP8Ah7pvipfK+a4vLyGFojn7gDxsSO/41D4Mi1RNbc3/AMNtL8MReS2L20vYZnY5HyYSNTg9c57V3VFEdAeo2WKOaMpNGsiEglXXIODkcfWuG8Jf8lc8f/79h/6T13dULTRNPsdX1DU7W38u81Ixm6l3sfM2LtXgnAwOOAKFo/68g6HH/C11soPFljdShbi08Q3kkwc42pIRIjH2KnOa5fw4DqXgXTNLj3CHxJ4lublABwbRbh52P+6yxgf8D969D134e+FvEuo/b9Z0lJ7ooEeRJXiMqjosmxgHHs2RWomhaZFfWV3FZxxy2ED21rsyqwxtt3Kqj5R9xe2QBgd6I9G+iS+6352X4ia3t1bf33/zKWp3Ol6/dXvhX+1Lq1v0hjnlSzmeCZIy3DK4xwSuDtPsetct8LYzo2teKfCltOL3TtIu42gvGVfNd5U3yJKygB3U4yx5ORmup8Q+C/D/AIqeGTXNOWeaAERTxyvDKgPUCSMqwHtnFXdE0HS/DmmJp+h2MNlaoSwjiXGSepJ6kn1PNEdL/wBdRvXQ0KKKKACiiigAooooAK5vwH/yLt1/2GtV/wDThcV0lc34D/5F26/7DWq/+nC4oAPhx/ySzwp/2BbP/wBEJXSV534B8A+D7z4beGrq88J6HPcTaTaySyy6bCzyMYVJZiVySSckmug/4Vx4I/6E3w//AOCuD/4mgDpKK5v/AIVx4I/6E3w//wCCuD/4mj/hXHgj/oTfD/8A4K4P/iaAOkorm/8AhXHgj/oTfD//AIK4P/iaP+FceCP+hN8P/wDgrg/+JoA6Siub/wCFceCP+hN8P/8Agrg/+Jo/4Vx4I/6E3w//AOCuD/4mgDpKK5v/AIVx4I/6E3w//wCCuD/4mj/hXHgj/oTfD/8A4K4P/iaAOkorm/8AhXHgj/oTfD//AIK4P/iaP+FceCP+hN8P/wDgrg/+JoA6Subvv+Sp6F/2BdS/9H2NH/CuPBH/AEJvh/8A8FcH/wATXP3ngHwevxJ0a1XwnoYt5NJv5HiGmw7GZZrMKxG3BIDsAe24+poA9Eorm/8AhXHgj/oTfD//AIK4P/iaP+FceCP+hN8P/wDgrg/+JoA6Siub/wCFceCP+hN8P/8Agrg/+Jo/4Vx4I/6E3w//AOCuD/4mgDpKK5v/AIVx4I/6E3w//wCCuD/4mj/hXHgj/oTfD/8A4K4P/iaAOkorm/8AhXHgj/oTfD//AIK4P/iaP+FceCP+hN8P/wDgrg/+JoA6Siub/wCFceCP+hN8P/8Agrg/+Jo/4Vx4I/6E3w//AOCuD/4mgDpKK5v/AIVx4I/6E3w//wCCuD/4mj/hXHgj/oTfD/8A4K4P/iaAOkorm/8AhXHgj/oTfD//AIK4P/iaP+FceCP+hN8P/wDgrg/+JoA6Siub/wCFceCP+hN8P/8Agrg/+Jo/4Vx4I/6E3w//AOCuD/4mgDpKK5v/AIVx4I/6E3w//wCCuD/4mj/hXHgj/oTfD/8A4K4P/iaAOkrm/Af/ACLt1/2GtV/9OFxR/wAK48Ef9Cb4f/8ABXB/8TXP+C/APg+60G5kuvCehzOuralGGk02FiFS+nVVyV6BVAA7AAdqAPRKK5v/AIVx4I/6E3w//wCCuD/4mj/hXHgj/oTfD/8A4K4P/iaAOkorm/8AhXHgj/oTfD//AIK4P/iaP+FceCP+hN8P/wDgrg/+JoA6Siub/wCFceCP+hN8P/8Agrg/+Jo/4Vx4I/6E3w//AOCuD/4mgDpKK5v/AIVx4I/6E3w//wCCuD/4mj/hXHgj/oTfD/8A4K4P/iaAOkorm/8AhXHgj/oTfD//AIK4P/iaP+FceCP+hN8P/wDgrg/+JoA6Siub/wCFceCP+hN8P/8Agrg/+Jo/4Vx4I/6E3w//AOCuD/4mgDpKK5v/AIVx4I/6E3w//wCCuD/4mj/hXHgj/oTfD/8A4K4P/iaAOkorm/8AhXHgj/oTfD//AIK4P/iaP+FceCP+hN8P/wDgrg/+JoA6Sub8B/8AIu3X/Ya1X/04XFH/AArjwR/0Jvh//wAFcH/xNRfDq2gs/CUtrZwxwW8OranHFFEgVI1F/OAqgcAADAAoAl+HH/JLPCn/AGBbP/0QlbL6pZx6xFpbS/6bNC86RBCcxqVVmJxgcsByee3Q1jfDj/klnhT/ALAtn/6ISs7Tr2H/AISbxd4nvDttdNjWwjdjwEhQyysP+ByEH/cpXS36Xf8AXzsOze39f0rnVWOp2epSXaWUvmtZzm3n+QgLIACVyRzgMORkduoNW65vwBYy2Xgmxe7Qpd3wa+uVPUSzMZWB+hbH4V0lU007PclNPVBRRRSGFFFFABRRRQAUUUUAFc3ff8lT0L/sC6l/6Psa6Subvv8Akqehf9gXUv8A0fY0AdDNNFbQPNcSJFFGpZ5HYKqgdSSegrkY/iz4HlulhXxBCFZ9i3DxSLbs3oJivln/AL6rO+Kv+nT+E9BuT/xLtW1qOK9TtNGiM4jPszKOO+K7m502yu9Lk065tIZLKSPymt2QbCmMbdvTGKSvZv5fgn+oaXt/XX/IsBgyhlIIIyCO9LXinhvxFq2i/D3TLLT7uRY7TxiNEjlkVZDJaC4K7csD/CduRyMcGu/8Ta3qGn+PvB2nWlx5dpqU90l3HsU+YEgZ1GSMjDAHgiqtdXW3/AT/ACYvXz/C6/Q6yivNdHvPGXjy2vNc0bxJBodgl1NBYWi2CTiZYnKb5mbn5ip4TbgY5NQp8RNb1rw14dtdLhtrDxBrV/Np80kiGSG1aDf50irn5vuHaCe/J4pLX+u/9fIb0f3/AIHpV3dQ2NlPd3T+XBBG0kj4J2qoyTgcngUzTdQtdX0u11HT5fOtLuFZoZNpXejDKnBAIyD0IrjG/wCE28Nw6qNQ1VNb09dMmuINSe3igmtrhFyEZF+V1PUHbxjBzXMan8Tru30Twbp954hs9DutY0eO/vtZuoFfb8i/LHHgJvZiTyMAA8ULr8v/AG7/AC/4e47f193+f/DHsdFeTeGPiS15qms6DB4mtPEht9Kk1Cz1SCBY3Urw0cir8hIJUggAEHkVU/t7x7B8JrPx9P4hty0NjFdS6UbBPLuUwu7dJwwdhlvlwozjHGaP+B+N1+jF1t/XT/M9bk1Gzi1KDT5LmNby4RpIoC3zui43MB6DI59xVmvLNd0/VL748eHbi016eyjk0meVYktonCIrw748spJD55PUY4xWJJ8U/wC2tR1KdviHpvhWO1upbe0057JJmkEbFd8zPz8xBICbcDHJNJPvvr+DsHp5firnt1Fc18PfFn/Ca+CLLWmSNJZS8cwiJKb0coxUn+EkZHsRXS1TVmJahRRRSGFFFFABXN+A/wDkXbr/ALDWq/8ApwuK6Sub8B/8i7df9hrVf/ThcUAdJRXj/iD4lLceNtX0h/HFl4PtNJkWBd9qk093IVDMx8wFVQZxgDJIPIrrPhl41PjPQ71prm2vLjTbx7N7u0UrFdAAMsqgk7cqwyM8EGiPvK69fkD0djtKK4Xx5eS22pWyx/E2x8HAxE/ZrmK1czc/fHnHOO3HFQ+B72W4150k+K1h4uHkMfsFvDaKy8j95mE7sDp6fNRHUHoegVRtNa06+1W+02zukmu9P2faolB/dFwSoJ6ZIGcdvxp2rWU2o6TcWlrfTafLMmwXUABkiz1K5yM4zg9q8/8Ahrodl4d+IXjnTNNWQQQvYndLIXd2aAszsx5LFiST6mhatryDodRrvxB8LeGtQFjrOrRwXO0O8aRPKYlPRpNinyx7tgVux3ttNYLewzxyWrR+asyMGVkxncCOoxzmuG+FqLeweLL66j3XF34hu45i4yWSMiNFPsFGMVzmiXEsfwWvNCtHbdcazc6HZFTysb3TJkeyxlj9FpatJLdpP77afigur+SbX3X1/BnqH/CR6X/ZNhqf2k/ZNRaJLVzE+ZDLjYNuNwznuBgcnFZN98S/B+maxJpl7rkEVxC4jmOxzFC5/heUDYh9mYVX1GCK8+IHh3RYIwLbR7aTUXUHhDjyIR+TSkf7lZfjrTNS0HwLfaN4J8Mw3VheRTteyG4DSReYcyOsT/658MzYLryAOelEmkrrbX+vLZ6jiruz8v68+h6IrBlDKQQRkEd6WsPwVcWF14F0WXRrmS7sfsUSwTy/fdVULlv9rjn3rcq5Llk0RF3imFFFFSUFFFFABXN+A/8AkXbr/sNar/6cLiukrm/Af/Iu3X/Ya1X/ANOFxQAnw63f8Kp8K7MFv7FtMZPGfISs0eC9QPwyTw489sbu8lD6nMGbY4km8y428ZOQXUZA6jOK0/hx/wAks8Kf9gWz/wDRCV0lACABVAUYAGAKWiigAooooAKKKKACiiigAooooAK5u+/5KnoX/YF1L/0fY10lc3ff8lT0L/sC6l/6PsaALHi3wvb+LdD+wzzyWk8UyXNpdw4320yHKSLn09O4JFclqvh/4paqsFuniHRtMaDK/wBp2Qm3yqRg7rZsx56HO44PTFek0UrDuea2/wAPb+T4W6d4fhWDStV0i8iu4J2kNxFcTxvv81jwxDknIIBGe+BmyPC3jDV/G3hvxB4ju9IiTR5J91lYGUqRJCyb9zjLNkjjCgDPJJr0Giqu73/rsLpY89tPC3jTwsb3T/B17osmk3VzLcQf2ksolsWkYsyqEyJFDEkAlevU0rfDKWw8LaJb6HqgXW9EunvYb66i3JcSybvOEig5CvvbocjjHSvQaKS0X9dNv6+8N3/XU4b/AIR3xjrRvrjxLqVjbl9Oms7bTdNklNuXkXHmyswBYjoBt4BPU1Uj8Ba3pmn+Fr/Qr6yi1/Q9LTTZ0uFdra7j2ruUkAMuGUMrY+or0Sijbb+t/wDNh/X5f5I4zT/D3im8fV77xPqtsbi9sjZ22m2LyfZLcYPzkty7knltowBgVBd+CNSn+Bq+DEntRqI0qOy80u3k71UAnO3OOP7ufau6opWVmu/6X/zY02mn2/4H+Rxut+Gtbbxh4f1/QpLBn0+2ks7qC8Z1DRSFCWRlB+YbOARg56is+28LeM/Cz39l4MvdGl0q8uZLmFdTWUS2LSEs4XZkSLuJIB29cZr0Kin/AMH8dfzEtF/XTQzPDmlXGieHrTT77UrjVLmFP315csS8zE5J5JwMngdhgVp0UU27sFoFFFFIAooooAK5vwH/AMi7df8AYa1X/wBOFxXSVzfgP/kXbr/sNar/AOnC4oAyrnwz4n0LxNqmq+CbnS5bfWHWa6sdV8xFjmChfMR4wTyAMqR1HUVu+FNH1PR9JkXXtXk1XULid7iaU5EcZY/6uNSTtRRwB+NblFC0VgerM/UNB0fVpVl1XSrG9kRdqvc2ySFR6AsDxSWHh7RdKuDPpej2FlMV2mS3tUjYj0yoBxxWjRRsAVzWh+HLvTPHPifWZ5IWttXa1MCoxLr5UWxtwIwOemCfwrpaKAOCl8MeLtB1rV5fBN3pBsdYuDdyRaksga0nYAO6bMhwcBtp2896n0bwDJoz+GbVbpLiz0b7RdXEkmRJc3kgx5m3GMfvJT14yuK7aihaIHqzD0jRLi18Ta7q988TvqDxR24jJJjgjTAU5A53tIePUc1zf9gfEWwtbnSNL13S7qwmd/J1LUhM95bI5J27R8shXOFJZegyK9AopWHcy/DOgW3hbwxp+iWLO8FjCsSvJ958dWPuTk/jWpRRVNtu7JSsrIKKKKQwooooAK5vwH/yLt1/2GtV/wDThcV0lc34D/5F26/7DWq/+nC4oA5/wDZ+MW+G3hprPXdDitzpNqYo5dFmd1XyVwGYXShiB1IAz6DpXQfYfG//AEMPh/8A8EM//wAmUfDj/klnhT/sC2f/AKISukoA5v7D43/6GHw//wCCGf8A+TKPsPjf/oYfD/8A4IZ//kyukooA5v7D43/6GHw//wCCGf8A+TKPsPjf/oYfD/8A4IZ//kyukooA5v7D43/6GHw//wCCGf8A+TKPsPjf/oYfD/8A4IZ//kyukooA5v7D43/6GHw//wCCGf8A+TKPsPjf/oYfD/8A4IZ//kyukooA5v7D43/6GHw//wCCGf8A+TKPsPjf/oYfD/8A4IZ//kyukooA5v7D43/6GHw//wCCGf8A+TK5+8s/GP8AwsnRlbXdDNwdJvykg0WYIq+dZ7gV+1ZJJK4ORjB4OQR6JXN33/JU9C/7Aupf+j7GgA+w+N/+hh8P/wDghn/+TKPsPjf/AKGHw/8A+CGf/wCTK6SigDm/sPjf/oYfD/8A4IZ//kyj7D43/wChh8P/APghn/8AkyukooA5v7D43/6GHw//AOCGf/5Mo+w+N/8AoYfD/wD4IZ//AJMrpKKAOb+w+N/+hh8P/wDghn/+TKPsPjf/AKGHw/8A+CGf/wCTK6SigDm/sPjf/oYfD/8A4IZ//kyj7D43/wChh8P/APghn/8AkyukooA5v7D43/6GHw//AOCGf/5Mo+w+N/8AoYfD/wD4IZ//AJMrpKKAOb+w+N/+hh8P/wDghn/+TKPsPjf/AKGHw/8A+CGf/wCTK6SigDm/sPjf/oYfD/8A4IZ//kyj7D43/wChh8P/APghn/8AkyukooA5v7D43/6GHw//AOCGf/5Mo+w+N/8AoYfD/wD4IZ//AJMrpKKAOb+w+N/+hh8P/wDghn/+TK5/wXZ+MW0G5Nrruhxp/a2pArJoszkt9un3HIuhwWyQMcAgZOMn0Sub8B/8i7df9hrVf/ThcUAH2Hxv/wBDD4f/APBDP/8AJlH2Hxv/ANDD4f8A/BDP/wDJldJRQBzf2Hxv/wBDD4f/APBDP/8AJlH2Hxv/ANDD4f8A/BDP/wDJldJRQBzf2Hxv/wBDD4f/APBDP/8AJlH2Hxv/ANDD4f8A/BDP/wDJldJRQBzf2Hxv/wBDD4f/APBDP/8AJlH2Hxv/ANDD4f8A/BDP/wDJldJRQBzf2Hxv/wBDD4f/APBDP/8AJlH2Hxv/ANDD4f8A/BDP/wDJldJRQBzf2Hxv/wBDD4f/APBDP/8AJlH2Hxv/ANDD4f8A/BDP/wDJldJRQBzf2Hxv/wBDD4f/APBDP/8AJlH2Hxv/ANDD4f8A/BDP/wDJldJRQBzf2Hxv/wBDD4f/APBDP/8AJlH2Hxv/ANDD4f8A/BDP/wDJldJRQBzf2Hxv/wBDD4f/APBDP/8AJlRfDpZ18JSreSRy3A1bUxLJFGURm+3z5KqSxUE9AScep611Nc34D/5F26/7DWq/+nC4oAPhx/ySzwp/2BbP/wBEJXCjWdS+2HWBq94dX/4Sn+yzpX2k+SLbztmzyemfK/eb8bu+ccV3Xw4/5JZ4U/7Atn/6ISqvjGK3tJIn0axtE8T6s32K1vvIUzRKR88hfGdqIC2M4JCjvSV1JP8Ardfnt6Me8Wv62f8Aw/yJ9Gu7nX/Fl9qUc8q6Tp+6xtY0chLmUH99KQDhgpARc9CH9a6evHPFOl6Jouq32na5G6WlroUUXhwMWLfaQZN5hI5M5PlHI+b8M16poX20eHdO/tXJvvssX2nPXzNg3frmqW3p/wAH+n2uiXe/r/wP8/nZl+iiikMKKKKACiiigAooooAK5u+/5KnoX/YF1L/0fY10lc3ff8lT0L/sC6l/6PsaAMX4vT3cXhzSIbK/vLA3et2dtLLZXDQyGN3wwDKQRkVn+LvB8fhjwjqWtWPjbxLYXNjbvNDLd6xJPEXUZVWjkyrAnAxjPPFWPjVaQX/hnRLS8iWa3uPEFjHLG3R1aTBB+oNZPjH4UaN4dig8V+BvDlidR0lvOk094RJHeQjllCtnbIByrLzkY5qV8Ld7a79tI/kX9paX02+bOrj8eRaZ4N0C+1+1un1fVraNo9MsoDJPLKUDOFTsBnJJIA7mr+heNtO1uW7t5be90m+soxNcWWpw+VKkZziTglWXg8qSOK868XX9pr+t+E/HNrq2rWHhyawmgl1HSgDJZu5UjzAUfapKlWOOCBk1P4StrHVvGl/q+iX2veLLe00iS2W/1G4jW3uGdsm3TEKlvuglskDPSqk223a2+na17f156eeaskvl8/6/4c6m3+KmkzyWsraTrcGl3kix2+rzWWLWUscIc53BWOMMygcjmqWneM9Tn+Nmq6DLpuqtp8NpAsR8qMRQsWk3TMd27Y+0AHBPB4FcDY64NE060j+HniTWY9WEkaHwXqUDXQiJYBoQzIHiRcn584wK7lr63sPjlq1nqE/2SbWtGtobAupxM6NNuCnGCRkHFD0aa13+eg+jT8vzNG4+K+jRNcTW2ma3faXaO0dxq1pYmS1iKnDHdncwUg5KqwGOtdlaXdvf2UN3ZTJPbzoJIpYzlXUjIIPpivJvCPjfRvBvw5t/C2vxXEGv6dA9q2lC1keW7fJAMQC4cPkHcOOea7f4a6PeaB8NNC0zVE8u7t7VRLHnPlkknb+GcfhTsrP5a99xXd18/wBDqKKKKQwooooAKKKKACiiigAooooAK5vwH/yLt1/2GtV/9OFxXSVzfgP/AJF26/7DWq/+nC4oA4mDXdQ8R/HK7067tvFFpY6YkHkQ28qw26tucmWcK+XR9oCg546gV6L4i1xvD+l/bU0nUtWPmBPs+mQiWXnvgsBgY9a5rQf+S3eLv+wdp/8A7VrpfEWnarqel/Z9C1t9EuvMDfaktY5ztHVdr8c+tTryL+uo/tv+uhzll8S5by/t7Y+A/GNsJpFjM0+nRrHHk43MRKcKOpOOldxXD2XhLxzBf28138Sri7gjkVpbc6LaoJVByV3AZGRxkciu4q+hPU8w1XxB4rn+KHheKe3bR9Cm1G4t0gMv7692QSHzHCnAj4BVTyepxxWn4nuL7xB8RLHwfaand6ZZJp76jfzWMvlTSDzBHHGr9UGdxJHPGMineN/+ShfD/wD7CNz/AOkr1V8T3cHhD4rWXirVhJFo95pT6dc3gjZktpFkEiF8Z2qwLDJ4yB0qY2uk9rv/ANJ0/H/Ip31a3sv/AErX8LlJdY1zwnJ4x8PRX91rEunaR/amkzXp8yYBg6mNmxmTa6AgnnDYNO0HWo9A1+DHiC61TSJfD7apfz3d2bjypFZNsik/cDhn+QYX5eAMVe8H3C+KfiRrXi2wSU6R9hg02yuJI2QXJVmeR0BAJXLKAe5BxVi80fTr7xZF4d0bTrSz0+3dNS1n7NAsYmfOYIm2gZJYFznsgB4amr3V93/wf0afm13E7a22X/A/W6+Zt+EY9RfSX1LWnmW71KU3JtZHJFohACRAZwCFA3Y6sWNc54q0x11C+1fxl43uPD+jIyx6bFYX/wBkCnbkmQkDzHJBwnIwOhrmdNEP/CRWO3zB42/4SKY333vO+w+ZJ9//AKYeTs25+XOMc11euePPDtlq1/o3j+wSwihcGzkvIDPDfIV+8h2EbhkqU5P1zSequv60W3ff8xrSTT/rV/5fdY1PhzqOr6r4EsbvxB5jXbmQLLLF5bzxByI5GTA2lkCnHvXUVwnwjsLqx8K3pktbiy0+41KefS7O5Uq9vasRsXaeVGdxCnoCK7url/X9fmSgoooqRhRRRQAVzfgP/kXbr/sNar/6cLiukrm/Af8AyLt1/wBhrVf/AE4XFAB8OP8AklnhT/sC2f8A6ISukrzvwD400u1+G3hq3ltdcZ4dJtUYxaBfSISIVB2usJVh6EEg9Qa6D/hPNI/58/EH/hOah/8AGKAOkorm/wDhPNI/58/EH/hOah/8Yo/4TzSP+fPxB/4Tmof/ABigDpKK5v8A4TzSP+fPxB/4Tmof/GKP+E80j/nz8Qf+E5qH/wAYoA6Siub/AOE80j/nz8Qf+E5qH/xij/hPNI/58/EH/hOah/8AGKAOkorm/wDhPNI/58/EH/hOah/8Yo/4TzSP+fPxB/4Tmof/ABigDpKK5v8A4TzSP+fPxB/4Tmof/GKP+E80j/nz8Qf+E5qH/wAYoA6Subvv+Sp6F/2BdS/9H2NH/CeaR/z5+IP/AAnNQ/8AjFc/eeNNLb4k6NcC11zZHpN+hB0C+DktNZkYTydxHynJAwOASNwyAeiUVzf/AAnmkf8APn4g/wDCc1D/AOMUf8J5pH/Pn4g/8JzUP/jFAHSUVzf/AAnmkf8APn4g/wDCc1D/AOMUf8J5pH/Pn4g/8JzUP/jFAHSUVzf/AAnmkf8APn4g/wDCc1D/AOMUf8J5pH/Pn4g/8JzUP/jFAHSUVzf/AAnmkf8APn4g/wDCc1D/AOMUf8J5pH/Pn4g/8JzUP/jFAHSUVzf/AAnmkf8APn4g/wDCc1D/AOMUf8J5pH/Pn4g/8JzUP/jFAHSUVzf/AAnmkf8APn4g/wDCc1D/AOMUf8J5pH/Pn4g/8JzUP/jFAHSUVzf/AAnmkf8APn4g/wDCc1D/AOMUf8J5pH/Pn4g/8JzUP/jFAHSUVzf/AAnmkf8APn4g/wDCc1D/AOMUf8J5pH/Pn4g/8JzUP/jFAHSUVzf/AAnmkf8APn4g/wDCc1D/AOMUf8J5pH/Pn4g/8JzUP/jFAHSVzfgP/kXbr/sNar/6cLij/hPNI/58/EH/AITmof8Axiuf8F+NNLttBuUktdcJOrak4MegXzjDX07DlYSM4IyOoOQQCCKAPRKK5v8A4TzSP+fPxB/4Tmof/GKP+E80j/nz8Qf+E5qH/wAYoA6Siub/AOE80j/nz8Qf+E5qH/xij/hPNI/58/EH/hOah/8AGKAOkorm/wDhPNI/58/EH/hOah/8Yo/4TzSP+fPxB/4Tmof/ABigDpKK5v8A4TzSP+fPxB/4Tmof/GKP+E80j/nz8Qf+E5qH/wAYoA6Siub/AOE80j/nz8Qf+E5qH/xij/hPNI/58/EH/hOah/8AGKAOkorm/wDhPNI/58/EH/hOah/8Yo/4TzSP+fPxB/4Tmof/ABigDpKK5v8A4TzSP+fPxB/4Tmof/GKP+E80j/nz8Qf+E5qH/wAYoA6Siub/AOE80j/nz8Qf+E5qH/xij/hPNI/58/EH/hOah/8AGKAOkrm/Af8AyLt1/wBhrVf/AE4XFH/CeaR/z5+IP/Cc1D/4xUXw6uEuvCUtxEJFSbVtTdRLG0bgG/nI3IwDKfUEAjoRQBL8OP8AklnhT/sC2f8A6ISukrm/hx/ySzwp/wBgWz/9EJVO0+Idtd+OJvDK6VqK3UUUbtugbK7ndSW42hAFU7wx3bsAZBFG7sHS52FFcgPiHanxx/wjH9l6h9r8sPj7O2R+8K7+m3y8Ddv3e2N3FdfQtVcOtgooooAKKKKACiiigAooooAK5u+/5KnoX/YF1L/0fY10lc3ff8lT0L/sC6l/6PsaAOkormPHni248HaHbXtlpY1S5ur2GyitjciAM8hwDvKtjn2rHHiv4kZGfhnbgf8AYxxf/G6Frt/X9XB6Hf0UDJAyMH0ooAKKKKACiiigAooooAKKKKACiqFtd6hLrV9bXOmeRYwrGba9+0K32ksDvGwcptwBk9c8dKv0AFFFVNU1D+y9Pe6+yXV4VKqsFpF5kjkkAADgDrySQAMkkAUAW6KydI1/+17qaAaVqlkYEBke9tvKTcSfkVs4cjGSVyvI5zxWtQAVzfgP/kXbr/sNar/6cLiukrm/Af8AyLt1/wBhrVf/AE4XFAHSUUUUAFFFFABRWP4p8S2vhTQ21G8imuC0iQQW0ABknldgqIuSBkk96w7DxzqkPiCw0rxf4ZfQ21RmSxnjvUuo3kClvLcqBsfAJHUHHBoWuwPQ7SioL26+xWMtyLea48pd3lQLudv90ZGT7VzHhf4g23iqw1C5sNLv2WyknQ7IWxJ5blQqlwmXYANt/hzgnNAdLnXUVyvhHx5aeL7u+gsbK8jFnPJE8zwuqDaQAGLquHOSdgBK45IyM6PinxJD4X0cXklrPezTTJbW1rbgb55XOFUZIA9yeAAaOiff9Q3djZorkNH8aahJ4kt9C8VeH20S+vYXms2S8S5inCY3ruABDgEHGMY6E119ABRRRQAUUUUAFc34D/5F26/7DWq/+nC4rpK5vwH/AMi7df8AYa1X/wBOFxQAfDj/AJJZ4U/7Atn/AOiErQi8N6PBq39pw2ESXxleU3AzvLOoViT3yFUY6fKPSs/4cf8AJLPCn/YFs/8A0QldJQBmDw3pA1b+0xYRC+84z/aOd+8x+XnPptAGOntmtOiigAooooAKKKKACiiigAooooAK5u+/5KnoX/YF1L/0fY10lc3ff8lT0L/sC6l/6PsaAOc+NkU9x4X0WG0uTaTya/ZLFcBA5iYyYDbTwcHnB4NXLfwh47iuopJ/idcTxI4Z4jolqu9QeVyBkZ6ZFbnjHwhaeNNGi06+vL2yWG5juo57GRUlSRDlSCysOvtXP/8ACq5v+ih+N/8AwZx//GqUdL+t/wAF/kOWtvT9WZHxauZ/Buq2Hi/wwVbXrhHsXsNjP9vh2ltxVRnMRG/PpkdxWf4i0OxsfhJoI0rVWnk1PXLC6n1hD8880kqlps9jzwOwAHavSoPCdlF4sbxDPcXV3ei0W0hFw6slvH1bYAowWOCxJJOB0HFcR40+H1vZ+DYdG0a3vr3T7vxDa3Mlio3paxtMDKE2gMkfJJyTjJ5FC0aXmv8A0pafr/SE9dfJ/lv8thdb8N6d4A8UeFdQ8JpLZy6jqq2F9AJ3db2N0clpAxO51Kht3XrmovC/hXSfiI2ua14xhk1G7XVrmzt43ndRYxxPsVYwrDY2BuLDkk9a6zSfh9p2m65Dq11qOq6xdWoZbM6nd+ctoGGD5YwOSONzZbHeotS+G+n3urXd/p+ra1okl+269j0u88qO5bGNzKQcNjjcu0+9P/g/Lb/J/eD/AMvnv/mvuPNWkvtd0Pwnpd7ql1N9k8YXGmpfiUiaaCOOZc7xzuKZXcOe+c811lvoOn+CvjFpFr4YgeytNU0y8e8tUlZo5niMZRypJ+b5jz1Oa6lfAWiQ2egWljFLZ22g3X2q0ihfhn2up3lgS2d7EnOSe9X7vw7aXnirTtflkmF3p8E0ESKw8tll27iwxnPyDGCO/Wn/AMHX/t2356ktXv8A19q/5aHh/h+zvvF/h1vEereBdU1rU715pI9Zj1uCE22HYKIQZVMQTGMYHQ5zW7MupeJE+FsHiK6Iurs3Ud7LaXSt56rAc4liJHzhRkqe55FdnefCvSLie7FnqmtaZY3ztJd6bYXvl287N97K4JXd32Fc1sSeDdKN94fuLdJLVfD28WUEBAjAaMx4YEEkBTxgjn1oVrWa7fhf+vPqU9W36/jt/XTocNFp9t4B+J2oWfhWBrWxm8NT6g9gsjNE1xHKArhSTgkEg461BoHgLSNZ+G1h4pvtVntPEV3aJqEniOS5bzLdyN56sFEYzjZwuB+NejyeG7OTxhH4kd5jdx2DWAjyPLMbOHJIxnOVHfGO1c6fhLoeGtVv9XTRXkMjaGt4RZkltxG3G4LnnYG2+1KOyvv+Wr/Rr7hu19P60X/B+8w01GKx8ZfEi/m1VbKOPSLBzqMcfmCP91LiRVB+b1AzzxXF+INNj0bwxY67ong/WdMvoLi1ZvEeo36R3ExaVAS6CV3ffk/KwAAPtivZZ/Ami3d5r012ks0evW0Nrd27MBGEjVlXZgAqcMe56DGKxLn4QaVqGk/2fq2veItRhjKm1+1X4b7KVIKlAFAYjGAXDHBPrTTtO/p+D1/r7xS1jb+tkipe6TaeOfi1rGkeJ1e60rRrC2e205pGWGR5S5aV1BG8jaFGcgfWqWvWGn+GfCdx4fi8T6jcWs2rxRQ6bYEy3iowD/YlfzAyhgCdzEYUntWj8V9P02x0tfEcertoeuwoLa1vI7vyGuFzuMJ+Vg5IDFVKn5vTmrNh8PNA1jwRZR+VqllPcSpqv2yW4Iv47kr/AKxpDn5wDtIxjtipW3pv99/y/wAtht63+77rfn/nucfpdl/wjvxc8Kro/hK68JWmpG6iuI5L6N/toWEuC0SO4BUgHcTnmtTwd4Q0j4h6PfeIfF0c1/qdxqF1FG7XDqbBI5WREiCsBGQFByOSTzmuntfhnpkGv6Zrl1qusahqumyM0V3eXYkZlZChQrtChcMT8oUkgZJpL74ZaZc6heXNhq2taPHqDmS9tdNvfKhuHP3mKkEqT3KFSab6ej/O4v8Agfr/AMAX4Vape6t4Bt31K7a9mtrm4tBductOkUzIrk9yQoye9XvAf/Iu3X/Ya1X/ANOFxWxpOk2OhaTbaZpNuttZ2qCOKJM4UfjyfqetY/gP/kXbr/sNar/6cLimxI5LS/Dum/EHxl4qu/FsUl7/AGVqIsLG1aZ1S1jWJG8xVUjDsWJ3deBjFXPg1aiy0fxJarcyXQh8R3kYnlfe8mCoyzdz6ms7xXaxW/jW+u5NG8YadNOqKb3wwxlj1JAvAlAU+Wy8rk7Tj+Kug+FPhq48M+EriK8tGsXvtQnvVtHk8x4EdvkRmycsFAzyee9KGi+Vvndfna45/rf5Wf8AmZnxM03wxe6vZt4i8Aa54omWAiOfTbcyJEu4/KT5ic556Gq/w40vwpZ+JpJPD/w517wzdG2YG81G3KRsu5cpnzW5PB6djXqNFEfdCWpQ1qTSrbTWv9eFqtpYn7SZrlQVhK8hxnoR2I5rjdLh1D4geKNO8S31tLp3h/SmabSradds15KylftDr/AgUnap5OcnHAre8beC7Tx1osWmahqGoWMMVwlxusJERnZc7QSysCAeenUCs/SPh3LpOrW983jbxZfiBt32a8v0eGT2ZRGCR+NEd9f68/6/ysS20/ry/r/h+wmiSeB4ZRujkUqwzjIIwaoaZ4e0nRklTSrGK0SaNI3WIbQyou1ePZeM9eBWlRQBm6V4d0nQ2Y6RYxWm6KOFvKyAUTO0H1Iyeep71bub21s2hW7uYYDPIIohLIF8xz0Vc9T7Cp6yvEXhvTfFOkHTtXiZ4t6yxvG5SSGRTlXRhyrA9CKHcDgr6x1Twz8WvD+p63qg8QRatLLYWqzRCF9NLI0mYgnyspChWLDdgD5uTXqVcro3w/sNK1qPV73UtV1vUIEaO2uNVuRKbZW4YIqqqgkdWxuPrXVUbRSDd3CiiigAooooAK5vwH/yLt1/2GtV/wDThcV0lc34D/5F26/7DWq/+nC4oAPhx/ySzwp/2BbP/wBEJXSV534B8FaXdfDbw1cS3WuK82k2rsItfvo0BMKk7UWYKo9AAAOgFdB/wgekf8/niD/wo9Q/+P0AdJRXN/8ACB6R/wA/niD/AMKPUP8A4/R/wgekf8/niD/wo9Q/+P0AdJRXN/8ACB6R/wA/niD/AMKPUP8A4/R/wgekf8/niD/wo9Q/+P0AdJRXN/8ACB6R/wA/niD/AMKPUP8A4/R/wgekf8/niD/wo9Q/+P0AdJRXN/8ACB6R/wA/niD/AMKPUP8A4/R/wgekf8/niD/wo9Q/+P0AdJRXN/8ACB6R/wA/niD/AMKPUP8A4/R/wgekf8/niD/wo9Q/+P0AdJXN33/JU9C/7Aupf+j7Gj/hA9I/5/PEH/hR6h/8frn7zwVpa/EnRrcXWubJNJv3JOv3xcFZrMDD+duA+Y5AODwSDtGAD0Siub/4QPSP+fzxB/4Ueof/AB+j/hA9I/5/PEH/AIUeof8Ax+gDpKK5v/hA9I/5/PEH/hR6h/8AH6P+ED0j/n88Qf8AhR6h/wDH6AOkorm/+ED0j/n88Qf+FHqH/wAfo/4QPSP+fzxB/wCFHqH/AMfoA6Siub/4QPSP+fzxB/4Ueof/AB+j/hA9I/5/PEH/AIUeof8Ax+gDpKK5v/hA9I/5/PEH/hR6h/8AH6P+ED0j/n88Qf8AhR6h/wDH6AOkorm/+ED0j/n88Qf+FHqH/wAfo/4QPSP+fzxB/wCFHqH/AMfoA6Siub/4QPSP+fzxB/4Ueof/AB+j/hA9I/5/PEH/AIUeof8Ax+gDpKK5v/hA9I/5/PEH/hR6h/8AH6P+ED0j/n88Qf8AhR6h/wDH6AOkorm/+ED0j/n88Qf+FHqH/wAfo/4QPSP+fzxB/wCFHqH/AMfoA6Sub8B/8i7df9hrVf8A04XFH/CB6R/z+eIP/Cj1D/4/XP8AgvwVpdzoNy8l1rgI1bUkAj1++QYW+nUcLMBnAGT1JySSSTQB6JRXN/8ACB6R/wA/niD/AMKPUP8A4/R/wgekf8/niD/wo9Q/+P0AdJRXN/8ACB6R/wA/niD/AMKPUP8A4/R/wgekf8/niD/wo9Q/+P0AdJRXN/8ACB6R/wA/niD/AMKPUP8A4/R/wgekf8/niD/wo9Q/+P0AdJRXN/8ACB6R/wA/niD/AMKPUP8A4/R/wgekf8/niD/wo9Q/+P0AdJRXN/8ACB6R/wA/niD/AMKPUP8A4/R/wgekf8/niD/wo9Q/+P0AdJRXN/8ACB6R/wA/niD/AMKPUP8A4/R/wgekf8/niD/wo9Q/+P0AdJRXN/8ACB6R/wA/niD/AMKPUP8A4/R/wgekf8/niD/wo9Q/+P0AdJRXN/8ACB6R/wA/niD/AMKPUP8A4/R/wgekf8/niD/wo9Q/+P0AdJXN+A/+Rduv+w1qv/pwuKP+ED0j/n88Qf8AhR6h/wDH6i+HUCWvhKW3iMjJDq2poplkaRyBfzgbnYlmPqSST1JoAl+HH/JLPCn/AGBbP/0Qlb63du149otxEbmNBI8Icb1QkgMV6gEggH2NYHw4/wCSWeFP+wLZ/wDohKxbD4cNZ/EGTxA1xG1mzkJYCWby4VX5o3VS23cHaQkEbRuBUAgki3Dodz9qt/tn2Tz4vtPl+b5O8b9mcbtvXGeM1LXAj4cOPiF/wkBuENl52Rp3nTeWBjeJNu7bv80k7cbMc43c131C2Te4dQooooAKKKKACiiigAooooAK5u+/5KnoX/YF1L/0fY10lc3ff8lT0L/sC6l/6PsaANjU9X03RLP7XrOoWun224L513OsSZPQbmIGazbTx14R1C6S2sPFOi3M8hwkUOoxOzH2AbJrlvjbPb23hXRp70Zto9fsnlHlmTKB8n5QCW47AHNYnizxR8PfE3h/UPD2jaLJqus3Vq/2Sxh0SaKXeRhZAzxKECsQdxIxSTum97O1vkn+pVtUtv8Ah2j2KiuH+1+LND8NeGtDsbKG91iS0VL3UbxnNramONdzOy8sSeAMjPJzUHhrx5fv4j1nQ/FEmkTy6ZYi/N7o8jGMx5IZWRiSjjGcZOQaqVk2r7X/AAIV2k/T8Turq7t7G0lur2eK2t4ULyzTOESNRySWPAA9TUa6lYvdxWqXtu1xNEZ4oRKpeSMYBcLnJXkcjjkV5F4u8Q+Ntf8Ag/rOujS9JTQ9R0yVorMSSfbI4HQ7ZWf7hO0higA4/izXVadqwh8ceHdNaysir+G3uDeNDm4QK0Q2B88Ic5Ix1ApdbP8ArST/AEG/L+tUv1O8qBb60fUHsUuoWvI4xK9uJAZFQkgMV6gEgjPsa88tfGXjfXdEl8UeG9H0ubQ1LvbWMzSm9vYkJG5WX5ULYJVSGzxyK07PxGZPiHqcf9jxoYdAt77etqRevueT9yxzkgbeFxwxPrR6/wBaN/oH9fil+p29FeU618QfGXhvQYvEuu2vh60sG2SSaM80i3yIxAwHJ2tIAcldg6EZro9b8Ua5deLv+EZ8GW1gbuC0W8vbzUi5it0ckIgRCC7NtJ6gADvR/X6gdnRXn2o6xr2o+DNRsNc8JSXeqR3kdmLe3eVbW7DMpWYSAbhCM/ODnoVOc1i+Hbq58HfEfTtJ1ODw/NJriyQRnSbifzLPy1MmzypXYLGcH7m0Z7ULV2/ra4PRXPW6K4CLxP4w8T32pyeCrTRodM066ksxNqhlZ7yWPh9gTARQ2V3Hd06V0Pg3xOPFnh1b9rRrK5imktru1Ztxgmjba67u4yOD3BFC1VwejN6iiigAooooAK5vwH/yLt1/2GtV/wDThcV0lc34D/5F26/7DWq/+nC4oA3Yb60ubq4tre6hlntSqzxRyBmhJGQGA5XI5Ge1T15Npk/idvir48tfCkGmo3n2ckl3qRdo1/0cAII0wST67gB712ngTxPc+KdBmn1K1itL+yvJrG7ihkLx+ZE2CVJ52ngjPrQtVfyuD03/AK/pHS0VzXiZfHDXkP8Awhsvh9Lby/3v9qxzs5fP8PlsBjHrTPDa+Pl1Nv8AhLpvDb2PlnaNLinWXfkYyZGI24z79KFqD0OoqJLu3lupbaOeJ54QpliVwWjDZ2kjqM4OM9cVBq0eoTaTcR6NcQ2186bYZp4y6Rn+8VyM49M1598M9JfRPiF46spr+51GZZLF5bq6bLyu0BZjxwBk8AcAYHahatoOlzvdT1/R9FaFdZ1ax09pztiF1cpEZD6LuIz+FX1YOoZSGUjIIPWvEtDvJde1fxXqcHghfFd7/alxZ3Et7LFEkMEbbEt4i4O47RuIAAy3Jz09D+Gb6U/w/sF0CS9NlGZI0ivyDNbEOQ0LYHGw5UD0A5NC1jf0f3/1/XUejt8jpZru2t5oIri4iikuHMcKO4UysAWKqD1OATgdgTSzXdvbSQpcXEUT3D+XCsjhTI+Cdqg9TgE4HYGuJ8ZfD2XxN4htNTtLpLUW215IhNMn2p/uEPsYYHlF1BHzfNgnblS3xj8OX8Q6tYXem3EdhHZICYklmjFww+QI+xgAvltIuR83zDnGQRdB/wBfM72onureO6itpJ41nmDNHEzgM4XGSB1OMjPpmnQQx21vHBAgjiiQIiL0UAYAFcZ4MuDr/i3xPr02SLa9OkWYPRIoQC5H+9IzZ9dq+lG7t/X9aoXS/wDX9WTOxmu7e2khS4niied/LhWRwpkbBO1c9TgE4HYGi5ureyt2uLyeO3hTG6SVwqrk45J4615Z4l0TU4Pil4P1fWtXe8ebWZorW0iXy4LWH7PKQMdWc4GXP0AArq/GmNS1Tw74f6i9vxdTqD/yxt/3pz7eYIh+NJar52/L/MHo7eV/z/yNzU/EOi6JJEms6vYae85xEt3cpEZD/s7iM/hVuS9tYVgMtzCguHCQlpAPNYjIC+pIBOB6Vxl34a8NeG/+Ej8T+M5LO/F9KZJJ762VvJgChUt1BzkcdB94t0rM8J+GL26+CUum3sU9hJMZ7nTYZT+9sU8wyWw56FPkOO3Si9otvpr/AMD1HbVJdf6v6Hplc34D/wCRduv+w1qv/pwuKn8E6+fFHgfSNadNkl5apJIo/hfGGH/fQNQeA/8AkXbr/sNar/6cLiqkuV2JTurh8OP+SWeFP+wLZ/8AohK6Sub+HH/JLPCn/YFs/wD0QldJSGFFFFABRRRQAUUUUAFFFFABRRRQAVzd9/yVPQv+wLqX/o+xrpK5u+/5KnoX/YF1L/0fY0AU/iPoWo69pmjRaTb/AGh7XW7O6lG9V2xI+Wb5iM4HYc1N4/8ACLeKtDVtNm+x65p7/adLvV4aGYdif7rfdYdMH2rqqKVtLed/np/kO+t/l+f+Z5T4k0XxP4jbw1rGueEY9Wht7aRNR8OyXsSqtwSMTDLGOQDBwGPAb1zS+HvA2pf8Jrqs9/4a07QtD1TQjYLbac8ZEJ3nKuFC5dgxOVBUYxk9/VaKdl+f43/zF0+78Gn+h5FeaX8QYvhjc+BrXw9a3Dxae1jDqwv0WKaIJtXEZ+YSFQBg4UE53YrpLfw3qX/Cf6HqE1rixtvDsljcSeYvySs8Z24zk8K3IGOOtdzRQ9XzPV/8Br9WHSy/rVP9DzDR7Px74Q8M/wDCJaNodtfLbB4dO1p71EijjJJRpYiC+5Qeigg46irNz4T8TS+JteuIbvy57zwzDYQarlUzdq0pLbF5Xlgc4xzx0r0aih67/wBaNfqG239ap/oeCal8PNbv/h5c6PpXw20nS9WFuEm1Oa7hlmuWUgt5b8tlyOsjLjPeuz8TnVPA3iK68dWljHfafc6fDb6nZtcLFLC0bHY6M3yt98qRkdiM16RWX4g0Vtf0w2Q1S+01Gb95JYsivIuCChLo3Bz2weOtEm3t/XT+vwBJbPb/AIb/ACOB8RaH448VeE5J76O1mWbUoboeH4rpVWSzVeYGnUAMzn5jnK9s4qpaeD9WPjTwtqumeBNL8Nabp93I11DbywfaG3QunmOUwpUEgYDMx3Z4xXqWk6Xa6Jo9ppenRmO0s4VghQsWIVRgcnr0q3T0T0/r+rC1a17HnGnWXi7wJc6rYaJ4di1/Tb2+mvbOZL+O3a3Mp3NHKH6gMThl3HB6V0PgHw3eeGfDbwatNFNqN5dzX140GfLEsrliq55wOB+FdNRSWit8vkN6v8fn/TYUUUUAFFFFABXN+A/+Rduv+w1qv/pwuK6Sub8B/wDIu3X/AGGtV/8AThcUAV/DOi6hp/jvxhqN5b+Xa6lcWz2sm9T5gSEKxwDkYPHOKj+HehajoVt4gTVbfyGvNdu7uAb1bfE7Aq3yk4zjoefauwooWn3W/L/IOlvO/wCf+ZzXib4eeFfGN5DdeJdHiv5oI/Ljd5HXauc4+UjvTPDfw18I+EdTbUPDmixWN20ZiaVJHYlCQSPmYjqBXUUULTYHruFcn4d0TULH4ieL9Turfy7PUmszay71PmbIdr8A5GDxyBXWUUbAedWmn+KvA2ra1F4e8Pxa/pmq3r39uVvUt3tZZAN6SB+qbhkFcnnGK6HwH4cufDHhdbTUpo5r+4uJry7aHOzzZZC7Bc84GcD6V0lFC0Vvl8gerv8AP5hRRRQAVw/gGJtH8QeLdBuOJF1RtSgz/HDcAMCPo6uv4V3FVX0y0k1aHU2h/wBMhiaFJQxB2MQSpAOCMqDznHahaO/y/X9Aeqt8/wCvk2c94u0W/wBU8TeELuxt/Ng07U3nun3qvloYJEBwTk/MwGBk81at9KvJviLeaxeRBLW3sI7OxYsCWLMXmbAOR92Ic4+7XQ0ULTb+tLfkD1/rzuePanF44vfiDcatq/w/n1uxsJiujQf2vaxQxAceeY2Y7pG6gn7o4AB5rupvEt/a+ANQ1vxHoz6Lc28MrfYmuUuGOBhAGTgljgAe9dPVTUNMs9USFL+HzkgmWdELELvU5UkA4bB5wcjIB6gVLV48v9evqO/vc39ehj/D3RJ/Dnw70TSbzi5trRBMB2c/Mw/Ak0ngP/kXbr/sNar/AOnC4rpK5vwH/wAi7df9hrVf/ThcVcnzNsmKsrHz/wCHP2ov+Ef8K6Vo3/CIfaP7OsobTzv7T2eZ5aBN23yjjOM4ya0v+Guf+pJ/8q3/ANpoopDD/hrn/qSf/Kt/9po/4a5/6kn/AMq3/wBpoooAP+Guf+pJ/wDKt/8AaaP+Guf+pJ/8q3/2miigA/4a5/6kn/yrf/aaP+Guf+pJ/wDKt/8AaaKKAD/hrn/qSf8Ayrf/AGmj/hrn/qSf/Kt/9poooAP+Guf+pJ/8q3/2mj/hrn/qSf8Ayrf/AGmiigA/4a5/6kn/AMq3/wBprNn/AGovO8VWOs/8Iht+yWVzaeT/AGn9/wA54H3bvK4x5GMY53dsclFAGl/w1z/1JP8A5Vv/ALTR/wANc/8AUk/+Vb/7TRRQAf8ADXP/AFJP/lW/+00f8Nc/9ST/AOVb/wC00UUAH/DXP/Uk/wDlW/8AtNH/AA1z/wBST/5Vv/tNFFAB/wANc/8AUk/+Vb/7TR/w1z/1JP8A5Vv/ALTRRQAf8Nc/9ST/AOVb/wC00f8ADXP/AFJP/lW/+00UUAH/AA1z/wBST/5Vv/tNH/DXP/Uk/wDlW/8AtNFFAB/w1z/1JP8A5Vv/ALTR/wANc/8AUk/+Vb/7TRRQAf8ADXP/AFJP/lW/+00f8Nc/9ST/AOVb/wC00UUAH/DXP/Uk/wDlW/8AtNH/AA1z/wBST/5Vv/tNFFAB/wANc/8AUk/+Vb/7TWboP7UX9iadLa/8Ih5/mXt1d7v7T248+4km248o/d8zbnvjPGcUUUAaX/DXP/Uk/wDlW/8AtNH/AA1z/wBST/5Vv/tNFFAB/wANc/8AUk/+Vb/7TR/w1z/1JP8A5Vv/ALTRRQAf8Nc/9ST/AOVb/wC00f8ADXP/AFJP/lW/+00UUAH/AA1z/wBST/5Vv/tNH/DXP/Uk/wDlW/8AtNFFAB/w1z/1JP8A5Vv/ALTR/wANc/8AUk/+Vb/7TRRQAf8ADXP/AFJP/lW/+00f8Nc/9ST/AOVb/wC00UUAH/DXP/Uk/wDlW/8AtNH/AA1z/wBST/5Vv/tNFFAB/wANc/8AUk/+Vb/7TR/w1z/1JP8A5Vv/ALTRRQAf8Nc/9ST/AOVb/wC01658INX/AOEg+GdprPkfZ/7Rvb+78nfv8vzL2Z9u7AzjOM4FFFAH/9k=)"
      ]
    },
    {
      "cell_type": "markdown",
      "metadata": {
        "id": "SUOS3swtB2Sm"
      },
      "source": [
        "\n",
        "## **Precedência de Operadores**\n",
        "\n",
        "1. Parênteses\n",
        "2. Potenciação\n",
        "3. Multiplicação e divisão\n",
        "4. Soma e subtração\n",
        "\n"
      ]
    },
    {
      "cell_type": "code",
      "metadata": {
        "colab": {
          "base_uri": "https://localhost:8080/"
        },
        "id": "yFF04GTgA9Z2",
        "outputId": "6cf66580-8738-4728-87f5-5fdd956c8f54"
      },
      "source": [
        "# soma\n",
        "\n",
        "3+2"
      ],
      "execution_count": 86,
      "outputs": [
        {
          "output_type": "execute_result",
          "data": {
            "text/plain": [
              "5"
            ]
          },
          "metadata": {
            "tags": []
          },
          "execution_count": 86
        }
      ]
    },
    {
      "cell_type": "code",
      "metadata": {
        "colab": {
          "base_uri": "https://localhost:8080/"
        },
        "id": "Ko-EB3lmA9Wu",
        "outputId": "2921ef6e-a55f-4454-85a5-dc010a4ed880"
      },
      "source": [
        "# Subtração\n",
        "3 - 2"
      ],
      "execution_count": 87,
      "outputs": [
        {
          "output_type": "execute_result",
          "data": {
            "text/plain": [
              "1"
            ]
          },
          "metadata": {
            "tags": []
          },
          "execution_count": 87
        }
      ]
    },
    {
      "cell_type": "code",
      "metadata": {
        "colab": {
          "base_uri": "https://localhost:8080/"
        },
        "id": "n_leuBoNA9UM",
        "outputId": "4e4d03e6-744c-4ff1-fd8a-e9e01db96156"
      },
      "source": [
        "# Multiplicação\n",
        "\n",
        "3.4 * 3"
      ],
      "execution_count": 88,
      "outputs": [
        {
          "output_type": "execute_result",
          "data": {
            "text/plain": [
              "10.2"
            ]
          },
          "metadata": {
            "tags": []
          },
          "execution_count": 88
        }
      ]
    },
    {
      "cell_type": "code",
      "metadata": {
        "colab": {
          "base_uri": "https://localhost:8080/"
        },
        "id": "6kLfiIdbA9Qj",
        "outputId": "cf1e79a3-595c-4c7c-e758-a2badb13b636"
      },
      "source": [
        "# Divisão\n",
        "\n",
        "25/5"
      ],
      "execution_count": 89,
      "outputs": [
        {
          "output_type": "execute_result",
          "data": {
            "text/plain": [
              "5.0"
            ]
          },
          "metadata": {
            "tags": []
          },
          "execution_count": 89
        }
      ]
    },
    {
      "cell_type": "code",
      "metadata": {
        "colab": {
          "base_uri": "https://localhost:8080/"
        },
        "id": "26wCY8j5A9Kf",
        "outputId": "93fde685-8c94-4688-a3a2-256f6bc9eb43"
      },
      "source": [
        "# Quociente\n",
        "\n",
        "10 // 3\n"
      ],
      "execution_count": 90,
      "outputs": [
        {
          "output_type": "execute_result",
          "data": {
            "text/plain": [
              "3"
            ]
          },
          "metadata": {
            "tags": []
          },
          "execution_count": 90
        }
      ]
    },
    {
      "cell_type": "code",
      "metadata": {
        "colab": {
          "base_uri": "https://localhost:8080/"
        },
        "id": "FDXTP4pfA9IH",
        "outputId": "95723861-fe0e-468a-b4f5-66a2550bddd2"
      },
      "source": [
        "# Resto da divisão\n",
        "10 % 4"
      ],
      "execution_count": 94,
      "outputs": [
        {
          "output_type": "execute_result",
          "data": {
            "text/plain": [
              "2"
            ]
          },
          "metadata": {
            "tags": []
          },
          "execution_count": 94
        }
      ]
    },
    {
      "cell_type": "code",
      "metadata": {
        "colab": {
          "base_uri": "https://localhost:8080/"
        },
        "id": "4_USi9ZyA9Ep",
        "outputId": "a2524554-8dbf-4f17-c2d8-8056323f3952"
      },
      "source": [
        "# Exponenciação\n",
        "3 ** 2"
      ],
      "execution_count": 92,
      "outputs": [
        {
          "output_type": "execute_result",
          "data": {
            "text/plain": [
              "9"
            ]
          },
          "metadata": {
            "tags": []
          },
          "execution_count": 92
        }
      ]
    },
    {
      "cell_type": "code",
      "metadata": {
        "colab": {
          "base_uri": "https://localhost:8080/"
        },
        "id": "Wn1oLUS8A9Cq",
        "outputId": "7ec83d6f-fd52-4113-c2c2-647b61745a7a"
      },
      "source": [
        "# 3 - 2\n",
        "n1 = 3\n",
        "n2 = 2\n",
        "subtracao = n1 - n2\n",
        "print(subtracao)"
      ],
      "execution_count": 95,
      "outputs": [
        {
          "output_type": "stream",
          "text": [
            "1\n"
          ],
          "name": "stdout"
        }
      ]
    },
    {
      "cell_type": "code",
      "metadata": {
        "colab": {
          "base_uri": "https://localhost:8080/"
        },
        "id": "G-9SM8U5A9A6",
        "outputId": "3e02c25a-b961-47bb-ed27-bee68e7452d2"
      },
      "source": [
        "n1 = int(input('Digite um número: '))\n",
        "n2 = int(input('Digite um número: '))\n",
        "subtracao = n1 - n2\n",
        "print(subtracao)"
      ],
      "execution_count": 96,
      "outputs": [
        {
          "output_type": "stream",
          "text": [
            "Digite um número: 5\n",
            "Digite um número: 4\n",
            "1\n"
          ],
          "name": "stdout"
        }
      ]
    },
    {
      "cell_type": "code",
      "metadata": {
        "colab": {
          "base_uri": "https://localhost:8080/"
        },
        "id": "Ikxtqt1NA882",
        "outputId": "cf131de0-ebbd-48e8-8c8d-ba44a1562712"
      },
      "source": [
        "\n",
        "#Se eu quiser mostrar o código anterior porém com mensagem associada\n",
        "n1 = int(input('Digite um número: '))\n",
        "n2 = int(input('Digite um número: '))\n",
        "subtracao = n1 - n2\n",
        "print('{} - {} é igual à {}.'.format(n1, n2, subtracao))"
      ],
      "execution_count": 97,
      "outputs": [
        {
          "output_type": "stream",
          "text": [
            "Digite um número: 5\n",
            "Digite um número: 4\n",
            "5 - 4 é igual à 1.\n"
          ],
          "name": "stdout"
        }
      ]
    },
    {
      "cell_type": "markdown",
      "metadata": {
        "id": "h-dW16tuFcaL"
      },
      "source": [
        "\n",
        "Executando equações:\n",
        "\n",
        "$ 2+3*4/5-6 $"
      ]
    },
    {
      "cell_type": "code",
      "metadata": {
        "colab": {
          "base_uri": "https://localhost:8080/"
        },
        "id": "vYoiNMlyA85Y",
        "outputId": "19fcef66-d89a-4226-f218-84a0ca2a1b61"
      },
      "source": [
        "2 + 3 * 4 / 5 - 6"
      ],
      "execution_count": 98,
      "outputs": [
        {
          "output_type": "execute_result",
          "data": {
            "text/plain": [
              "-1.5999999999999996"
            ]
          },
          "metadata": {
            "tags": []
          },
          "execution_count": 98
        }
      ]
    },
    {
      "cell_type": "markdown",
      "metadata": {
        "id": "mX1DhlVdFq8Q"
      },
      "source": [
        "Agora a mesma equação acima, mas alterando a precedência para que as operações de soma e subtração sejam executadas antes das outras. Dica: use parênteses."
      ]
    },
    {
      "cell_type": "code",
      "metadata": {
        "colab": {
          "base_uri": "https://localhost:8080/"
        },
        "id": "yBj7I0ztA82b",
        "outputId": "7e2555ee-1c18-428c-c55d-d17fe64da64f"
      },
      "source": [
        "(2 + 3) * 4 / (5 - 6)"
      ],
      "execution_count": 99,
      "outputs": [
        {
          "output_type": "execute_result",
          "data": {
            "text/plain": [
              "-20.0"
            ]
          },
          "metadata": {
            "tags": []
          },
          "execution_count": 99
        }
      ]
    },
    {
      "cell_type": "markdown",
      "metadata": {
        "id": "EEDH6xoMF1Yq"
      },
      "source": [
        "# **Operadores relacionais (operadores de comparação)**\n",
        "\n"
      ]
    },
    {
      "cell_type": "markdown",
      "metadata": {
        "id": "p6xwSEe4bdMx"
      },
      "source": [
        "![PY2.JPG](data:image/jpeg;base64,/9j/4AAQSkZJRgABAQEAYABgAAD/4RDcRXhpZgAATU0AKgAAAAgABAE7AAIAAAAGAAAISodpAAQAAAABAAAIUJydAAEAAAAMAAAQyOocAAcAAAgMAAAAPgAAAAAc6gAAAAgAAAAAAAAAAAAAAAAAAAAAAAAAAAAAAAAAAAAAAAAAAAAAAAAAAAAAAAAAAAAAAAAAAAAAAAAAAAAAAAAAAAAAAAAAAAAAAAAAAAAAAAAAAAAAAAAAAAAAAAAAAAAAAAAAAAAAAAAAAAAAAAAAAAAAAAAAAAAAAAAAAAAAAAAAAAAAAAAAAAAAAAAAAAAAAAAAAAAAAAAAAAAAAAAAAAAAAAAAAAAAAAAAAAAAAAAAAAAAAAAAAAAAAAAAAAAAAAAAAAAAAAAAAAAAAAAAAAAAAAAAAAAAAAAAAAAAAAAAAAAAAAAAAAAAAAAAAAAAAAAAAAAAAAAAAAAAAAAAAAAAAAAAAAAAAAAAAAAAAAAAAAAAAAAAAAAAAAAAAAAAAAAAAAAAAAAAAAAAAAAAAAAAAAAAAAAAAAAAAAAAAAAAAAAAAAAAAAAAAAAAAAAAAAAAAAAAAAAAAAAAAAAAAAAAAAAAAAAAAAAAAAAAAAAAAAAAAAAAAAAAAAAAAAAAAAAAAAAAAAAAAAAAAAAAAAAAAAAAAAAAAAAAAAAAAAAAAAAAAAAAAAAAAAAAAAAAAAAAAAAAAAAAAAAAAAAAAAAAAAAAAAAAAAAAAAAAAAAAAAAAAAAAAAAAAAAAAAAAAAAAAAAAAAAAAAAAAAAAAAAAAAAAAAAAAAAAAAAAAAAAAAAAAAAAAAAAAAAAAAAAAAAAAAAAAAAAAAAAAAAAAAAAAAAAAAAAAAAAAAAAAAAAAAAAAAAAAAAAAAAAAAAAAAAAAAAAAAAAAAAAAAAAAAAAAAAAAAAAAAAAAAAAAAAAAAAAAAAAAAAAAAAAAAAAAAAAAAAAAAAAAAAAAAAAAAAAAAAAAAAAAAAAAAAAAAAAAAAAAAAAAAAAAAAAAAAAAAAAAAAAAAAAAAAAAAAAAAAAAAAAAAAAAAAAAAAAAAAAAAAAAAAAAAAAAAAAAAAAAAAAAAAAAAAAAAAAAAAAAAAAAAAAAAAAAAAAAAAAAAAAAAAAAAAAAAAAAAAAAAAAAAAAAAAAAAAAAAAAAAAAAAAAAAAAAAAAAAAAAAAAAAAAAAAAAAAAAAAAAAAAAAAAAAAAAAAAAAAAAAAAAAAAAAAAAAAAAAAAAAAAAAAAAAAAAAAAAAAAAAAAAAAAAAAAAAAAAAAAAAAAAAAAAAAAAAAAAAAAAAAAAAAAAAAAAAAAAAAAAAAAAAAAAAAAAAAAAAAAAAAAAAAAAAAAAAAAAAAAAAAAAAAAAAAAAAAAAAAAAAAAAAAAAAAAAAAAAAAAAAAAAAAAAAAAAAAAAAAAAAAAAAAAAAAAAAAAAAAAAAAAAAAAAAAAAAAAAAAAAAAAAAAAAAAAAAAAAAAAAAAAAAAAAAAAAAAAAAAAAAAAAAAAAAAAAAAAAAAAAAAAAAAAAAAAAAAAAAAAAAAAAAAAAAAAAAAAAAAAAAAAAAAAAAAAAAAAAAAAAAAAAAAAAAAAAAAAAAAAAAAAAAAAAAAAAAAAAAAAAAAAAAAAAAAAAAAAAAAAAAAAAAAAAAAAAAAAAAAAAAAAAAAAAAAAAAAAAAAAAAAAAAAAAAAAAAAAAAAAAAAAAAAAAAAAAAAAAAAAAAAAAAAAAAAAAAAAAAAAAAAAAAAAAAAAAAAAAAAAAAAAAAAAAAAAAAAAAAAAAAAAAAAAAAAAAAAAAAAAAAAAAAAAAAAAAAAAAAAAAAAAAAAAAAAAAAAAAAAAAAAAAAAAAAAAAAAAAAAAAAAAAAAAAAAAAAAAAAAAAAAAAAAAAAAAAAAAAAAAAAAAAAAAAAAAAAAAAAAAAAAAAAAAAAAAAAAAAAAAAAAAAAAAAAAAAAAAAAAAAAAAAAAAAAAAAAAAAAAAAAAAAAAAAAAAAAAAAAAAAAAAAAAAAAAAAAAAAAAAAAAAAAAAAAAAAAAAAAAAAAAAAAAAAAAAAAAAAAAAAAAAAAAAAAAAAAAAAAAAAAAAAAAAAAAAAAAAAAAAAAAAAAAAAAAAAAAAAAAAAAAAAAAAAAAAAAAAAAAAAAAAAAAAAAAAAAAAAAAAAAAAAAAAAAAAAAAAAAAAAAAAAAAAAAAAAAAAAAAAAAAAAAAAAAAAAAAAAAAAAAAAAAAAAAAAAAAAAAAAAAAAAAAAAAAAAAAAAAAAAAAAAAAAAAAAAAAAAAAAAAAAAAAAAAAAAAAAAAAAAAAAAAAAAAAAAAAAAAAAAAAAAAAAAAAAAAAAAAAAAAAAAAAAAAAAAAAAAAAAAAAAAAAAAAAAAAAAAAAAAAAAAAAAAAAAAAAAAAAAAAAAAAAAAAAAAAAAAAAAAAAAAAAAAAAAAAAAAAAAAAAAAAAAAAAAAAAAAAAAAAAAAAAAAAAAAAAAAAAAAAAAAAAAAAAAAAAAAAAAAAAAAAAAAAAAAAAAAAAAAAAAAAAAAAAAAAAAAAAAAAAAAAAAAAAAAAAAAAAAAAAAAAAAAAAAAAAAAAAAAAAAAAAAAAAAAAAAAAAAAAAAAAAAAAAAAAAAAAAAAAAAAAAAAAAAAAAAAAAAAAAAAAAAAAAAAAAAAAAAAAAAAAAAAAAAAAAAAAAAAAAAAAAAAAAAAAAAAAAAAAAAAAAAAAAAAAAAAAAAAAAAAAAAAAAAAAAAAAAAAAAAAAAAAAAAAAAAAAAAAAAAAAAAAAAAAAAAAAAAAAAAAAAAAAAAAAAAAAAAAAAAAAAAAAAAAAAAAAAAAAAAAAAAAAAAAAAAAAAAAAAAAAAAAAAAAAAAAAAAAGNyaXN0AAAFkAMAAgAAABQAABCekAQAAgAAABQAABCykpEAAgAAAAMzMwAAkpIAAgAAAAMzMwAA6hwABwAACAwAAAiSAAAAABzqAAAACAAAAAAAAAAAAAAAAAAAAAAAAAAAAAAAAAAAAAAAAAAAAAAAAAAAAAAAAAAAAAAAAAAAAAAAAAAAAAAAAAAAAAAAAAAAAAAAAAAAAAAAAAAAAAAAAAAAAAAAAAAAAAAAAAAAAAAAAAAAAAAAAAAAAAAAAAAAAAAAAAAAAAAAAAAAAAAAAAAAAAAAAAAAAAAAAAAAAAAAAAAAAAAAAAAAAAAAAAAAAAAAAAAAAAAAAAAAAAAAAAAAAAAAAAAAAAAAAAAAAAAAAAAAAAAAAAAAAAAAAAAAAAAAAAAAAAAAAAAAAAAAAAAAAAAAAAAAAAAAAAAAAAAAAAAAAAAAAAAAAAAAAAAAAAAAAAAAAAAAAAAAAAAAAAAAAAAAAAAAAAAAAAAAAAAAAAAAAAAAAAAAAAAAAAAAAAAAAAAAAAAAAAAAAAAAAAAAAAAAAAAAAAAAAAAAAAAAAAAAAAAAAAAAAAAAAAAAAAAAAAAAAAAAAAAAAAAAAAAAAAAAAAAAAAAAAAAAAAAAAAAAAAAAAAAAAAAAAAAAAAAAAAAAAAAAAAAAAAAAAAAAAAAAAAAAAAAAAAAAAAAAAAAAAAAAAAAAAAAAAAAAAAAAAAAAAAAAAAAAAAAAAAAAAAAAAAAAAAAAAAAAAAAAAAAAAAAAAAAAAAAAAAAAAAAAAAAAAAAAAAAAAAAAAAAAAAAAAAAAAAAAAAAAAAAAAAAAAAAAAAAAAAAAAAAAAAAAAAAAAAAAAAAAAAAAAAAAAAAAAAAAAAAAAAAAAAAAAAAAAAAAAAAAAAAAAAAAAAAAAAAAAAAAAAAAAAAAAAAAAAAAAAAAAAAAAAAAAAAAAAAAAAAAAAAAAAAAAAAAAAAAAAAAAAAAAAAAAAAAAAAAAAAAAAAAAAAAAAAAAAAAAAAAAAAAAAAAAAAAAAAAAAAAAAAAAAAAAAAAAAAAAAAAAAAAAAAAAAAAAAAAAAAAAAAAAAAAAAAAAAAAAAAAAAAAAAAAAAAAAAAAAAAAAAAAAAAAAAAAAAAAAAAAAAAAAAAAAAAAAAAAAAAAAAAAAAAAAAAAAAAAAAAAAAAAAAAAAAAAAAAAAAAAAAAAAAAAAAAAAAAAAAAAAAAAAAAAAAAAAAAAAAAAAAAAAAAAAAAAAAAAAAAAAAAAAAAAAAAAAAAAAAAAAAAAAAAAAAAAAAAAAAAAAAAAAAAAAAAAAAAAAAAAAAAAAAAAAAAAAAAAAAAAAAAAAAAAAAAAAAAAAAAAAAAAAAAAAAAAAAAAAAAAAAAAAAAAAAAAAAAAAAAAAAAAAAAAAAAAAAAAAAAAAAAAAAAAAAAAAAAAAAAAAAAAAAAAAAAAAAAAAAAAAAAAAAAAAAAAAAAAAAAAAAAAAAAAAAAAAAAAAAAAAAAAAAAAAAAAAAAAAAAAAAAAAAAAAAAAAAAAAAAAAAAAAAAAAAAAAAAAAAAAAAAAAAAAAAAAAAAAAAAAAAAAAAAAAAAAAAAAAAAAAAAAAAAAAAAAAAAAAAAAAAAAAAAAAAAAAAAAAAAAAAAAAAAAAAAAAAAAAAAAAAAAAAAAAAAAAAAAAAAAAAAAAAAAAAAAAAAAAAAAAAAAAAAAAAAAAAAAAAAAAAAAAAAAAAAAAAAAAAAAAAAAAAAAAAAAAAAAAAAAAAAAAAAAAAAAAAAAAAAAAAAAAAAAAAAAAAAAAAAAAAAAAAAAAAAAAAAAAAAAAAAAAAAAAAAAAAAAAAAAAAAAAAAAAAAAAAAAAAAAAAAAAAAAAAAAAAAAAAAAAAAAAAAAAAAAAAAAAAAAAAAAAAAAAAAAAAAAAAAAAAAAAAAAAAAAAAAAAAAAAAAAAAAAAAAAAAAAAAAAAAAAAAAAAAAAAAAAAAAAAAAAAAAAAAAAAAAAAAAAAAAAAAAAAAAAAAAAAAAAAAAAAAAAAAAAAAAAAAAAAAAAAAAAAAAAAAAAAAAAAAAAAAAAAAAAAAAAAAAAAAAAAAAAAAAAAAAAAAAAAAAAAAAAAAAAAAAAAAAAAAAAAAAAAAAAAAAAAAAAAAAAAAAAAAAAAAAAAAAAAAAAAAAAAAAAAAAAAAAAAAAAAAAAAAAAAAAAAAAAAAAAAAAAAAAAAAAAAAAAAAAAAAAAAAAAAAAAAAAAAAAAAAAAAAAAAAAAAAAAAAAAAAAAAAAAAAAAAAAAAAAAAAAAAAAAAAAAAAAAAAAAAAAAAAAAAAAAAAAAAAAAAAAAAAAAAAAAAAAAAAAAAAAAAAAAAAAAAAAAAAAAAAAAAAAAAAAAAAAAAAAAAAAAAAAAAAAAAAAAAAAAAAAAAAAAAAAAAAAAAAAAAAAAAAAAAAAAAAAAAAAAAAAAAAAAAAAAAAAAAAAAAAAAAAAAAAAAAAAAAAAAAAAAAAAAAAAAAAAAAAAAAAAAAAAAAAAAAAAAAAAAAAAAAAAAAAAAAAAAAAAAAAAAAAAAAAAAAAAAAAAAAAAAAAAAAAAAAAAAAAAAAAAAAAAAAAAAAAAAAAAAAAAAAAAAAAAAAAAAAAAAAAAAAAAAAAAAAAAAAAAAAAAAAAAAAAAAAAAAAAAAAAAAAAAAAAAAAAAAAAAAAAAAAAAAAAAAAAAAAAAAAAAAAAAAAAAAAAAAAAAAAAAAAAAAAAAAAAAAAAAAAAAAAAAAAAAAAAAAAAAAAAAAAAAAAAAAAAAAAAAAAAAAAAAAAAAAAAAAAAAAAAAAAAAAAAAAAAAAAAAAAAAAAAAAAAAAAAAAAAAAAAAAAAAAMjAyMTowNToyMCAxNzoxNzo1MgAyMDIxOjA1OjIwIDE3OjE3OjUyAAAAYwByAGkAcwB0AAAA/+ELGGh0dHA6Ly9ucy5hZG9iZS5jb20veGFwLzEuMC8APD94cGFja2V0IGJlZ2luPSfvu78nIGlkPSdXNU0wTXBDZWhpSHpyZVN6TlRjemtjOWQnPz4NCjx4OnhtcG1ldGEgeG1sbnM6eD0iYWRvYmU6bnM6bWV0YS8iPjxyZGY6UkRGIHhtbG5zOnJkZj0iaHR0cDovL3d3dy53My5vcmcvMTk5OS8wMi8yMi1yZGYtc3ludGF4LW5zIyI+PHJkZjpEZXNjcmlwdGlvbiByZGY6YWJvdXQ9InV1aWQ6ZmFmNWJkZDUtYmEzZC0xMWRhLWFkMzEtZDMzZDc1MTgyZjFiIiB4bWxuczpkYz0iaHR0cDovL3B1cmwub3JnL2RjL2VsZW1lbnRzLzEuMS8iLz48cmRmOkRlc2NyaXB0aW9uIHJkZjphYm91dD0idXVpZDpmYWY1YmRkNS1iYTNkLTExZGEtYWQzMS1kMzNkNzUxODJmMWIiIHhtbG5zOnhtcD0iaHR0cDovL25zLmFkb2JlLmNvbS94YXAvMS4wLyI+PHhtcDpDcmVhdGVEYXRlPjIwMjEtMDUtMjBUMTc6MTc6NTIuMzMwPC94bXA6Q3JlYXRlRGF0ZT48L3JkZjpEZXNjcmlwdGlvbj48cmRmOkRlc2NyaXB0aW9uIHJkZjphYm91dD0idXVpZDpmYWY1YmRkNS1iYTNkLTExZGEtYWQzMS1kMzNkNzUxODJmMWIiIHhtbG5zOmRjPSJodHRwOi8vcHVybC5vcmcvZGMvZWxlbWVudHMvMS4xLyI+PGRjOmNyZWF0b3I+PHJkZjpTZXEgeG1sbnM6cmRmPSJodHRwOi8vd3d3LnczLm9yZy8xOTk5LzAyLzIyLXJkZi1zeW50YXgtbnMjIj48cmRmOmxpPmNyaXN0PC9yZGY6bGk+PC9yZGY6U2VxPg0KCQkJPC9kYzpjcmVhdG9yPjwvcmRmOkRlc2NyaXB0aW9uPjwvcmRmOlJERj48L3g6eG1wbWV0YT4NCiAgICAgICAgICAgICAgICAgICAgICAgICAgICAgICAgICAgICAgICAgICAgICAgICAgICAgICAgICAgICAgICAgICAgICAgICAgICAgICAgICAgICAgICAgICAgICAgICAgICAKICAgICAgICAgICAgICAgICAgICAgICAgICAgICAgICAgICAgICAgICAgICAgICAgICAgICAgICAgICAgICAgICAgICAgICAgICAgICAgICAgICAgICAgICAgICAgICAgICAgIAogICAgICAgICAgICAgICAgICAgICAgICAgICAgICAgICAgICAgICAgICAgICAgICAgICAgICAgICAgICAgICAgICAgICAgICAgICAgICAgICAgICAgICAgICAgICAgICAgICAgCiAgICAgICAgICAgICAgICAgICAgICAgICAgICAgICAgICAgICAgICAgICAgICAgICAgICAgICAgICAgICAgICAgICAgICAgICAgICAgICAgICAgICAgICAgICAgICAgICAgICAKICAgICAgICAgICAgICAgICAgICAgICAgICAgICAgICAgICAgICAgICAgICAgICAgICAgICAgICAgICAgICAgICAgICAgICAgICAgICAgICAgICAgICAgICAgICAgICAgICAgIAogICAgICAgICAgICAgICAgICAgICAgICAgICAgICAgICAgICAgICAgICAgICAgICAgICAgICAgICAgICAgICAgICAgICAgICAgICAgICAgICAgICAgICAgICAgICAgICAgICAgCiAgICAgICAgICAgICAgICAgICAgICAgICAgICAgICAgICAgICAgICAgICAgICAgICAgICAgICAgICAgICAgICAgICAgICAgICAgICAgICAgICAgICAgICAgICAgICAgICAgICAKICAgICAgICAgICAgICAgICAgICAgICAgICAgICAgICAgICAgICAgICAgICAgICAgICAgICAgICAgICAgICAgICAgICAgICAgICAgICAgICAgICAgICAgICAgICAgICAgICAgIAogICAgICAgICAgICAgICAgICAgICAgICAgICAgICAgICAgICAgICAgICAgICAgICAgICAgICAgICAgICAgICAgICAgICAgICAgICAgICAgICAgICAgICAgICAgICAgICAgICAgCiAgICAgICAgICAgICAgICAgICAgICAgICAgICAgICAgICAgICAgICAgICAgICAgICAgICAgICAgICAgICAgICAgICAgICAgICAgICAgICAgICAgICAgICAgICAgICAgICAgICAKICAgICAgICAgICAgICAgICAgICAgICAgICAgICAgICAgICAgICAgICAgICAgICAgICAgICAgICAgICAgICAgICAgICAgICAgICAgICAgICAgICAgICAgICAgICAgICAgICAgIAogICAgICAgICAgICAgICAgICAgICAgICAgICAgICAgICAgICAgICAgICAgICAgICAgICAgICAgICAgICAgICAgICAgICAgICAgICAgICAgICAgICAgICAgICAgICAgICAgICAgCiAgICAgICAgICAgICAgICAgICAgICAgICAgICAgICAgICAgICAgICAgICAgICAgICAgICAgICAgICAgICAgICAgICAgICAgICAgICAgICAgICAgICAgICAgICAgICAgICAgICAKICAgICAgICAgICAgICAgICAgICAgICAgICAgICAgICAgICAgICAgICAgICAgICAgICAgICAgICAgICAgICAgICAgICAgICAgICAgICAgICAgICAgICAgICAgICAgICAgICAgIAogICAgICAgICAgICAgICAgICAgICAgICAgICAgICAgICAgICAgICAgICAgICAgICAgICAgICAgICAgICAgICAgICAgICAgICAgICAgICAgICAgICAgICAgICAgICAgICAgICAgCiAgICAgICAgICAgICAgICAgICAgICAgICAgICAgICAgICAgICAgICAgICAgICAgICAgICAgICAgICAgICAgICAgICAgICAgICAgICAgICAgICAgICAgICAgICAgICAgICAgICAKICAgICAgICAgICAgICAgICAgICAgICAgICAgICAgICAgICAgICAgICAgICAgICAgICAgICAgICAgICAgICAgICAgICAgICAgICAgICAgICAgICAgICAgICAgICAgICAgICAgIAogICAgICAgICAgICAgICAgICAgICAgICAgICAgICAgICAgICAgICAgICAgICAgICAgICAgICAgICAgICAgICAgICAgICAgICAgICAgICAgICAgICAgICAgICAgICAgICAgICAgCiAgICAgICAgICAgICAgICAgICAgICAgICAgICAgICAgICAgICAgICAgICAgICAgICAgICAgICAgICAgICAgICAgICAgICAgICAgICAgICAgICAgICAgICAgICAgICAgICAgICAKICAgICAgICAgICAgICAgICAgICAgICAgICAgICAgICAgICAgICAgICAgICAgICAgICAgICAgICAgICAgICAgICAgICAgICAgICAgICAgICAgICAgICAgICAgICAgICAgICAgIAogICAgICAgICAgICAgICAgICAgICAgICAgICAgPD94cGFja2V0IGVuZD0ndyc/Pv/bAEMABwUFBgUEBwYFBggHBwgKEQsKCQkKFQ8QDBEYFRoZGBUYFxseJyEbHSUdFxgiLiIlKCkrLCsaIC8zLyoyJyorKv/bAEMBBwgICgkKFAsLFCocGBwqKioqKioqKioqKioqKioqKioqKioqKioqKioqKioqKioqKioqKioqKioqKioqKioqKv/AABEIATEBbQMBIgACEQEDEQH/xAAfAAABBQEBAQEBAQAAAAAAAAAAAQIDBAUGBwgJCgv/xAC1EAACAQMDAgQDBQUEBAAAAX0BAgMABBEFEiExQQYTUWEHInEUMoGRoQgjQrHBFVLR8CQzYnKCCQoWFxgZGiUmJygpKjQ1Njc4OTpDREVGR0hJSlNUVVZXWFlaY2RlZmdoaWpzdHV2d3h5eoOEhYaHiImKkpOUlZaXmJmaoqOkpaanqKmqsrO0tba3uLm6wsPExcbHyMnK0tPU1dbX2Nna4eLj5OXm5+jp6vHy8/T19vf4+fr/xAAfAQADAQEBAQEBAQEBAAAAAAAAAQIDBAUGBwgJCgv/xAC1EQACAQIEBAMEBwUEBAABAncAAQIDEQQFITEGEkFRB2FxEyIygQgUQpGhscEJIzNS8BVictEKFiQ04SXxFxgZGiYnKCkqNTY3ODk6Q0RFRkdISUpTVFVWV1hZWmNkZWZnaGlqc3R1dnd4eXqCg4SFhoeIiYqSk5SVlpeYmZqio6Slpqeoqaqys7S1tre4ubrCw8TFxsfIycrS09TV1tfY2dri4+Tl5ufo6ery8/T19vf4+fr/2gAMAwEAAhEDEQA/APW7HQoPEHijxVJqV7rH+i6nHBBHbazd20cafYrZ8BIpFX7zsc4zk1pf8IHpH/P54g/8KPUP/j9Hhf8A5GLxn/2Go/8A032ddBcXENpbvPdTRwwxjc8kjBVUepJ4FAHP/wDCB6R/z+eIP/Cj1D/4/R/wgekf8/niD/wo9Q/+P1paV4k0PXXddE1nT9RaP74tLpJSv12k4rSoA5v/AIQPSP8An88Qf+FHqH/x+j/hA9I/5/PEH/hR6h/8frpKKAOb/wCED0j/AJ/PEH/hR6h/8fo/4QPSP+fzxB/4Ueof/H66SigDm/8AhA9I/wCfzxB/4Ueof/H6P+ED0j/n88Qf+FHqH/x+ukqO5uYLO1lubuaOCCFC8ksrhVRQMkkngADvQBz/APwgekf8/niD/wAKPUP/AI/R/wAIHpH/AD+eIP8Awo9Q/wDj9bljqFnqljHeaZdwXlrKMxz28gkRxnHDDIPIqxQBzf8Awgekf8/niD/wo9Q/+P1h+LfCdlpmi289jqHiCKV9T0+Bm/4SK/bKS3kMbjmbujsM9RnIwa9Arm/Hn/Iu2v8A2GtK/wDThb0AH/CB6R/z+eIP/Cj1D/4/R/wgekf8/niD/wAKPUP/AI/XSVkyeKvD0Wq/2XLr2mJqBO37I15GJc+mzOf0oAo/8IHpH/P54g/8KPUP/j9H/CB6R/z+eIP/AAo9Q/8Aj9a+qazpmh2q3Otajaadbs4jWW7nWJCxyQuWIGeDx7VdByMjpQBzf/CB6R/z+eIP/Cj1D/4/R/wgekf8/niD/wAKPUP/AI/XSUUAc3/wgekf8/niD/wo9Q/+P0f8IHpH/P54g/8ACj1D/wCP1sajrGmaQITq2o2liLiQRQm5nWPzHPRV3EZPsOaj1XX9H0JYjrerWOnCY7Yzd3KRbz6DcRmgDL/4QPSP+fzxB/4Ueof/AB+j/hA9I/5/PEH/AIUeof8Ax+tay1vStRvLi00/U7O7ubXBnhguEd4s9Nyg5XPvV6gDm/8AhA9I/wCfzxB/4Ueof/H6P+ED0j/n88Qf+FHqH/x+ukooA5v/AIQPSP8An88Qf+FHqH/x+j/hA9I/5/PEH/hR6h/8fra1LVNP0axa81e+trC1QgNPdTLEiknABZiByasRyJLGskTq6OAyspyGB6EGgDnf+ED0j/n88Qf+FHqH/wAfo/4QPSP+fzxB/wCFHqH/AMfrpKKAOb/4QPSP+fzxB/4Ueof/AB+j/hA9I/5/PEH/AIUeof8Ax+ukooA8/wDFvhOy0zRbeex1DxBFK+p6fAzf8JFftlJbyGNxzN3R2GeozkYNbn/CB6R/z+eIP/Cj1D/4/R48/wCRdtf+w1pX/pwt66C4uIbS2luLqWOGCFC8ksjBVRQMkkngADvQBz//AAgekf8AP54g/wDCj1D/AOP0f8IHpH/P54g/8KPUP/j9H/Cx/BH/AEOXh/8A8GkH/wAVW1p2p2Gr2KXuk3tvfWsmQk9tKsiNg4OGUkHBGKAMX/hA9I/5/PEH/hR6h/8AH6P+ED0j/n88Qf8AhR6h/wDH66SigDm/+ED0j/n88Qf+FHqH/wAfo/4QPSP+fzxB/wCFHqH/AMfrpKKAOb/4QPSP+fzxB/4Ueof/AB+j/hA9I/5/PEH/AIUeof8Ax+ukooA5v/hA9I/5/PEH/hR6h/8AH6P+ED0j/n88Qf8AhR6h/wDH62LzWNM067tbXUNRtLW4vG2W0M86o87ccIpOWPI4HrVygDm/+ED0j/n88Qf+FHqH/wAfqt4dsV0jx9rem213qE1oumWE6x3uoT3Wx3lu1YqZXYrkRpkA4+UV1tc3Y/8AJU9d/wCwLpv/AKPvqADwv/yMXjP/ALDUf/pvs681+Ienv8Q/jrpPgXU7qWHQbTTzqNxBE+03D5IAJ/75+g3Y9a9K8L/8jF4z/wCw1H/6b7OuU+Jfw917UvE2m+NPAN7Da+ItOjMLRXBxHcxc/Kff5iOeCD1GBS05k3t/wP8AMetml/X9I4/4qfCjw78P/CB8Y+Ao59E1XR5opVeO6kcSAuFIIdj/AHu3UZBzmum1/wCKHiO08S+C9L0DSrG8bxHp/wBoeO4ZkKOUyMODhVHU/KTgHHNYGo+Fvi78Uhb6P49g0vw7oMc6yXS2ThpLkKcgDDv+GSoHXBwBU3xIt76y+Onw9g8MxW/2m2s51t4Z2KxsqqfkLAErlQRnBxnOKaunFPq/w5Xf+vIUtm10X6q36/edN4a+I2uQeOr/AMIfEOx0601C3sjfwXWmu5gmhHXh/myBnn/ZPArj2/aA1aWxm8R2qeFhokUpUaTNqe3VZUDbd4TO0eu0jOPXrXRaH4J8R+KfiTqHjHxzpkGiI2mNplpp0V0tw+1shnZ146M2O/PQY54+w+FPi7RtDbwpaeDPC93J9oJh8WXMVvM0cJfdhoZEZmbGR3A6ds0le69P1e/yt+PUemvr+n+d/wDhjs/G/wAVtW0rWPBMPhCxs9Qt/FCFkW6Dq3OzZhg2F+/zkN0rQ8Q+KfHPhnwtZPqVt4Xj1O4ndLi/mvjBp9og+5kOwldj6KKz/F3gPWLnx98OLnRrJJ9N8Psy3k0ZigWJf3YBEYK8HaeEGB6UvxW8Ga/q/jTwz4l0TSLXxFBpG9ZtHup0iEhbo4L/AC/n3VeDVO1lbq393QlX5nfol9/XyE+GPxeufFuua1o2uDSpZdKg+0f2hpDyG2mQYDYEg3cZHPQ8/jgX3xA8aeOfht4m13TtB0tPCr2lzbxq9xIL11ClTKOChA6lTg8EAmtTwb4J8VR/FvxFrvinSbe0sNb0sQj7HcpIkB+RRF2YkKv3gu3PSsvSvCXxJ8L/AA+1rwBpuh2F9YyRXC2msG/WPKSA5TyiMlzkgElVBPUgVEruOv8AL+N3+n/ALg7Tv0uvut/mP8J+Pj4H+AXg5LGx/tHV9WkNnYWhk2K8hlYZY9gMj8x0610dt8QfFfhrxlo+g/ErTdIjj1xjHY32kSyGNJRjEbrJzk7lGRxyOvOOfHwo8R3Hwn8FxwR29n4n8L3Juo7a5kDRufMLFCyEjnCnPTtx1Gq/hvxn8QvHPh7VfGWiW3hvS/D0xuUtUvlupbqbIKnKDCqCo689eueNm06rb7v7vL8f+GMoq1Jen4/1YjsPiH4+8RfELxP4b8N6doOzRblVW5vvOUCPJBBCsdznHGNoGDntXdeO8/8ACN2m7Gf7Z0rOP+whb1zPw88Ja3ofxQ8d6vqll5Fjq1zG9lL5qN5qgvk4Ukr1HUCun8ef8i7a/wDYa0r/ANOFvWcfgjfeyv6ly+OVtrmp4gtr288NalbaTN5F9NaypbS5xskKkKfzxXyZZaP4A0nw4+hfEvw7rnh7xM3mJ/bciSyxb8na4QOAwHHAU5/vc5r6z17TZdY8P32nW19Pp81zA0cd3bOUkhYjh1IIOQea8Uay+PNror+FZtN0PW7No2gOrXcokdkORlt8gLEDuYyfXNRrd+n+fXoX0Xr/AFp1LvjvX08JfATw9cwvo/jeIXMMCXWq2fmxTLtkw+zfw4C7ckk9c103izx/r8Xj2w8E+BdP0+41aa0+2XFxqTusFvH6YT5iT+mRwe3GeKfg/wCIbb4A6N4Q0SNdW1O11Fbq4CTJGgBEhbaZCvALAep64rX8Y2Oo6D8btL8S+Fm0rVdUuNP+x3Gg3GpRW1xInJEke88j5ewP3TwecbS1f/bz/wDSV+pG0I27f+3f5Gh4X+JXiXU/iN4k8Na7pmn2X9jaf54EBdy0mF53kgMh3ZHyg4IzzXNaZ8XviPq3wtm8Z2uheH/slhI/2vzJJladFIz5SAnGAeSzc84HHLfAkWrah8fPH0mppbfbX0tY5I7STfHEzKm2PeQMkAYJOMkHgVq+E/AXiXTP2a9V8K3um+VrVxFcrFa+fGdxc/L84baM+5rLXk5uvLf53Y9Oe3S/4WRP498fJL4N8C65FoOlXq61f2+ItUt/P+zb1zujORhx0DfpXH+M9N8R65+0/a2E9l4b1Bhp5azt9Siklt/s2X5kXB/e/e6fLnFdF4j+H3ie/wDhn8OtJtNM8y90W6tpL+L7REPJVFwxyWw2P9kmuhvfCOty/tJaf4pjss6LDpBtpLrzU4k/efLszu/iHOMc1ore0v5v/wBJ0/HQyblyW8o/+la/5lHw542tbHx78Rftuj6TYWugRpLJd2Np5dxcqFY/vGz85GOOB1qCw+JHxFutGsfFo8I2N34bvpQEsbBpptRSIkgSkAFSOM4Az9OtO0r4b6teeNPiZ/bNsbTS/EkKw2l0JUYuNrAttDZGMg8gVV0XTPi9o/hTT/BWmadp2mixZYh4lW7jlQwBs4Fuyk7scZI/LrWdK/LG+9l+t/0/Q0lvK213+St+p0nxE8c+IPDl5bQaMvh/TrWWEytqXiK98qNmz/qkhQ+aWxznGKy/Bvxtj1n4deIfEWtWkCy6A5SX7E7eVdZHyFN4yu48YPPQ+1VPEngvxXYfGZPF+maFZ+LbaawS0WK8uo4DZyDH7z5lI6gn5QT87DiqPhT4UeI5/DHxB0LxXDDaS+ILkXFvdwSq8LvlnyADuAD44YA4o15JW3s/z/yHpzxvtdX9La/ic98T/EnjrxD8DJNV8RaNpNvo+qPbzWxsp5DPboXDIZVYbWDDHKkYyMivRtd8f6joz+F/CfhPTrfUPEOrWSSJ9rkKQW0apy77eSOG4HofYHi/Efhj4qa58HY/BLeF7GP+z1gg+0x6lGxvY4yAuxDgJjAJLMCccDmur8T+BvEdv4k8L+NPCtvb3eq6PYizutMuJhGLiPaRhZOQGBZuTx0+h091OSXw3/Cz/W1ydXZ9bP77r9NjR8LeP9cHj1/BHj3T7G11hrX7Xa3WmyO1vcpzkAP8ykYPX0PTjPoteX+GvCnibXfimvj3xpYW+im0svsdjpcN0Lh0znc7yL8p+83A9e2OfUKXRd/+D/kHV22/4H+YUUUUhnN+PP8AkXbX/sNaV/6cLepPHv8AyTjxJ/2Crn/0U1R+PP8AkXbX/sNaV/6cLerni6xuNU8E63YWMfm3N1p88MMe4Ludo2CjJwByR1qKmsGl2NaLSqRb7o+RvB2vfBuy8K2kHjPwnrGoa0m/7Rc20rCN8uSuAJ16LtH3R0/GvfZNWm8MfA6x134R6NCunQx/a/7O1BZJJPIYlnIIkJDAkt1YYziuK8HJ8ePBPhW08P6V4J0ea0tN+x7m5jaQ7nLnJW5A6se1drrF18Vda+FqWJ0C2sfEmpTPb3MltcxpFZW5OPMGZWJYqf4SSOT1wDrUbafJ/Xy/rQxjbmXNsSeB/ihqnxH8ZSDw1ZQQ+FrK2Q3d3dQv5zzsufLjIYAYzySD90+ornNR+O2qXF5rF34efwrBpWkTPEbbV9RMV7f7BkmFAcDPQZBz9eK0vAXgDxJ8LfHH9m6LHJq3hDUoUa5leaNXtLgLgvtLAkHH8IPBH93nm1+FPiTws+t6Ro3gnw74ih1G5ebT9bv/ACC+nhsDDpKjFwvYDIzk85xUy393s/vv/wAPbpYcdnzeX3W/q/W50viP403sFh4F1HwrplveQeJ5Xie2uSRIrgooRXBwp3MQSQenSmx/Ej4hW/xCm8D3uhaBPrE9sLmznt7mZbaFOcmUsCzYwfugc49c1H4p+GuvG5+GcOlWlveR6BfCbUprWOC0jTMkTM6xDaMEhzhRnj1Nbj+EtbP7SEfikWX/ABJl0f7MbrzU/wBZk/Lszu/HGKqyvp3l91tPxB35U+tl99/8ir4Y+KGuajoXjaDXdOsbfX/CcUjP9mLNbzEI5UgE7sZTnnoR0rCt/iv8RZvhta+Ov+Ee0N9HiBN5CJZVuJlD7S8Y5CKP9oseCcYqaLwlreh3Pxf1fVLLyLHVrOV7KXzUbzVEcuThSSvUdQK5zwrYeP8AX/gFpvhXRtHsLnTdVidBq0l6ENpEZTuV4iMseDhlJ4PTNRq43W9o+l9b3LkoppdLy+7T/M2/iNq1vr3j34Q6tYkm3vrrz49w5CsYiAffmuo1jx94m1bx7f8AhH4c6dpc1zpUSyX99q8kggjZsERqsfzE89fr6Vl+JPhvq8WufDGHQrY3lh4ZkCXlwZUQoo8sbtrMCc7ScLmp77wx4u8FfE3WfFngzSLbxFZ67GgutPe8W1likXjcrsNpXqfXn2zVaLRbXl+ljPV69bR/N3+Z0Pw88fT+LLjV9I1vT103XtEmEN7bxyb42zna6H0ODwenHrWnY/8AJU9d/wCwLpv/AKPvqwfhp4L1fRtX8QeKPFZgTWfEE6ySWts5eO2jXO1N38R55PTgVvWP/JU9d/7Aum/+j76jor7219Q6u23QPC//ACMXjP8A7DUf/pvs66SuE0y58Rw+LfGC6HpWl3lv/a0RaS81OS3cN9gtMgKsEgIxjnI6njjJ1/t3jf8A6F7w/wD+D6f/AOQ6QzpKx77wro2peJtP8QXtn5uqaarLaT+a48sMCG+UHac5PUGqf27xv/0L3h//AMH0/wD8h0fbvG//AEL3h/8A8H0//wAh0dbh5HSUVzf27xv/ANC94f8A/B9P/wDIdH27xv8A9C94f/8AB9P/APIdAHSUVzf27xv/ANC94f8A/B9P/wDIdH27xv8A9C94f/8AB9P/APIdAHSUVzf27xv/ANC94f8A/B9P/wDIdH27xv8A9C94f/8AB9P/APIdAHSUVzf27xv/ANC94f8A/B9P/wDIdH27xv8A9C94f/8AB9P/APIdAHSVzfjz/kXbX/sNaV/6cLej7d43/wChe8P/APg+n/8AkOuf8aXnjFtBthdaFocaf2tppDR61M5LfboNowbUcFsAnPAJODjBAPRKK5v7d43/AOhe8P8A/g+n/wDkOj7d43/6F7w//wCD6f8A+Q6AOkrnPFXw+8LeNvKPijRob54RtjlLNHIoznG9CGx7ZxSfbvG//QveH/8AwfT/APyHR9u8b/8AQveH/wDwfT//ACHRYLlnwx4O8P8Agyxe08M6XDp8MhDSbMszkdNzMSx/E1t1zf27xv8A9C94f/8AB9P/APIdH27xv/0L3h//AMH0/wD8h07t7hsdJRXN/bvG/wD0L3h//wAH0/8A8h0fbvG//QveH/8AwfT/APyHSA6Siub+3eN/+he8P/8Ag+n/APkOj7d43/6F7w//AOD6f/5DoA6Siub+3eN/+he8P/8Ag+n/APkOj7d43/6F7w//AOD6f/5DoA6Siub+3eN/+he8P/8Ag+n/APkOj7d43/6F7w//AOD6f/5DoA6Siub+3eN/+he8P/8Ag+n/APkOj7d43/6F7w//AOD6f/5DoA6Siub+3eN/+he8P/8Ag+n/APkOj7d43/6F7w//AOD6f/5DoAPHn/Iu2v8A2GtK/wDThb10led+NLzxi2g2wutC0ONP7W00ho9amclvt0G0YNqOC2ATngEnBxg9B9u8b/8AQveH/wDwfT//ACHQB0lFc39u8b/9C94f/wDB9P8A/IdH27xv/wBC94f/APB9P/8AIdAHSUVzf27xv/0L3h//AMH0/wD8h0fbvG//AEL3h/8A8H0//wAh0AdJRXN/bvG//QveH/8AwfT/APyHR9u8b/8AQveH/wDwfT//ACHQBuX9jb6pptzYX0fm211E0M0e4ruRgQwyMEcE9Kr6FoWneGtEttI0S3+zWNqpWGLez7QSSeWJJ5J6msv7d43/AOhe8P8A/g+n/wDkOj7d43/6F7w//wCD6f8A+Q6AOkorm/t3jf8A6F7w/wD+D6f/AOQ6Pt3jf/oXvD//AIPp/wD5DoA6Subsf+Sp67/2BdN/9H31H27xv/0L3h//AMH0/wD8h1R8OS6rN8SdfbXLOzs7j+ydOCx2d21whXzr3BLNHGQc54weg55wAC94X/5GLxn/ANhqP/032ddJXN+F/wDkYvGf/Yaj/wDTfZ1F4j+JPhbwlqi6fr2oS2900YlCJZTzDaSQDuRGHY8ZzQB1NFcpo3xN8J6/HfPpWozTLp9u1zcFrG4j2Rr1I3IN30GT7Vl/8Lw+H/8A0Gbj/wAFV3/8aoA7+iq9hfW+qabbX9k5ktrqJZonKFSysMg4IBHB6EZqxTaadmAUUUUgCiiigAooooAK5vx5/wAi7a/9hrSv/Thb10lc348/5F21/wCw1pX/AKcLegDpKKr6hK8GmXUsR2vHC7KcZwQpIrkfCPjSKP4Q6N4m8ZapFE01oklxdSqqB3PoqgcnsFH4UX38rfjf/IO3n+lv8ztqK5nSPiJ4W13UrbTtL1UTXtyHMds0EkcgCAFtysoKcEEbsZ7ZrT0/xFpeq6LLq1hdebYxGUPL5bLgxsVfggHgqe3OOKHorsFrsadFYdz4z8PWfhm18QXWpxQ6ZeIj200isDNvGVCpjcWI/hAz7VBo/jjQPE8N6vh/URNc2kZaWCSF4ZY+OCY5FDY98YpS929+g1rbzOjorh/CfjeCH4R6H4k8Z6pHFJdWyNNcOgUyyNnhUQck/wB1R+FV9L8fweIvinY6boGqLcaY2kzz3FuYdjpMssYXerqJEO1jwcZznFVb3+T1/BN/oSnePMegUVyWo/FHwbpWoS2V9rcaSQSeVM6QySRQv/deVVKIfZiMVq634s0Lw5psF9rGoxQW9wQsBUGRpyRkBFQFn45+UGl0uPrY2KK4Pwz44TxP8TNSs9J1NLzRoNJgmSNYwpjnMsivuyA6thV+VunpzWinxP8ABsmr/wBmprsBn83yRJsfyTJ02edt8vdnjG7NHbz/AM7Cvv5f8OdXRRRQMKKKKACiiigDm/Hn/Iu2v/Ya0r/04W9dJXN+PP8AkXbX/sNaV/6cLeujd1jRnkYKqjLMxwAPWgBaK5G2+Kfgu71OGxg12JpbiTyoZDFIsMr5xtSYr5bHPoxrrqOlw8gorg5vjX4CgmeKXWLgPGxVgNLujgg4PIirRufib4TtPDdpr0+ozLpt5K0UEosZyzMucjYE3DoeSAKOlw62OrorjNI+LXgzXNWt9M0zVJ5bu5fZEjadcxhj1+80YA/E1p+PdTvNF+Hmv6npk3kXlnp800Em0NsdUJBwQQefUUm7K41q7HQUVx+ifErwzfzWOmSa3C+pzoiHKMsck20bkWTbsL5z8oOe2K7CqasyU7oKKKKQwrm7H/kqeu/9gXTf/R99XSVzdj/yVPXf+wLpv/o++oAPC/8AyMXjP/sNR/8Apvs6i8Rr4/bVF/4RGbw2lh5Y3DVIp2l35OeY2A24x79al8L/APIxeM/+w1H/AOm+zrpKAOU0ZfiEI77/AISCbwyz/Z2+xfYYrhQJv4fM3Mcp64way/L+MH/Pz4I/8B7v/wCLrv6KAK9h9sGm239qGA3vlL9oNsCIzJj5tobnbnOM84qxRRTerAKKKKQBRRRQAUUUUAFc348/5F21/wCw1pX/AKcLeukrm/Hn/Iu2v/Ya0r/04W9AGzq3/IFvf+veT/0E14po0sVj4L+EOp6u6x6Jas32mSU4jimaJlgdyeAA2Rk9CRzXurosiMkihlYYZWGQR6VzniDQL9tAt7Dwj/ZdnDbna2nXdorWlxFjBiIUZQdwVHboaWzv6fhf/Me/3P8AGxyWp6tomp/tB+FF0q5trq8h0+9FxJbuH2qVUorMO/3jjtn3qj4R8SaPo/wj1yy1HULeC9tbrUYZLRpB53mNNIVQJ1JbcMADnNdF4V8DX9n4ktta1q30TTRYW0tvZaZoUJWCPzCpeRmIXcx2AYCgD3rrZPD+jS6odTl0ixe/KlDdtbIZduMY34zjHbNKcOaHL5Nfe7hF2lfzT+5WPIrbVls/DPwss4Y9Mt7+bTvMtdT1YuYLUrAoYBFZQ8jBsDJGOal0K+lu/jndrdeJLPX54/Dc6PNZWqwxRHzkPljDNuIzk5Y4z2r1i58P6NeaTHpd3pFjPp8QCx2ktsjQoAMABCMDA6cU6DQ9JtWga20uyha3iaGEx26KYo2xuRcDhTgZA4OKub5pOXe/4pr9RR91Jen4O54v4bnh07Q/hHqmsvHFo8FrPG803EcNw8YETMTwucMAT3NdQNV0S/8A2hLeXR5oLu5g8P3C3clswfOJYyqFhwWAJ46jIr0JdI01NJGlrp9qunBPLFmIF8kL/d2Yxj2xUdh4f0bS2ibTNJsbMwI0cRt7ZI/LViCyrgDAJAJA64FNu8r+v4p/5kxVo29PwaPEYfEEl18Ir66s/EOgeHNJuIrnZo0Nsbm8ZnL5id5JeZWJOfkPX8a1fDN3b6Zr/wAOtS12eGHTpfCa21nPOQES6IiJG4nAZkBA9cEV6tH4a0KLUpdRi0XTkvpgRLdLaIJZAeu58ZOfepZND0mXR10mXS7J9NVQi2bW6GEKOgCY249sUovl19Pykv1Keqs/P80/0PLLq5tdb+IXj7/hDpY7i9k8MpEZrVgQ9xmUABhwWA2jPqMdq5oTtL8Eo7a4+IGkppTWK2jaVDoSNdI+AvkhPPBMob2BzzXvNloul6Y4fTdNs7RliEIaCBYyIwSQnA+6CScdOTUX/COaH/bH9rf2Np/9pf8AP79lTzv++8bv1qUklb+t2/1Hd35v62S/Ql0aGW30KwhuZJJZo7aNZHlTazMFAJIycHPUZP1NXaKKpu7uTFcqSCiiikMKKKKAOb8ef8i7a/8AYa0r/wBOFvUnj2/g0v4fa5eXlk1/bw2UhktVcp5q7cFdw5A55I7ZqPx5/wAi7a/9hrSv/Thb10bKHUqwDKRggjrUyV4tFRdpJnz7441W6Pw302K58XeHmtpJLT7No+j2mcqsqEfvGlZtqgfe2ryAO+K+g/pWPD4R8N21vcwW/h/Soobv/j4jjso1WbnPzgLhueea2AAAABgDoK0buvnf8jNKz+Vjg5k+LnnP5Fx4KEW47A8F2W254zh+taNyvxC/4Ru0FpN4ZGt+a32ppYrg2xTnbsAbcG6Zycda6uip6WK63OM0hPiaNWtzrs/hNtO3/vxZQ3KzFf8AZLMRn61Y+KX/ACSXxT/2Crj/ANFmurqK6tbe+tJbW9giubeZCksMyB0kU8EFTwQfQ0pK8WhxdpXPIvFet+G9U+BtjpXh25tJr26itYNKsoHXzkuAyYwnVShBLcDGDmvYIwwiUSHLBRuPqao2/h/RrTUm1G10mxgvWQIbmO2RZCoGANwGcY7VoVcndt93ciKskuwUUUVJQVzdj/yVPXf+wLpv/o++rpK5ux/5Knrv/YF03/0ffUAZGmeLPDmg+LfGFrrmv6Xptw+rRSLFeXscLspsLQBgGIOMgjPsa1/+Fj+CP+hy8P8A/g0g/wDiqPC//IxeM/8AsNR/+m+zrpKAOb/4WP4I/wChy8P/APg0g/8AiqP+Fj+CP+hy8P8A/g0g/wDiq6SigDm/+Fj+CP8AocvD/wD4NIP/AIqj/hY/gj/ocvD/AP4NIP8A4qukooA5v/hY/gj/AKHLw/8A+DSD/wCKo/4WP4I/6HLw/wD+DSD/AOKrpKKAOb/4WP4I/wChy8P/APg0g/8AiqP+Fj+CP+hy8P8A/g0g/wDiq6SigDm/+Fj+CP8AocvD/wD4NIP/AIqj/hY/gj/ocvD/AP4NIP8A4qukooA5v/hY/gj/AKHLw/8A+DSD/wCKrn/Gnj7wfdaDbR2vizQ5nXVtNkKx6lCxCpfQMzYDdAqkk9gCe1eiVzfjz/kXbX/sNaV/6cLegA/4WP4I/wChy8P/APg0g/8AiqP+Fj+CP+hy8P8A/g0g/wDiq6SigDm/+Fj+CP8AocvD/wD4NIP/AIqj/hY/gj/ocvD/AP4NIP8A4qukooA5v/hY/gj/AKHLw/8A+DSD/wCKo/4WP4I/6HLw/wD+DSD/AOKrpKKAOb/4WP4I/wChy8P/APg0g/8AiqP+Fj+CP+hy8P8A/g0g/wDiq6SigDm/+Fj+CP8AocvD/wD4NIP/AIqj/hY/gj/ocvD/AP4NIP8A4qukooA5v/hY/gj/AKHLw/8A+DSD/wCKo/4WP4I/6HLw/wD+DSD/AOKrpKKAOb/4WP4I/wChy8P/APg0g/8AiqP+Fj+CP+hy8P8A/g0g/wDiq6SigDm/+Fj+CP8AocvD/wD4NIP/AIqj/hY/gj/ocvD/AP4NIP8A4qukooA5v/hY/gj/AKHLw/8A+DSD/wCKo/4WP4I/6HLw/wD+DSD/AOKrpKKAPO/Gnj7wfdaDbR2vizQ5nXVtNkKx6lCxCpfQMzYDdAqkk9gCe1dB/wALH8Ef9Dl4f/8ABpB/8VR48/5F21/7DWlf+nC3rpKAOb/4WP4I/wChy8P/APg0g/8AiqP+Fj+CP+hy8P8A/g0g/wDiq6SigDm/+Fj+CP8AocvD/wD4NIP/AIqj/hY/gj/ocvD/AP4NIP8A4qukooA5v/hY/gj/AKHLw/8A+DSD/wCKo/4WP4I/6HLw/wD+DSD/AOKrpKKAOb/4WP4I/wChy8P/APg0g/8AiqP+Fj+CP+hy8P8A/g0g/wDiq6SigDm/+Fj+CP8AocvD/wD4NIP/AIqj/hY/gj/ocvD/AP4NIP8A4qukooA5v/hY/gj/AKHLw/8A+DSD/wCKqj4c1vSte+JOv3Wh6nZ6lbppOnRtLZ3CzIrCa9JUlSRnBBx7iuyrm7H/AJKnrv8A2BdN/wDR99QAeF/+Ri8Z/wDYaj/9N9nVi88WWNl4207wvLFcG91G3kuIpFVfLVY+oY5zn0wDVfwv/wAjF4z/AOw1H/6b7OszVbDzPjh4cvMcJo98Cfo8IH/oZoV3JL1/Jg78rt5fmv0O3orwvVNV+H66xeLdfEnx1bzidxJDBc3wjjbccqu2LG0HgY4xXp3w/n0q48JxyaBrOp6zZ+a4W71R5GmJzyCZFVsDtxRHVXB6Ox01FFFABRRRQAUUUUAFFFFABXN+PP8AkXbX/sNaV/6cLeukrm/Hn/Iu2v8A2GtK/wDThb0AbmoXsem6ZdX06s0VrC8zhACxCgk4z34rgbT4x297Yw38XgjxkbGZBKt0umK6bCMhvlkJIxzwDXX+LP8AkTNa/wCvCf8A9FtWb8Mf+SU+F/8AsF2//osUlduXlb8b/wCQ3svn+n+Zs6Frum+JdFt9W0S7S7srhcxypkexBB5BB4IPIrQrwyTxFd+ENI+IDeHQ6B/E0draNDD5vkyTLGJSkf8AEwJJC92xVmz1jUtH1rSZfDy/EHUmmvI4dRh1zTrhoZIXOGkBZMRMuQ3y4XAIIpxala3W34pP9dxPS9+l/wAG1+h7VVC91T7Hqmn2X2G9n+3O6/aIId0VvtUtmVs/KDjA65PFeVeKtQvLPxdq7eNL7xfpOnK4Ol3+iBzZxQ7BzIIgSX3bshwRjGOK25NauZte+GotPELapbXrXQnu7f8AdR3wW2YhmRTjqM4PQjtRH3lcHo2vX8DstH8S2et6trOn2kc6S6PcrbXDSKArMUDgrgnIww645rXrxxvEU/hSH4sazZKrXNtqEXk7x8odoI0Un2BYE/Sl8deHNc8KeBRq9j4116e9+0WwvTPdkxzBpkDbFAHlcnomBjIOc0R1UfO33uwpaJv1/A9iorjNFvruX4w+KbKW6me1gsLF4oGkJSNm83cVXoCcDJHXArDt9d1ODR/iNcLrcVlJZas8Vrd6lIzQ2a+VF0GDwCxIUDBY9OaV/wAm/uaX6lW1t5pfernp9ZOleIrTWNY1jTbaOZZtHnSCdpFAVmaNZAVwSSMMOoHNeQza4+ja14cu/Dus+Nb77XqltaXk2sQTLZXEcrbWwsqqFbnI8sCtG+8QXfhlvihqOmFVvP7Us4IHZdwjeSCGMMR3xuz+FUk/673j/mS3a39aa/5HpviHxFaeGrO1ub6OaRLq8hs0EKgkPK4VSckcZPPf2Na1eO+OfBt9oenaBdJ4o1jUV/t2w+2w6jcCZJiZlAZAR+7IbHC4GO1aPjDUYrjxtd6fqniPW1t7e2ja30nwvHcNcBjktJO0KErnjapYDHOKS2+bX4J/qPr8v1aPUaydZ8RWmh3ukWt3HM76teCzgMSghX2M+WyRgYQ9M9uK8n0zxr4gX4f3llHfX6Xr+J00GzvdRhU3VvFIUIaQDguoZuT3xmtPxF4SufD/AIv8DyxeIdW1G0bWgJYNTuftB8zyZMOrEZXjcCo+XkYAxTS1XZtfjZ/k0Duk+9n+F/8AI9borxGfxPN4m8Sa6+qT+N4bbT9QksrGHw3ZzeSgjwC7vGp8xy2TtYkAY4r0H4bavrOseEt/iO2vIby3uZYFkvbRraS4jVvklMZAwSpGcDGQaUdVf5hLR287Fnx5/wAi7a/9hrSv/Thb10lc348/5F21/wCw1pX/AKcLetTXrqWx8PahdW9xa2ssNu7pPdtthiYKcM5/ujqaTdlcaV3Y0KK+f9U8QTaVoljrmh+IvGeqaks9ubi8nt5k0yYPIquNkiKgQ7iF2DPT619AVVrIm93YwvDPi6w8Vvqy6dFcRnSr+Swn89VG6RMZK4JyvPU4PtW7XlWk2OnaN4Q8dyazqd/pVlN4iuJpbzTmdZ4gzR42GMFuuAcA8E9K5ddW+HW4Y+J/j8nPe6v/AP4zSjaXLbql+KRUrXdu7X3M99rJ8NeIrTxTow1LT45o4TNLDtnUBt0cjI3QkYypxz0rVXG0YORjqe9eNeAPB+oaz4FnvY/FOrabKt9e/YY7GcRwwkXEnMiYxIS2chuMYAA61Ldnr2/yEtUvX/M9mornPh94gufFPw/0jWb5VW6uYMzbBhS6kqxA9CQT+NdHVyVnYSd1cKKKKQwrm7H/AJKnrv8A2BdN/wDR99XSVzdj/wAlT13/ALAum/8Ao++oAPC//IxeM/8AsNR/+m+zrTmstSfxFbXkOreVpscDpNp32ZT50hI2v5n3lxyMDg5rM8L/APIxeM/+w1H/AOm+zrpKACiiigAooooAKKKKACiiigAooooAK5vx5/yLtr/2GtK/9OFvXSVzfjz/AJF21/7DWlf+nC3oA2dWsf7U0W9sPM8r7VbvD5m3dt3KRnHGcZrz/Svh5450nRrTSLb4lCKwtYVgRYdCiWRY1GAA7O2Djvg16XRStq/6/rcDkU+GuhJ4Ck8KA3P2aR/Oe7Mubhp92/zy+Pv7gDnGOMYxxVWDwHrF5qmnT+LfFk2s2mmTC4trVLJLYPKowryspO8jOcAKM9q7iiqvrcOljirnwPrNrrOoXfhTxXJpFtqcvn3VpLYpcqJSAGeMkgoSAODuGecU6x+G9npUvhMadeSJB4be4cJKgdrlpkZWJYEBTuYtwD6YFdnRSWisg3OHvfBtnp+m+NbnU1udXtNeb7RNZWkH71VESoVT5vmb5cjpz2rzPVpW8XaTp/hzSvHF54mlF7a+VYJpnkyQRpIpZ7uTH8KA9duTjgmvoSiiPutPtb8NhSXNFrvf8dzkNZ8F6hP4rfxD4a8Qvot5c26W14jWiXMc6ISVIUkbXG485I9qzY/hPbnwv4g0a61q7n/ti/XUBdlAJYZlEZDHs3zx7sYAwcADFeg0ULRaf1rf8xvXf+un5HnuofDnXdd/syTxF40kvJtLvoL23WHTkghLRuDl0DEsxGRncAM521qP8PrK7/4SyLVLhrm18SzJK8SpsaDbEiDDZOTlAwOBg9q66ijpb+un+SDqn2/4P+bPO7z4a69q66dFrnje4vrfTL2C6tovsCR7zG4b96VbLtgEZ+UDOcE1fuvA2rQeK9S1nwx4obSF1YxtfW8lilwGdF2B42YjYdoHUMPau1oo/r8v8kBwFh8KLS28O63o95q95eR6nqI1KO6YBbi3nwnz7+jNvTd90DnGMUv/AAr7XL7XNF1PxD4xk1JtHu/PghXT0gRxsZTuCty53D5ugwcKM131FHbyt+G35A9d/P8AE4m68CapZ6zqF94O8TvoaapL595bSWSXUZlIAMkYJBRiAM9QTzit7wt4btfCmgx6ZZyzXGHeWW4uG3STyOdzOx9STWxRQtFYHqc348/5F21/7DWlf+nC3rR8SaDa+J/DV/ol+0iW99C0LtGcMoPce461nePP+Rdtf+w1pX/pwt66Sk0mrMabTujzbVfhjr/iDw6NI13xzNcQwtG1t5OmxwruRgVMoDZkxjoCgzzjgV6SM4GeT3NFFVdk2Rm6NY6pZfbf7X1f+0/Ou3ltv9GWH7NCcbYfl+/t5+Y8nNaVFFIYV5vp3ww1zR9Kn0vS/HN1bWN5PNNcxrYxlh5jsxELMSYzg4JO7kZAUmvSKKVle47lLRtIs9B0Wz0rTIvKtLOJYYkznCgY5Pc+9XaKKptt3ZKVlZBRRRSGFc3Y/wDJU9d/7Aum/wDo++rpK5ux/wCSp67/ANgXTf8A0ffUAZGmaNfaj4t8YS2fiXVNKRdWiUw2cdqyMfsFodx82F2zzjg44HHXOv8A8Ivq/wD0PfiD/vxp/wD8i0eF/wDkYvGf/Yaj/wDTfZ10lAHN/wDCL6v/AND34g/78af/APItH/CL6v8A9D34g/78af8A/ItdJRQBzf8Awi+r/wDQ9+IP+/Gn/wDyLR/wi+r/APQ9+IP+/Gn/APyLXSUUAc3/AMIvq/8A0PfiD/vxp/8A8i0f8Ivq/wD0PfiD/vxp/wD8i10lFAHN/wDCL6v/AND34g/78af/APItH/CL6v8A9D34g/78af8A/ItdJRQBzf8Awi+r/wDQ9+IP+/Gn/wDyLR/wi+r/APQ9+IP+/Gn/APyLXSUUAc3/AMIvq/8A0PfiD/vxp/8A8i1z/jTw5qkOg2zSeNNcnB1bTVCSQ2IAJvoAG+W2BypIYdsgZBGQfRK5vx5/yLtr/wBhrSv/AE4W9AB/wi+r/wDQ9+IP+/Gn/wDyLR/wi+r/APQ9+IP+/Gn/APyLXSUUAc3/AMIvq/8A0PfiD/vxp/8A8i0f8Ivq/wD0PfiD/vxp/wD8i10lFAHN/wDCL6v/AND34g/78af/APItH/CL6v8A9D34g/78af8A/ItdJRQBzf8Awi+r/wDQ9+IP+/Gn/wDyLR/wi+r/APQ9+IP+/Gn/APyLXSUUAc3/AMIvq/8A0PfiD/vxp/8A8i0f8Ivq/wD0PfiD/vxp/wD8i10lFAHN/wDCL6v/AND34g/78af/APItH/CL6v8A9D34g/78af8A/ItdJRQBzf8Awi+r/wDQ9+IP+/Gn/wDyLR/wi+r/APQ9+IP+/Gn/APyLXSUUAc3/AMIvq/8A0PfiD/vxp/8A8i0f8Ivq/wD0PfiD/vxp/wD8i10lFAHN/wDCL6v/AND34g/78af/APItH/CL6v8A9D34g/78af8A/ItdJRQB53408OapDoNs0njTXJwdW01QkkNiACb6ABvltgcqSGHbIGQRkHoP+EX1f/oe/EH/AH40/wD+RaPHn/Iu2v8A2GtK/wDThb10lAHN/wDCL6v/AND34g/78af/APItH/CL6v8A9D34g/78af8A/ItdJRQBzf8Awi+r/wDQ9+IP+/Gn/wDyLR/wi+r/APQ9+IP+/Gn/APyLXSUUAc3/AMIvq/8A0PfiD/vxp/8A8i0f8Ivq/wD0PfiD/vxp/wD8i10lFAHN/wDCL6v/AND34g/78af/APItH/CL6v8A9D34g/78af8A/ItdJRQBzf8Awi+r/wDQ9+IP+/Gn/wDyLR/wi+r/APQ9+IP+/Gn/APyLXSUUAc3/AMIvq/8A0PfiD/vxp/8A8i1R8OWFzp3xJ1+K81a81V20nTmE14kKuo869G0eVGi44zyM8nnpjsq5ux/5Knrv/YF03/0ffUAHhf8A5GLxn/2Go/8A032dR+Im8a2eqLe+GE0vU7DywJdMuy0EpYE5aOYZHORwy4461J4X/wCRi8Z/9hqP/wBN9nTPEPgpfFGqLJqut6oulrGEOlWk/wBnilPOTIyYd85AxuA4pa9B6dSLwn8QtP8AFOq3ujNaXWm61p6BruxuQrbATjIdCUYZPrn2rrKztF8P6R4csRZ6Dptrp9uOqW8QTcfU46n3PNaNU7Eq/UKKKKQwooooAKKKKACiiigArm/Hn/Iu2v8A2GtK/wDThb10lc348/5F21/7DWlf+nC3oAk8e/8AJOPEn/YKuf8A0U1cJ8BHk0nw6fDdw5YJaWuq2hbvDcxhmH4SiT8xXf8Aja3mu/APiC3tYpJp5tNuEjijUszsYmAAA5JJ7V5rqGleJNF8FeCtV8O6XdS6uujLo13biJg8IlhXa7rjIEcqgnPQE046czXWy/8ASv1sXKzhFebf/pP6XGeGXk1X9oJPEruxh1KyvobRT0FvbyRRqR/vMJG+jCuqm+ImtXFtean4e8HTalotnJKj3cl+kEkwjJDtFEQdwBU4yVzjimQeG5dF+I/hWDTrSZtP03QLm0+0eWTGrbodoZugJ2k46nBriRpmo6xoV/ZeK/Dfi3WfFT+cCstzLHpoYk7WQiRYfLA28YLHHQ1m7qNo9E/nq/66ErWTb6tfkd9eeIdG1fxD4Av001rptV8+bT7p5mja0BtixJQcOSvy4PTqKafiFq+oyXdx4U8Iz6zpNlM8Ml4b2OBpmQ4fyYyDvwQRklckcZrB0TSdTEPwk8zTL2L+z7eZLwSW7qbY/ZCn7zI+TLcDOM1P4W1PVPh1oUvhe88La3qU1rcztY3Nhb+dDdpJKzqWkziM/Ng78dO9azSUml52+/8Ar1EtYpvy/X/gGxqHxQtl03w1e6Bpk2rJ4ileG3jEoidHVGO1gRgfMu1skbeTzjB67R7nULvS4ptY09NOvGz5lslwJwmCQMOAM5HPQda8w0jwlrOif8K7gvrR5Li31K9u7826F47YzRytgsOAAXC5PBNeuUur9f0Qu39dWcRJ4+1G71fUIfDXhe41jT9KnNveXi3SREyKMukKN/rCucHJUZ4BNQ6Z8UE1Pw34a1iLSmWPXtVbTljafBhAeRRIfl5/1edvGM9eOaGhXmp+ALnV9EuPDmraol1qM97p11p8IkjmWZt+yRicRMrEglsDHOa5rQbTVbz4PeE9XstNkvZ9J8QTahc2VqQZGQXE4cRgkbiN2QO+KUbWTf8Adv8APf8AroOW0rb62+52/Q9U1LxL/Z/jTRPD/wBk8z+1YriTz/Mx5XlKpxtxznd6jGO9YTeP9X1C5vJPCnhKfWNLsZnglvTexwGZ0OHEKMD5mCCMkqCRwTWYL7UvE3xZ8LarD4e1Wx0q1tr1GuL61MTb2ROq9UHGAWxk5x0rkrLwdYeGI7/TPEPg7xNqt8LqaSzutIu7r7Pdo7lkz5cqrEwzg7gBxnJpa6ej/P8AyBWd/Vfl/me06Brll4l0G01fS3ZrW7j3pvXDL2KkdiCCCPUVo1zfw+0OTw74F07Triwt9OnVGkltbeWSVIndixAZ2ZjyeTk85xxXSVcrJuwlsFFFFSMKKKKAOb8ef8i7a/8AYa0r/wBOFvW3qWoW+k6VdajesUt7WJppWAyQqjJwO54rE8ef8i7a/wDYa0r/ANOFvVvxf/bP/CG6r/wi+P7Y+zP9kzj/AFmOMZ4z6Z4zipk2otoqKvJJnKzfErWbCxtNZ1jwZcWWgXUkSi7+3xvPEsjBUaSADgEsMgMSM9K9Dr568R6L/bPhCNtM8J+NL7WLeSCS5udalnYxbZFL7I3ciRjyB5aEYycjofoQHKgjjI7itGlb5/5Gabv8jgrvXvG/hETT6/pdn4h0iIlje6ZILe5iT1eGQ7WP+64+ldR4Y8TaZ4v8O22taHK8tlcbtjPGUYFSVIIPoQRWBH8MNKvL77d4uvL3xPch96JqUmbaE+iW64jA+oJ967KGGO3hSKCNIo0G1URQFUegA6VK21Ke+h5c+sanpvxt8Tw6Fob6xeT6dYkIbhYIo1Xzcl5CDjqAAASfoCa7Xwn4qTxPbXiy2U2m6jp85tr6xnIZoZMAjDDhlIIIYdRXJT6lqXhr4veItSl8Oatf6TdWFmn2qwtTKRIvmcBRy4+Y52528ZHOa1/AWnai+reI/E2q2Mumvrl1G0FlPjzY4YowilwCQGbk47cUobff+f8Al/mEvi+78jtaKKKYBRRRQAVzdj/yVPXf+wLpv/o++rpK5ux/5Knrv/YF03/0ffUAHhf/AJGLxn/2Go//AE32ddJXCaZrN9p3i3xhFZ+GtU1VG1aJjNZyWqop+wWg2nzZkbPGeBjkc9ca/wDwlGr/APQieIP+/wDp/wD8lUAdJRXN/wDCUav/ANCJ4g/7/wCn/wDyVR/wlGr/APQieIP+/wDp/wD8lUAdJRXN/wDCUav/ANCJ4g/7/wCn/wDyVR/wlGr/APQieIP+/wDp/wD8lUAdJRXN/wDCUav/ANCJ4g/7/wCn/wDyVR/wlGr/APQieIP+/wDp/wD8lUAdJRXN/wDCUav/ANCJ4g/7/wCn/wDyVR/wlGr/APQieIP+/wDp/wD8lUAdJRXN/wDCUav/ANCJ4g/7/wCn/wDyVR/wlGr/APQieIP+/wDp/wD8lUAdJXN+PP8AkXbX/sNaV/6cLej/AISjV/8AoRPEH/f/AE//AOSq5/xp4j1SbQbZZPBeuQAatprB5JrEgkX0BC/Lck5YgKO2SMkDJAB6JRXN/wDCUav/ANCJ4g/7/wCn/wDyVR/wlGr/APQieIP+/wDp/wD8lUAdJRXN/wDCUav/ANCJ4g/7/wCn/wDyVR/wlGr/APQieIP+/wDp/wD8lUAdJRXN/wDCUav/ANCJ4g/7/wCn/wDyVR/wlGr/APQieIP+/wDp/wD8lUAdJRXN/wDCUav/ANCJ4g/7/wCn/wDyVR/wlGr/APQieIP+/wDp/wD8lUAdJWT4Z8OWnhTQYtI06SaS3iklkVp2BcmSRnPIAHVjjjpVH/hKNX/6ETxB/wB/9P8A/kqj/hKNX/6ETxB/3/0//wCSqAOkorm/+Eo1f/oRPEH/AH/0/wD+SqP+Eo1f/oRPEH/f/T//AJKoA6Siub/4SjV/+hE8Qf8Af/T/AP5Ko/4SjV/+hE8Qf9/9P/8AkqgDpKK5v/hKNX/6ETxB/wB/9P8A/kqj/hKNX/6ETxB/3/0//wCSqAOkorm/+Eo1f/oRPEH/AH/0/wD+SqP+Eo1f/oRPEH/f/T//AJKoAPHn/Iu2v/Ya0r/04W9dJXnfjTxHqk2g2yyeC9cgA1bTWDyTWJBIvoCF+W5JyxAUdskZIGSOg/4SjV/+hE8Qf9/9P/8AkqgDpKK5v/hKNX/6ETxB/wB/9P8A/kqj/hKNX/6ETxB/3/0//wCSqAOkorm/+Eo1f/oRPEH/AH/0/wD+SqP+Eo1f/oRPEH/f/T//AJKoA6Siub/4SjV/+hE8Qf8Af/T/AP5Ko/4SjV/+hE8Qf9/9P/8AkqgDpKK5v/hKNX/6ETxB/wB/9P8A/kqj/hKNX/6ETxB/3/0//wCSqAOkorm/+Eo1f/oRPEH/AH/0/wD+SqP+Eo1f/oRPEH/f/T//AJKoA6Subsf+Sp67/wBgXTf/AEffUf8ACUav/wBCJ4g/7/6f/wDJVUfDl/c6j8SdflvNJvNKddJ05RDePCzsPOvTuHlSOuOccnPB46ZAL3hf/kYvGf8A2Go//TfZ10lc34X/AORi8Z/9hqP/ANN9nW9d3ltYWslzfXEVtbxjLyzOEVR6kngUATUVzvh/xzofirUrm18PTy38dsuZLyKBvs+7ONiykbWbv8ueK6KgAooooAKKKKACiiigAooooAK5vx5/yLtr/wBhrSv/AE4W9dJXN+PP+Rdtf+w1pX/pwt6AOkorL8TanNovhPV9UtVjeeyspriNZASpZELAEAg4yPUVzfwo8cX3jnwm13rdvb2uqQSBZ4bdWVNroskbAMScFHHfqDQtb26Dask+53FFefWHxA1HUPjVc+FYbW2/saC2lxc7W817iPyy4B3Y2jzQOmcg811934i0Sw1OLTr7WNPtr6b/AFVrNdIkr/RCcn8BQtUmuotm12NKiq9zqFlZyxx3l3BbyShjGksqqXCjLEAnnA5PoKi0vW9K1uF5tF1Oz1CKNtrvaXCyqp9CVJwaALtFZreI9ETWBpL6zp66kelkbpBMf+AZ3fpUl/rmk6UzLqmqWVkyxGZhcXCR4jBClzuI+XJAz0yRQBeoqOC4hureOe1lSaGRQySRsGVwehBHBFUpfEOiwam2mz6vYR3yoZDavcoJQoGS2wnOMc5xRsBo0VTj1fTZns0h1C1ka+jMtoqzqTcIACWTn5hgg5GRgipRfWh1BrAXUJvFiEzW4kHmBCcB9vXbkYz0zQBPRWc/iLRI9YGkvrFgupN0sjdIJj/wDO79K0aACiiigAooooA5vx5/yLtr/wBhrSv/AE4W9dJXN+PP+Rdtf+w1pX/pwt66SgAorLh8T6Bcas2lwa3psuoKcG0S7jMoP+4Dn9K1KACisjxB4q0LwraC58Q6ra2EZ+6JpMM/sq/eY+wBqbQtat/EOjxalZQ3UMExbyxdQNC7AEjdtbkA4yM9QRRuGxo0VyA8bRWnjnX9L1u6sNP0zTLW1ljuZ5BFlpd+QzM23+AY4HfrXV21zBeW0dxaTRzwSDcksThlYeoI4NC1Vw2diSiiigAooooAK5ux/wCSp67/ANgXTf8A0ffV0lc3Y/8AJU9d/wCwLpv/AKPvqADwv/yMXjP/ALDUf/pvs6wfHfw1ufE/iO01+yvbS4ns4fLTStZtzcWMhyTu2Agq3P3ueg4re8L/APIxeM/+w1H/AOm+zrpKPMZzHhXWNcnuJNL8Q+Fzo0ltEDHcWs6zWkyggYQjDKf9llHFdPRRTvcnYKKKKQwooooAKKKKACiiigArm/Hn/Iu2v/Ya0r/04W9dJXN+PP8AkXbX/sNaV/6cLegCTx7/AMk48Sf9gq5/9FNXmmgavB4BsfDmvXR2WGseE4Um9Dc20IeMfVo2cf8AARXsd/Y2+qabc2F9H5ttdRNDNHuK7kYEMMjBHBPSsq88FeHtQ0LTdGvdNSaw0p4ns4Wkf90YhhOc5OBxyTnvmhbPzt/7cn+enmVdcqXa/wClvy1OA8O6RcaJ8QPCMF0M6hNoWoXV2f71xLNFJJ/48xH0ArmvB2la5rPw8vtQutE8G3yXkly+p3mq3Ewud4dt3m/uW2lccAHgAYr3OXRbCfXrfWZbfdqFtA9vFNvYbY3Klhtzg5KryRnisPU/hn4P1jVJdQ1DRIpLiZg0+ySSNJyO8kasFkP+8DSaurev5t/16CTtq/L8rHncFh/bFt8JLLXbqHV45Dc+ZKvmGO6RIGZMiRVZgQq53Lz71s6vZroXxb1BvDNnFaXE/hG4m8u3QIssySqIyQBgkZxnGa9EuNA0u6v9MvJbRfP0kubIoxUQ7k2HCggEbTjBBx2pzaJp7eIU1xrfOopbNaLPvbiIsGK7c7eoBzjPvTn70rrrzfimv8gj7qXy/B3PMNK8O+EZ/wBnaO+vbSzPmaT9rub9kUzC52ZaTzPvbxJnnOc8VHotmfEHjzwJN4ntxdXQ8JtcSrcoGzLuiG5ge/zE/Wu2k+F3guXVW1CTQLdpWl85o97+Q0n98w7vLLe+3Nbr6Jp769DrTW//ABMILdrWObew2xMwYrtzt6qOcZ4ptpz5/wAO2klp96+4m3u8v9bp/p+JYaP7Lp7R2MSJ5URWGNF2quBwAB0FeQeG9B8N6h+z5c6jrNvbPezWtxc6jfSqPPS7BYsxf7wdW4HpgCvZq4rxJ8M/DepQ6rqFvocMmq3MEhXEjKkkxQhXaPcIy+cfMRkdc1lUvyy818/6/wAkaQ+Jev8AX9epyfh9gmr/AAgLkKG0GdVJ7n7NEcfXANal9euvxn8RHTHEl7beE12qvJWTzXZRj15Bx71uaX4GsNU+Gvh7RPF+mJLNp9jboyGQh4JUjCnbIhyCCCMqa1NF8F+H/Dt8bzRtNS1uDb/Z2kV3JdNxf5sk7juOdxyx9a3re9OVn/N+N/8AMyjpBf8Abv4NP9DxXSdE1S7+CQvJdL8FjTriya5uNWubqf7UsuCWmdhCT5ob0JwRgV7l4We6k8IaQ+o3CXV01lEZp4wwWVtgyw3ANz15APtWRP8AC/wZcao2oTaDAZXl854w7iF5M53tCG8tjnuVrrAAAABgDoKV738x22CiiipGFFFFAHN+PP8AkXbX/sNaV/6cLep/G2oWml+BdZvNSkuYrSKzkMr2hAmAIx8hPAbngnpUHjz/AJF21/7DWlf+nC3reu7S3v7Ka0voI7i2nQxyxSKGV1IwQQeoqZJuLSKi7STPBPGel32mfDjS5T4Y8N6BZW9zZ/ZHS6M99u81MbWWNFDkZLEM3G7619A1xkfwj8DR2klsNBR4nXaBLcSyGIZBxGWcmMZA+4R0rswMAAdBWjd187/l/kZpWfyPKLb4d674K1+61zw9b6X4rknlaZv7XHl36Z/hjufmXHsVX616NoWp3Gr6PFd3ul3WlTsWWS0utu+MgkdVJBBxkEdQRWjRUrRWKerueZWWk6Nqn7QHiM6rb291dQaZZtbRTqHAB8wO4U8ZHyjOOAx9aufDeGGx8VeNtO0hVTRbbUo/s0cf+rilaFWmRB0ADY4HQk1uax8PfC+v6lPqOq6WJr24REe4WeSOQBMhQrKwKcMc7cZ75rX0bRdN8PaXHp2iWUNlaRZ2xQrgZPUn1J7k8miOi+/8XcJav7vysXqKKKACiiigArm7H/kqeu/9gXTf/R99XSVzdj/yVPXf+wLpv/o++oAPC/8AyMXjP/sNR/8Apvs66SuE0zwn4c17xb4wutc0DS9SuE1aKNZbyyjmdVFhaEKCwJxkk49zWv8A8K48Ef8AQm+H/wDwVwf/ABNAHSUVzf8AwrjwR/0Jvh//AMFcH/xNH/CuPBH/AEJvh/8A8FcH/wATQB0lFc3/AMK48Ef9Cb4f/wDBXB/8TR/wrjwR/wBCb4f/APBXB/8AE0AdJRXN/wDCuPBH/Qm+H/8AwVwf/E0f8K48Ef8AQm+H/wDwVwf/ABNAHSUVzf8AwrjwR/0Jvh//AMFcH/xNH/CuPBH/AEJvh/8A8FcH/wATQB0lFc3/AMK48Ef9Cb4f/wDBXB/8TR/wrjwR/wBCb4f/APBXB/8AE0AdJXN+PP8AkXbX/sNaV/6cLej/AIVx4I/6E3w//wCCuD/4muf8aeAfB9roNtJa+E9DhdtW02MtHpsKkq99ArLkL0KsQR3BI70AeiUVzf8AwrjwR/0Jvh//AMFcH/xNH/CuPBH/AEJvh/8A8FcH/wATQB0lFc3/AMK48Ef9Cb4f/wDBXB/8TR/wrjwR/wBCb4f/APBXB/8AE0AdJRXN/wDCuPBH/Qm+H/8AwVwf/E0f8K48Ef8AQm+H/wDwVwf/ABNAHSUVzf8AwrjwR/0Jvh//AMFcH/xNH/CuPBH/AEJvh/8A8FcH/wATQB0lFc3/AMK48Ef9Cb4f/wDBXB/8TR/wrjwR/wBCb4f/APBXB/8AE0AdJRXN/wDCuPBH/Qm+H/8AwVwf/E0f8K48Ef8AQm+H/wDwVwf/ABNAHSUVzf8AwrjwR/0Jvh//AMFcH/xNH/CuPBH/AEJvh/8A8FcH/wATQB0lFc3/AMK48Ef9Cb4f/wDBXB/8TR/wrjwR/wBCb4f/APBXB/8AE0AdJRXN/wDCuPBH/Qm+H/8AwVwf/E0f8K48Ef8AQm+H/wDwVwf/ABNAB48/5F21/wCw1pX/AKcLeukrzvxp4B8H2ug20lr4T0OF21bTYy0emwqSr30CsuQvQqxBHcEjvXQf8K48Ef8AQm+H/wDwVwf/ABNAHSUVzf8AwrjwR/0Jvh//AMFcH/xNH/CuPBH/AEJvh/8A8FcH/wATQB0lFc3/AMK48Ef9Cb4f/wDBXB/8TR/wrjwR/wBCb4f/APBXB/8AE0AdJRXN/wDCuPBH/Qm+H/8AwVwf/E0f8K48Ef8AQm+H/wDwVwf/ABNAHSUVzf8AwrjwR/0Jvh//AMFcH/xNH/CuPBH/AEJvh/8A8FcH/wATQB0lFc3/AMK48Ef9Cb4f/wDBXB/8TR/wrjwR/wBCb4f/APBXB/8AE0AdJXN2P/JU9d/7Aum/+j76j/hXHgj/AKE3w/8A+CuD/wCJqj4c0XStB+JOv2uh6ZZ6bbvpOnSNFZ26wozGa9BYhQBnAAz7CgC94X/5GLxn/wBhqP8A9N9nXSVzfhf/AJGLxn/2Go//AE32dY/j+y0bT7lNfuvGd14TvxGI0mjugY5wuSFa3fKyYyeg3e9Juw0rneUV5v4N8V+Kdc07WE1tEsdOt7Vms/Ez2jWiyHH+sNvMcgKPmyflOKxP7UuP+jhdI/8AAbTf8aYlqrnsdFU9Hcvodi7aimqFrdCb6MKFuflH7wBflw3XjjnirlNqzsC1QUUUUgCiiigAooooAK5vx5/yLtr/ANhrSv8A04W9dJXN+PP+Rdtf+w1pX/pwt6ANy/vrfS9Nub++k8q2tYmmmk2ltqKCWOBkngHpVLw34m0jxdosereHbwXljIzKsojZOVOCNrAEc+oqp49/5Jx4k/7BVz/6KauA+DrJ4aSHSpCI7PVdDs9at8nADiJY7gD8RG3/AAI0R15r9Lfq/wAkypK0U13f6fqz0ceLNEbxg3hZb4HWVt/tTWojfiPOMlsbe44zn2rYrxbwbC1z8XNI8R3C4uPEGn6hfc9RD5kCwL/36VD9Sak17xpq9quo3WofEHS9A1G3kl+zeH7e3gvG2qTsWXBaQswAJ2lcZ6cVN7RTl53+TsK120v60PVr3W9P0/VNP068uPLu9Sd0tI9jHzCil2GQMDCgnkir9edweNNU1G7+G88brbQ+IYpZb6BEDK2LUyAAkEgBueCPfNV9EvfGXj3TJ/EeieJLfRrJriaPTrEWCTrKkblA0zt83zFTwhXA9auScW0+glqk+/8Awf8AI9MoryeXx34j8Qab4JfRpYdJvNYvbmyv1aJZkjaJHDlc8nDIWXkZ4ByM16Xo9pe2OlxW+qak+qXKZ33TwpEZOTjKoAowMDil3D+v6+4u0V5xp174u8d3Gq3+ieIovD+m2V9NZWcKWEdw1wYjtaSUv0BYHCrtOO9VIvH2t32k+GXkMVlfv4l/sfVUhQNHLsEgfZuBIVtqkY5HTNEdbedvxt/mgl7qb7X/AATf6M9SqlrGr2OgaPc6rq0/2eytU8yaXYzbV9cKCT+ArA1vWtQtPif4X0m3uNljf2949zFsU+YY1QockZGCT0I96l+JGr32gfDfW9V0mf7Pe2tqZIZdittbI5wwIP4ik3aPMOKvKx0yOskauhyrDIPqKWuC1XV/EGu+MofC/hzVE0dbbTo7+/1D7Ms0h3sVSNFb5RnaxJIPbFc7c+KPGejj4h2mqavBcTaFo8Vzp1xDaonzMkh8xlIPzZUAg5XK8AA4pt2V/X8P+GFHX8Pxt/mev0VxHjPxDqmk/DWw1XT7ryr2WewR5fLVsiWaNX4II5DEdOM8Yql418Q6hZeIntLvxfpvg3So7dZIrmXyJbm8kJO4KkhO1FwP4ckng05Kzt52FF8yuu1/vO21rWrDw9o1xqusT/Z7K2XdLLsZ9ozjooJPJ7CrwIZQR0PSvDdV8WXnir4C+Nhf3sWpNptwbSO/itzB9qQGNlcxn7p+bHHHGRXuEX+pT/dFFtL/ANaq4+3z/A53x5/yLtr/ANhrSv8A04W9dJXN+PP+Rdtf+w1pX/pwt62tUuLm10i7uLC3W5uooXeGFnCCRwOAWPAGe9S3ZXGld2LVFeG6l8RtT0O3s9QHxE0nWtRaeFbrQrS0ikhUO6q6rLGS67dx+ZmIJHTmvcqq2lyb62CivH/EF1b+BtTeDwd44uX1BmLL4ZnibVVY9dqon72Ef8CxW9f61rd94E0u/wBf8Q2vw21KaQ+ctybeYP1wo83gZADY6joandXHs7HoVVNU1Oz0XSbrU9Tm8izs4mmnk2ltiKMk4AJPHoK868N6hPL4jskb416ZroaTnTYoLENc8H5QYzu9+PSul+KX/JJfFP8A2Crj/wBFmiTtFyHHWVjp4J47m2jngbdFKgdGxjIIyDzUleVXV5428IeCrPxXe6zbXVpawwPeaItkqpHAdobZL98uoOcng4PAr1RHEkauvKsMg+1XJWbSIi20mxaKKKkoK5ux/wCSp67/ANgXTf8A0ffV0lc3Y/8AJU9d/wCwLpv/AKPvqADwv/yMXjP/ALDUf/pvs60ZPDmjTa+Nbm0y1l1RYxEl3JEGkRQSQFJ+71PTFZ3hf/kYvGf/AGGo/wD032ddJQAyaGO4geG4jSWKRSrxuoZWU8EEHqKx/wDhC/C3/QtaR/4ARf8AxNbdFADIIIra3jgtokhhjUIkcahVRRwAAOgp9FFABRRRQAUUUUAFFFFABXN+PP8AkXbX/sNaV/6cLeukrm/Hn/Iu2v8A2GtK/wDThb0AaHibTJta8J6vpdq0aT3tlNbxtISFDOhUEkAnGT6GuG1v4aavqHgbwtpmn6hbWeqaTarYXdwGba9u8IinVDtzk4BXIHIHSvTaKPL0/C/+bHzOy+f42/yOWn8KTf8ACfaNq9o0EWn6dpc9iYgxEgLtGV2jGMAIe/pxXLaN4D8Z6L4auvC1jf6DBp0vmqNVWCRryRXJJ3pwm/5sb9x/3TXqVFJq6s/66iWm39W0PPtK8CataRfD4XM1kW8MwyR3nlu5EmbcxAx5XnnBOcU2y8K+NfC0N1pPg++0VtHmnlmt31BJfOsfMYsyhV+WQAsSMlffNeh0VUnzO7BaJLt/X6nA2fw4l0j/AIQuDTrtJodAuZ7i7muCRJcNLG4ZgACMl3JwSMDua76iikBwEXhjxh4Yv9Tj8F3ejTaZqN1JeCLVBKHs5ZOX2lMh1LZbadvXrUM3wyu7bwXp9lperRvrlhqn9sfbbqE+Xc3JZi+9VOQp3EcHIAFei0ULRadLfhsD13/q+/5nA2vhfxZf+P8AQ/EviO70pV06C5hazsTIVTzFUBgzDLkkc5C4AGM81vePNAuvFHgPV9E0+SGO5vbcxRvOxCA5HUgE4/A10FFD1Vgjo7nmviVW0b4gWV9oGt6TZ69LpgguLDVy8UF5Ar5VklA4dW3cAHg8gdaxvCmj3PjPX/iIuqarbX0GqWdvp7XmnqfIjfy3DJGSTu2b1yc8knp0Hq2qaLpWuW4t9a0yz1GFTuEd3brKoPrhgRU9pZ22n2qWthbQ21vGMJFDGERR6ADgUbpp+f4/1/WwbbeX4f8ADf1ueaal4L8e674Ys9D1XUdCS3sJ7Z0ktllD3YhkU/PkYj4XOF3ZYDkCtK78J+JtN+IGp+IfDT6JdJq0cSyf2qsgltTGu392UB3KepU7ee9d/RRdt3FZJWPLH+GniKXwP400a71SwvL3xBdi6huiGiXJWPcGUBtoBQgAFuMZOa9SQbY1B6gYpaKfS39aaD/4P4nN+PP+Rdtf+w1pX/pwt6ueLtBPijwfqmiLdNaNf2zwidRnYSOuO49R6VT8ef8AIu2v/Ya0r/04W9dJUtKSsxptO6PKdX8D+O9e8FJ4fnuPDWmQ2zQtHHYRy7bkxurKGJA8pflyQoY5xzjNeqjO0buuOcUtFU23uSklsZujeHdH8PQvFommWtisjbpDDGFaQ+rN1Y+5zU+oaTp2rRJHqtha30aNuVLmFZAp9QGBwat0UhmVbeFfD1lcpcWeg6ZbzxnKSxWcasp9QQMiofGejXHiLwPrWjWTxR3F/ZS28TTEhAzKQCSATjnsDW3RSaurMa0dzzabwX4y1nQrTwt4i1TSX0KJYVurm2jkF1dpGVPllT8qZ2gFgTkdhnFekgBVAHAHAooqm2yUrBRRRSGFc3Y/8lT13/sC6b/6Pvq6Subsf+Sp67/2BdN/9H31AGRplt4jm8W+MG0PVdLs7f8AtaINHeaZJcOW+wWmSGWeMAYxxg9Dzzga/wBh8b/9DD4f/wDBDP8A/JlHhf8A5GLxn/2Go/8A032ddJQBzf2Hxv8A9DD4f/8ABDP/APJlH2Hxv/0MPh//AMEM/wD8mV0lFAHN/YfG/wD0MPh//wAEM/8A8mUfYfG//Qw+H/8AwQz/APyZXSUUAc39h8b/APQw+H//AAQz/wDyZR9h8b/9DD4f/wDBDP8A/JldJRQBzf2Hxv8A9DD4f/8ABDP/APJlH2Hxv/0MPh//AMEM/wD8mV0lFAHN/YfG/wD0MPh//wAEM/8A8mUfYfG//Qw+H/8AwQz/APyZXSUUAc39h8b/APQw+H//AAQz/wDyZXP+NLPxiug2xutd0ORP7W00BY9FmQhvt0G05N0eA2CRjkAjIzkeiVzfjz/kXbX/ALDWlf8Apwt6AD7D43/6GHw//wCCGf8A+TKPsPjf/oYfD/8A4IZ//kyukooA5v7D43/6GHw//wCCGf8A+TKPsPjf/oYfD/8A4IZ//kyukooA5v7D43/6GHw//wCCGf8A+TKPsPjf/oYfD/8A4IZ//kyukooA5v7D43/6GHw//wCCGf8A+TKPsPjf/oYfD/8A4IZ//kyukooA5v7D43/6GHw//wCCGf8A+TKPsPjf/oYfD/8A4IZ//kyukooA5v7D43/6GHw//wCCGf8A+TKPsPjf/oYfD/8A4IZ//kyukooA5v7D43/6GHw//wCCGf8A+TKPsPjf/oYfD/8A4IZ//kyukooA5v7D43/6GHw//wCCGf8A+TKPsPjf/oYfD/8A4IZ//kyukooA5v7D43/6GHw//wCCGf8A+TKPsPjf/oYfD/8A4IZ//kyukooA878aWfjFdBtjda7ocif2tpoCx6LMhDfboNpybo8BsEjHIBGRnI6D7D43/wChh8P/APghn/8Akyjx5/yLtr/2GtK/9OFvXSUAc39h8b/9DD4f/wDBDP8A/JlH2Hxv/wBDD4f/APBDP/8AJldJRQBzf2Hxv/0MPh//AMEM/wD8mUfYfG//AEMPh/8A8EM//wAmV0lFAHN/YfG//Qw+H/8AwQz/APyZR9h8b/8AQw+H/wDwQz//ACZXSUUAc39h8b/9DD4f/wDBDP8A/JlH2Hxv/wBDD4f/APBDP/8AJldJRQBzf2Hxv/0MPh//AMEM/wD8mUfYfG//AEMPh/8A8EM//wAmV0lFAHN/YfG//Qw+H/8AwQz/APyZVHw5FqsPxJ19dcvLO8uP7J04rJZ2jW6BfOvcAq0khJznnI6jjjJ7Kubsf+Sp67/2BdN/9H31AB4X/wCRi8Z/9hqP/wBN9nR4j8eaJ4ZvEsLp7i81SWPzIdN0+3a4uJF9QijgcHlsDjrR4X/5GLxn/wBhqP8A9N9nR4j8B6J4lvY9QukuLPVIU8uHUrC4a3uI164DqeRyeGBHPSkxog0fxD4mvEvtR1fws+mabBbtJbWvnrNfXDDnGxflXIyAu4nJHSsv/hak3/RPPG//AILI/wD47Wpo+heLdOS+srzxWuo2kluy2V3NZILq2k6KWx8koHXlQSRzWX/whvxA/wCip3H/AIIrT/CmLodvYXZv9Ntrs289qZ4lkMFym2SLIztYAnDDoRk81YqvYQ3FtpttBe3RvLmOJUluTGEMzAYL7RwMnnA4FWKbtfQS2CiiikMKKKKACiiigArm/Hn/ACLtr/2GtK/9OFvXSVzfjz/kXbX/ALDWlf8Apwt6ALHja4mtPAPiC4tZZIZ4dNuHjljYqyMImIII5BB71xnwO1nVLrwxJpXiG+uL+/t4re9juLmUySSwXEQkUlmJJw29f+A11/j3/knHiT/sFXP/AKKavLZr+68HeD/BHinTLd55L7w/Fo7xoM7pnhV7Yn2EgK5/26cdOZ+i/wDSvzaS+ZcleEfV/wDtv6Ns1tB13VtW+Prz/wBo3P8AYc9reW9pZCVvJb7O8UbS7M4LGRpBnHQCunuvijpUN1dCz0rWtSsbKRo7vUrGxMltAy/eG7IZ9vfYrYrEsdETw/8AEvwfo8T5+y+HLyJpO7vvh3OfcsSfxrh9B+xeFfDL6H4l8Y+LNH1mzeaMaPaBCLol2Km3zAxcPkHOTgk5xUbJJdL/AD1ZO7b818tD2HWPiBoejR6PLK811DrSsbKSzj80S4QMAADklsgAAHk9qXw/470/XtWutKlsdR0jUrWITvaanAInaInHmKQxUrnjg8d64Sx0f+x7/wCEmnS2tzamFrs/Z7yZZZYSbZ2CsyqoJGccKMYxWt4lsptS+ME1jav5c114Pu4Y3z91mmQA/maqV4yaWvxfgm/0FFXSb8vxdjQb4t6IEa8XTdak0RHKtraWJNmMHBbdneVz/GF2+9aOu/EHTND1iz0sWeoaleX1o13aR6fCsvnqGAwp3DnDbsnC4B56Z4fTvHWjad8JovCd1bXJ8SW+l/2c2hfZHM8kwj2cLtwUJ53/AHcHrVzw1pVxo3xE8GaZqGGurLwhJDIc5w6vCDg/mKbXv8qenfvpJ/ovvF0v17dtUv1f3Hp9lc/bLCC5ME1t50YfyZ12yR5GcMMnBHcVx1x8V9Gia4mttM1u+0u0do7jVrSxMlrEVOGO7O5gpByVVgMda7O5jaa0miRtjOjKG9CR1ryXwj430bwb8Obfwtr8VxBr+nQPatpQtZHlu3yQDEAuHD5B3Djnmpb3t93f+v1KS2ueht4u0z+2tF02BpLk63BLcWlxDtaIpGqsSTnPIYYwD+FTJ4jtH8Yy+GxHN9sisVvmkKjyyjOUAznO7I9MY715VZ2s/gC1+GuoeKI5Laz02yure+nCM62byqpQPgHA4256Ait7w3rlr4h+OmoX2miVrI+HolhuHjZFnAuGyyBgCVycZ6HBxV2XPZef4Xt+hnd8nM/L8Wk/1Op8b31pYaXp8l9danbJJqlrEjabIEdnaQBVcnrGTww6kVHrnj2x0fXP7HttN1XWdQSMTTwaXbeabeM9GckgDODgZJOOBWb8WP8AkAaL/wBjBp//AKPWsu117T/APxG8U/8ACWSPZQa1PDd2F68TtHMFiCGLcAfmUr93qd3FRHVP1f5R/wA/wNH+i/Nmva/Ffw/e+H77WbWG/e0sdRi02TMARzK7IoIVmBABkAO7BGDxXQ6z4itNDvdItbuOZ31a8FnAYlBCvsZ8tkjAwh6Z7cV4wsk2ueA/Hmoabpt1hfFcV59m8kiYxxtbux2Yzu2qWx1rpPEXjPRvFvirwMPDk8l9BDrYea5SF1jjPkSgIWYD5zk/KORtOccVS1Ue75fxUf8ANkyuua3S/wCF/wDgHWar8Q7Kw1a607TtH1rXLixIF5/ZVoJFtyRkKzMygtgg7VyeelY3ivxbHrHhXwtrHhq/uI7a+8QWULNGzRMymXa8bjg9QQVPpXNt4iifxP4hsde8Sal4YuF1Bxb6Nounos16gACzB/Kd5WcDqpGMDp1rL0UkfCDwlG6zJJF40jSSO4OZEb7a/wArn+9zzSp6uD84/mv8/wDMqWl/mvwf+R6148/5F21/7DWlf+nC3rfurqCxs5rq7lWGCBGklkc4CKBkk/QVgePP+Rdtf+w1pX/pwt6n8cXN3aeBNZuNN06PU7qO0kMdnJF5izHHQp/EPbv0qZPli2OKvJIwk+LGk5tZ7nR9etNKu5Ejg1a4sNts5cgISd29VYkYLKByK7qvnHxZrNhq3gGKS18Z634guIZLZ7i0gtFt7SzVZULGVEiXYF6BWYnOODjI+jgQygjkHpWjVl8/8jNNt/I4i8+J1ncXUtj4N0q/8U3sbmN/sKbLaJx2e4fCD8Cx9quXPijWtC8N2l5r/hm9vtQuJWV7PQE+1eQvJXcWKZ4wCR36cVTu/hlZ291LfeDdVv8AwteyOZH+wvvtpXPd7d8ofwCn3q5c6L4yv/DdpbHxZDpeqwysZ72y05JFuE5Cjy5chTjBOD16cVC+Hz/rb+rlvfyK+kfESXVdWt7FvBPiywE77ftN7YIkMfuzCQkD8Ku/Ei7uLH4Y+JLqynltriHTZ3imhco8bBCQQw5BHqKpaR4W8Z2WrW9xqfxDn1K0jfMto2j20QlHpvUZH1FWPil/ySXxT/2Crj/0WaVT4GEPjRmaP8UNL+x6Ut9aavDZ3SxQR6zcWpFrNKwAA8wndy3AYgKexNd9XjfiHxZpvi74Yw+D9DguG8QX9vb240020ivZ8pmR+MKigbg2cHAxmvYo1KRKpO4qoBJ71rPd+pnD4V6DqKKKgsK5ux/5Knrv/YF03/0ffV0lc3Y/8lT13/sC6b/6PvqADwv/AMjF4z/7DUf/AKb7OukribHXYPD/AIo8VR6lY6x/pWpxzwSW2jXdzHIn2K2TIeKNl+8jDGc5FaX/AAnmkf8APn4g/wDCc1D/AOMUAdJRXN/8J5pH/Pn4g/8ACc1D/wCMUf8ACeaR/wA+fiD/AMJzUP8A4xQB0lFc3/wnmkf8+fiD/wAJzUP/AIxR/wAJ5pH/AD5+IP8AwnNQ/wDjFAHSUVzf/CeaR/z5+IP/AAnNQ/8AjFH/AAnmkf8APn4g/wDCc1D/AOMUAdJRXN/8J5pH/Pn4g/8ACc1D/wCMUf8ACeaR/wA+fiD/AMJzUP8A4xQB0lFc3/wnmkf8+fiD/wAJzUP/AIxR/wAJ5pH/AD5+IP8AwnNQ/wDjFAHSVzfjz/kXbX/sNaV/6cLej/hPNI/58/EH/hOah/8AGKw/Fviyy1PRbeCx0/xBLKmp6fOy/wDCO364SK8hkc8w9kRjjqcYGTQB6BRXN/8ACeaR/wA+fiD/AMJzUP8A4xR/wnmkf8+fiD/wnNQ/+MUAdJRXN/8ACeaR/wA+fiD/AMJzUP8A4xR/wnmkf8+fiD/wnNQ/+MUAdJRXN/8ACeaR/wA+fiD/AMJzUP8A4xR/wnmkf8+fiD/wnNQ/+MUAdJRXN/8ACeaR/wA+fiD/AMJzUP8A4xR/wnmkf8+fiD/wnNQ/+MUAdJRXN/8ACeaR/wA+fiD/AMJzUP8A4xR/wnmkf8+fiD/wnNQ/+MUAdJRXN/8ACeaR/wA+fiD/AMJzUP8A4xR/wnmkf8+fiD/wnNQ/+MUAdJXK6x4a8QzazNf+HfF82mJcqoltbq0W7iUqMbowWUxkjryQTzipv+E80j/nz8Qf+E5qH/xij/hPNI/58/EH/hOah/8AGKALXhbwzB4X0uW2juZr24ubh7q7u7jG+4mf7zEAADoAAOAABW1XN/8ACeaR/wA+fiD/AMJzUP8A4xR/wnmkf8+fiD/wnNQ/+MUAdJRXN/8ACeaR/wA+fiD/AMJzUP8A4xR/wnmkf8+fiD/wnNQ/+MUAHjz/AJF21/7DWlf+nC3rpK8/8W+LLLU9Ft4LHT/EEsqanp87L/wjt+uEivIZHPMPZEY46nGBk1uf8J5pH/Pn4g/8JzUP/jFAHSUVzf8Awnmkf8+fiD/wnNQ/+MUf8J5pH/Pn4g/8JzUP/jFAHSUVzf8Awnmkf8+fiD/wnNQ/+MUf8J5pH/Pn4g/8JzUP/jFAHSUVzf8Awnmkf8+fiD/wnNQ/+MUf8J5pH/Pn4g/8JzUP/jFAHSUVzf8Awnmkf8+fiD/wnNQ/+MUf8J5pH/Pn4g/8JzUP/jFAHSUVzf8Awnmkf8+fiD/wnNQ/+MUf8J5pH/Pn4g/8JzUP/jFAHSVzdj/yVPXf+wLpv/o++o/4TzSP+fPxB/4Tmof/ABiq3h2+XV/H2t6lbWmoQ2jaZYQLJe6fPa73SW7ZgolRS2BImSBj5hQB1tFFFABRRRQAUUUUAFFFFABRRRQAUUUUAFFFFABRRRQAUUUUAFFFFABRRRQAUUUUAFFFFABRRRQAUUUUAFFFFABRRRQAUUUUAFFFFABRRRQAUUUUAFFFFABRRRQB/9k=)"
      ]
    },
    {
      "cell_type": "code",
      "metadata": {
        "id": "QjFTWRmN_eBC"
      },
      "source": [
        "\n",
        "a = 5\n",
        "b = 3\n",
        "a == b"
      ],
      "execution_count": null,
      "outputs": []
    },
    {
      "cell_type": "code",
      "metadata": {
        "colab": {
          "base_uri": "https://localhost:8080/"
        },
        "id": "v5C2isQ2Gd6T",
        "outputId": "079f09c6-9bc7-4233-9db8-53b664102693"
      },
      "source": [
        "a > b"
      ],
      "execution_count": 102,
      "outputs": [
        {
          "output_type": "execute_result",
          "data": {
            "text/plain": [
              "True"
            ]
          },
          "metadata": {
            "tags": []
          },
          "execution_count": 102
        }
      ]
    },
    {
      "cell_type": "code",
      "metadata": {
        "colab": {
          "base_uri": "https://localhost:8080/"
        },
        "id": "5UjRY1OdGd2G",
        "outputId": "358aa406-baf4-47de-ec25-89e6bea008e3"
      },
      "source": [
        "a != b"
      ],
      "execution_count": 103,
      "outputs": [
        {
          "output_type": "execute_result",
          "data": {
            "text/plain": [
              "True"
            ]
          },
          "metadata": {
            "tags": []
          },
          "execution_count": 103
        }
      ]
    },
    {
      "cell_type": "code",
      "metadata": {
        "colab": {
          "base_uri": "https://localhost:8080/"
        },
        "id": "W1iudV7gGd0d",
        "outputId": "6e1e838f-af96-400a-ee7e-9fecf57b8a14"
      },
      "source": [
        "\n",
        "a = int(input('Valor de a: '))\n",
        "b = int(input('Valor de b: '))\n",
        "a == b"
      ],
      "execution_count": 104,
      "outputs": [
        {
          "output_type": "stream",
          "text": [
            "Valor de a: 5\n",
            "Valor de b: 6\n"
          ],
          "name": "stdout"
        },
        {
          "output_type": "execute_result",
          "data": {
            "text/plain": [
              "False"
            ]
          },
          "metadata": {
            "tags": []
          },
          "execution_count": 104
        }
      ]
    },
    {
      "cell_type": "markdown",
      "metadata": {
        "id": "KkoEkcClG4rt"
      },
      "source": [
        "# **Exercícios práticos**\n",
        "## **Exercício 1:**\n",
        "Faça um programa que pergunte seu nome e armazene essa entrada/input na variável nome. Após, utilizando a variável criada, retorne uma mensagem em tela seguindo esse formato:\n",
        "\n",
        "- **Olá**, seu nome!\n",
        "- Exemplo Olá Maria \n",
        "\n"
      ]
    },
    {
      "cell_type": "code",
      "metadata": {
        "colab": {
          "base_uri": "https://localhost:8080/"
        },
        "id": "e1jeJZ_QuNXM",
        "outputId": "fe8b5b95-89b1-4867-c343-8574f8ad26ee"
      },
      "source": [
        "nome = str('Cristiane Rodrigues')\n",
        "\n",
        "\n",
        "mensagem = str('Olá {}, tudo bem?' .format(nome))\n",
        "print(mensagem)\n",
        "\n"
      ],
      "execution_count": 106,
      "outputs": [
        {
          "output_type": "stream",
          "text": [
            "Olá Cristiane Rodrigues, tudo bem?\n"
          ],
          "name": "stdout"
        }
      ]
    },
    {
      "cell_type": "markdown",
      "metadata": {
        "id": "NizC33HsufMb"
      },
      "source": [
        "# **Exercício 2:**\n",
        "\n",
        "\n",
        "Repita o exercício 1, porém agora utilizando a saída formatada.\n"
      ]
    },
    {
      "cell_type": "code",
      "metadata": {
        "colab": {
          "base_uri": "https://localhost:8080/"
        },
        "id": "G7yOMLeNxzb9",
        "outputId": "393b2628-d7bb-43f4-f526-4021c20b0a8c"
      },
      "source": [
        "# Exemplo 1\n",
        "nome= input('Qual seu nome?')\n",
        "print('Ola', nome, 'seja bem vindo', 'sua idade é:', idade)\n",
        "#print(f'Ola, {nome}, seja bem vindo. sua idade é {idade}')\n"
      ],
      "execution_count": 107,
      "outputs": [
        {
          "output_type": "stream",
          "text": [
            "Qual seu nome?Cristiane\n",
            "Ola Cristiane seja bem vindo sua idade é: 24\n"
          ],
          "name": "stdout"
        }
      ]
    },
    {
      "cell_type": "code",
      "metadata": {
        "colab": {
          "base_uri": "https://localhost:8080/"
        },
        "id": "6YG7ybna6tsA",
        "outputId": "f8254e2e-054b-4358-cc23-65afc707d483"
      },
      "source": [
        "# Exemplo 2\n",
        "nome = str(input('Qual seu nome? '))\n",
        "print('Olá, {}!'.format(nome))"
      ],
      "execution_count": 108,
      "outputs": [
        {
          "output_type": "stream",
          "text": [
            "Qual seu nome? Cristiane\n",
            "Olá, Cristiane!\n"
          ],
          "name": "stdout"
        }
      ]
    },
    {
      "cell_type": "markdown",
      "metadata": {
        "id": "UfB1n8YA6zxl"
      },
      "source": [
        ""
      ]
    },
    {
      "cell_type": "code",
      "metadata": {
        "id": "A-WTXPnqu354"
      },
      "source": [
        ""
      ],
      "execution_count": null,
      "outputs": []
    },
    {
      "cell_type": "markdown",
      "metadata": {
        "id": "SefIWWmRufEr"
      },
      "source": [
        "\n",
        "## **Exercício 3:**\n",
        "\n",
        "Crie um programa que peça para você digitar dois números (tipo float) e mostre a soma entre eles utilizando a mensagem:\n",
        "\n",
        "A soma entre número 1 e número 2 é: soma\n",
        "\n",
        "Exemplo: A soma entre 2.0 e 4.5 é: 6.5\n",
        "\n",
        "Dica: você pode armazenar os números nas variáveis n1 e n2, e a soma na variável soma. Utilize a saída formatada.\n",
        "\n"
      ]
    },
    {
      "cell_type": "code",
      "metadata": {
        "colab": {
          "base_uri": "https://localhost:8080/"
        },
        "id": "CnXp0Uriu45R",
        "outputId": "d6a15543-8f0a-46a7-8c8f-b57de914cf26"
      },
      "source": [
        "# Exemplo 1\n",
        "\n",
        "n1 = float(input('Digite um numero '))\n",
        "n2 = float(input('Digite o segundo numero '))\n",
        "\n",
        "soma = n1 + n2\n",
        "soma"
      ],
      "execution_count": 110,
      "outputs": [
        {
          "output_type": "stream",
          "text": [
            "Digite um numero 5\n",
            "Digite o segundo numero 7\n"
          ],
          "name": "stdout"
        },
        {
          "output_type": "execute_result",
          "data": {
            "text/plain": [
              "12.0"
            ]
          },
          "metadata": {
            "tags": []
          },
          "execution_count": 110
        }
      ]
    },
    {
      "cell_type": "code",
      "metadata": {
        "colab": {
          "base_uri": "https://localhost:8080/"
        },
        "id": "0tM01kvpu4xQ",
        "outputId": "ab59b170-d33f-4804-b1da-7dccf27f97fd"
      },
      "source": [
        "# Exemplo 2\n",
        "n1 = float(input('Digite o primeiro número: '))\n",
        "n2 = float(input('Digite o segundo número: '))\n",
        "soma = n1 + n2\n",
        "print('A soma entre {} e {} é: {}'.format(n1, n2, soma))"
      ],
      "execution_count": 111,
      "outputs": [
        {
          "output_type": "stream",
          "text": [
            "Digite o primeiro número: 2\n",
            "Digite o segundo número: 4.5\n",
            "A soma entre 2.0 e 4.5 é: 6.5\n"
          ],
          "name": "stdout"
        }
      ]
    },
    {
      "cell_type": "markdown",
      "metadata": {
        "id": "cwqf2LmBuhhC"
      },
      "source": [
        "## **Exercício 4:**\n",
        "\n",
        "Faça um programa que leia/receba a entrada de um número inteiro e mostre na tela o seu sucessor e seu antecessor.\n",
        "\n",
        "Exemplo de mensagem de retorno: O antecessor do número 5 é 4 e o sucessor é 6."
      ]
    },
    {
      "cell_type": "code",
      "metadata": {
        "colab": {
          "base_uri": "https://localhost:8080/"
        },
        "id": "tzRNp9rdu-Ba",
        "outputId": "38718598-0e5a-4007-8c66-2cab78e1006d"
      },
      "source": [
        "# Exemplo 1\n",
        "n = int(input('n1: '))\n",
        "print(f'O numero é {n}, seu antecessor é {n-1} e seu sucessor é {n+1}')\n"
      ],
      "execution_count": null,
      "outputs": [
        {
          "output_type": "stream",
          "text": [
            "n1: 10\n",
            "O numero é 10, seu antecessor é 9 e seu sucessor é 11\n"
          ],
          "name": "stdout"
        }
      ]
    },
    {
      "cell_type": "code",
      "metadata": {
        "id": "XpydC4oLu97K",
        "colab": {
          "base_uri": "https://localhost:8080/"
        },
        "outputId": "d84e08f9-595c-4892-992f-c5ee8f0efed3"
      },
      "source": [
        "# Exemplo 2\n",
        "num = int(input('Digite um número: '))\n",
        "antecessor = num - 1\n",
        "sucessor = num + 1\n",
        "\n",
        "print('O antecessor do número {} é {} e o sucessor é {}'.format(num, antecessor, sucessor))"
      ],
      "execution_count": 112,
      "outputs": [
        {
          "output_type": "stream",
          "text": [
            "Digite um número: 5\n",
            "O antecessor do número 5 é 4 e o sucessor é 6\n"
          ],
          "name": "stdout"
        }
      ]
    },
    {
      "cell_type": "markdown",
      "metadata": {
        "id": "O0hsb0Pzue22"
      },
      "source": [
        "## **Exercício 5:**\n",
        "Utilizando as operações matemáticas vistas em aula, calcule o perímetro e a área de um círculo.\n",
        "\n",
        "Armazene o raio na variável radius e os valores calculados, nas variáveis circle_perimeter e circle_area.\n",
        "\n",
        "Obs: Para pi utilize o valor de 3.14. O valor do raio pode ser 5, ou qualquer valor a sua escolha.\n",
        "\n",
        "\n"
      ]
    },
    {
      "cell_type": "code",
      "metadata": {
        "id": "z9B0iAtTJt2X"
      },
      "source": [
        "# Exemplo 1\n",
        "pi = 3.14\n",
        "radius = 5"
      ],
      "execution_count": 118,
      "outputs": []
    },
    {
      "cell_type": "code",
      "metadata": {
        "colab": {
          "base_uri": "https://localhost:8080/"
        },
        "id": "Cf1XXaO1Jtpn",
        "outputId": "8417a6d6-c350-46e4-8d44-f66b71f54969"
      },
      "source": [
        "# Exemplo 1\n",
        "Circle_perimeter = 2 * pi * radius \n",
        "Circle_perimeter"
      ],
      "execution_count": 119,
      "outputs": [
        {
          "output_type": "execute_result",
          "data": {
            "text/plain": [
              "31.400000000000002"
            ]
          },
          "metadata": {
            "tags": []
          },
          "execution_count": 119
        }
      ]
    },
    {
      "cell_type": "code",
      "metadata": {
        "colab": {
          "base_uri": "https://localhost:8080/"
        },
        "id": "esLaeNQLJ-fJ",
        "outputId": "0f98d169-c8cc-4361-e0b3-43ab29d2fcdf"
      },
      "source": [
        "# Exemplo 1\n",
        "Circle_area = pi * (radius ** 2)\n",
        "Circle_area"
      ],
      "execution_count": 120,
      "outputs": [
        {
          "output_type": "execute_result",
          "data": {
            "text/plain": [
              "78.5"
            ]
          },
          "metadata": {
            "tags": []
          },
          "execution_count": 120
        }
      ]
    },
    {
      "cell_type": "code",
      "metadata": {
        "colab": {
          "base_uri": "https://localhost:8080/"
        },
        "id": "r2EQko1tu_Cq",
        "outputId": "69b12ba5-3f32-4418-d2c1-6c28382132ce"
      },
      "source": [
        "# Exemplo 2\n",
        "\n",
        "radius = float(0.75)\n",
        "\n",
        "circle_area = float(f'{radius**2 * 3.14 }')\n",
        "circle_area\n",
        "\n",
        "circle_perimeter = float(f'{radius* 2 * 3.14 }')\n",
        "circle_perimeter\n",
        "\n",
        "\n",
        "\n",
        "#resultado = (f'O circulo em questão tem um raio de: {radius}m, logo: sua área é {circle_area}m² e o perimetro {circle_perimeter}m')\n",
        "#resultado\n",
        "\n",
        "\n",
        "#resultado = str(f'A área do circulo é: {circle_area}, e o perimetro do circulo é: {circle_perimeter}') *Apenas exemplo que não precisa utilizar str\n",
        "\n",
        "print(f'A área do circulo é: {circle_area}, e o perimetro do circulo é: {round(circle_perimeter,2)}') #** Não entendi o pq deu erro quando tentei printar direto e não precisar \n",
        "\n"
      ],
      "execution_count": null,
      "outputs": [
        {
          "output_type": "stream",
          "text": [
            "A área do circulo é: 1.76625, e o perimetro do circulo é: 4.71\n"
          ],
          "name": "stdout"
        }
      ]
    },
    {
      "cell_type": "code",
      "metadata": {
        "colab": {
          "base_uri": "https://localhost:8080/"
        },
        "id": "guo5omm8u-8Y",
        "outputId": "ccfb1ad7-305e-433c-e5d9-a4a112d45cf8"
      },
      "source": [
        "# Exemplo 3 \n",
        "raio_circulo = float(input('Qual é o raio do circulo? '))\n",
        "raio_circulo\n",
        "\n",
        "#print((raio_circulo**2) *3.14)\n",
        "\n",
        "#resultados = f'A área do circulo é: {raio_circulo**2 * 3.14} e o perimetro é: {round(raio_circulo * 2 * 3.14, 2)}'\n",
        "#resultados\n",
        "\n",
        "print(f'A área do circulo é: {raio_circulo**2 * 3.14} e o perimetro é: {round(raio_circulo * 2 * 3.14, 2)}')\n"
      ],
      "execution_count": null,
      "outputs": [
        {
          "output_type": "stream",
          "text": [
            "Qual é o raio do circulo? 10\n",
            "A área do circulo é: 314.0 e o perimetro é: 62.8\n"
          ],
          "name": "stdout"
        }
      ]
    },
    {
      "cell_type": "markdown",
      "metadata": {
        "id": "h0IA3ZydN58X"
      },
      "source": [
        "\n",
        "##**Exercício 7:**\n",
        "Faça um programa que leia a largura e a altura de uma parede retangular em metros, calcule a sua área e a quantidade de tinta necessária para pintá-la, sabendo que cada litro de tinta pinta uma área de 2 metros quadrados."
      ]
    },
    {
      "cell_type": "code",
      "metadata": {
        "colab": {
          "base_uri": "https://localhost:8080/"
        },
        "id": "0HPMgdVJOdd2",
        "outputId": "2f8499c4-7863-4dc6-8ecb-4829243bae0f"
      },
      "source": [
        "altura = float(input('Qual a altura da parede? '))\n",
        "altura\n",
        "\n",
        "largura = float(input('Qual a altura da parede? '))\n",
        "largura\n",
        "\n",
        "area = altura * largura\n",
        "area \n",
        "\n",
        "quantidade_de_tinta = area / 2\n",
        "quantidade_de_tinta\n",
        "\n",
        "print('A area a ser pintada é de {} m² e você vai precisar de {} litros de tinta' .format(area, quantidade_de_tinta))\n"
      ],
      "execution_count": 139,
      "outputs": [
        {
          "output_type": "stream",
          "text": [
            "Qual a altura da parede? 5\n",
            "Qual a altura da parede? 9\n",
            "A area a ser pintada é de 45.0 m² e você vai precisar de 22.5 litros de tinta\n"
          ],
          "name": "stdout"
        }
      ]
    },
    {
      "cell_type": "markdown",
      "metadata": {
        "id": "uUEY_RAPN-zb"
      },
      "source": [
        "\n",
        "##**Exercício 8:**\n",
        "Converta a equação abaixo para um código em Python e obtenha o resultado.\n",
        "\n",
        "Dica: Não esqueça das precedências dos operadores.\n",
        "\n"
      ]
    },
    {
      "cell_type": "markdown",
      "metadata": {
        "id": "fQoiVlpzOKKZ"
      },
      "source": [
        "![image.png](data:image/png;base64,iVBORw0KGgoAAAANSUhEUgAAADsAAAAlCAYAAAD8+ZFYAAACtklEQVRoBeWYzXEUMRCF39FHQiAE3+AGCbjKEWAygAwgA/vsix0CJ644A8gAjr5BBlBfWe16VknaWa00zEJXqaTRT3e//lFrV+qjE0n3kj4fWetCeyrpY9fJIzz0XtLrI9S7S+VPXaeO9NB/A3br+fpM0qWkL5I+HBpMW8/Xt5KeSwL0N0nnhwDeeggDMoiKgXO6qQUWi65NLc/dJg936dTKV4Q6WKxK3pA/bu0uwekQMuB5YzzhXfIepfGg8ljLVwT6IyP2AZ5I8LVesK78VcaTPMURQYzD492GroUwwtyKLpj5u9BiUI8xAwwsMSoGgJAdNzG3ccnraWu7q4GtzcMNQ9BGEbwA4ykD7zAo60RSNHfCYh2wWC0cQ1DOLA/vfP1M0ptCe5FvTN/wQ3kuHgA71XTwPYvHkYelAzVBnGnlDGAvCq0G1mX/8o90N2RT/Z+tUC2tOVBCLg+7fk0eDIh3nUo6+Ppe4xYz8sRzg2+8HS1XbC/BaTM8f6QLh7FHjF9QPbyfnGnlKxsRHLfhk4MrfQB+r8hpbW7la+BBoJecmJ/dY2j0W0xsbnmmFcIupGUw3zdy7PV2J18U5NdB7UaFwYic26nIGhuonYTg74owjFGrrxx5aQU8CvnWekrcI5FrgPUbNRYxRGk+1kkBzm65XYey0VOkSx78Z0I4gNKTs6WL6G+BnXrZ4dWfjj7VrpK3s23DP0mNqXLJS/LOa+WufB2OMsmfDhbFAQvAoLVDmAdCGHiqZwFIvXWAPg4DzOzD0ETZdLC8or4mNLvq62jQvITeSXqVev5n8pQaLe/xceHhNFxIhWF4E48SUVSH8HTlyGHTeJO8xcprh7BrHsB9bsqY34xh3SkCFjDF6ACeTjwsvq9xQUxHskBAvHVXsewCfaZuiR8FU4VsiXnpjbwl/bp0+QOK6Mou2n1z3gAAAABJRU5ErkJggg==)"
      ]
    },
    {
      "cell_type": "code",
      "metadata": {
        "colab": {
          "base_uri": "https://localhost:8080/"
        },
        "id": "9dwQvEu-SMda",
        "outputId": "89fdd4a1-02c2-4637-e3d8-06d07cffa138"
      },
      "source": [
        "raiz = ((2-3)**2/4) ** (1/2)\n",
        "raiz"
      ],
      "execution_count": 154,
      "outputs": [
        {
          "output_type": "execute_result",
          "data": {
            "text/plain": [
              "0.5"
            ]
          },
          "metadata": {
            "tags": []
          },
          "execution_count": 154
        }
      ]
    },
    {
      "cell_type": "markdown",
      "metadata": {
        "id": "VlbPec2COQBI"
      },
      "source": [
        "\n",
        "##**Exercício 9:**\n",
        "Escreva um programa que pergunte a quantidade de Km percorridos por um carro alugado e a quantidade de dias pelos quais ele foi alugado.\n",
        "\n",
        "Calcule o preço a pagar, sabendo que o carro custa 80 reais por dia e 0.20 reais (20 centavos) por Km rodado."
      ]
    },
    {
      "cell_type": "code",
      "metadata": {
        "colab": {
          "base_uri": "https://localhost:8080/"
        },
        "id": "rnhsxwfoONGN",
        "outputId": "533fd167-cafa-4bba-ded9-c0d58e849110"
      },
      "source": [
        "# Exemplo 1\n",
        "km = float(input('Quantos KM serão percorridos? '))\n",
        "\n",
        "dias = float(input('Por quantos dias o carro será locado? '))\n",
        "\n",
        "valorkm = km * 0.20\n",
        "\n",
        "valordias = dias * 80\n",
        "\n",
        "custototal = (valorkm + valordias)\n",
        "\n",
        "print('O valor total para locação é de: R${}' .format(custototal))\n"
      ],
      "execution_count": 160,
      "outputs": [
        {
          "output_type": "stream",
          "text": [
            "Quantos KM serão percorridos? 200\n",
            "Por quantos dias o carro será locado? 10\n",
            "O valor total para locação é de: R$840.0\n"
          ],
          "name": "stdout"
        }
      ]
    },
    {
      "cell_type": "code",
      "metadata": {
        "id": "TwJRO0VOu3IJ",
        "colab": {
          "base_uri": "https://localhost:8080/"
        },
        "outputId": "326a601d-4617-4c6a-bf3d-72aa807d4556"
      },
      "source": [
        "# Exemplo 2\n",
        "\n",
        "km = float(input('Quantos km foram percorridos? '))\n",
        "days = int(input('Por quantos dias o carro foi alugado? '))\n",
        "\n",
        "price = (days * 80) + (km * 0.20)\n",
        "print('O preço a pagar é de {} reais'.format(price))"
      ],
      "execution_count": 161,
      "outputs": [
        {
          "output_type": "stream",
          "text": [
            "Quantos km foram percorridos? 10\n",
            "Por quantos dias o carro foi alugado? 200\n",
            "O preço a pagar é de 16002.0 reais\n"
          ],
          "name": "stdout"
        }
      ]
    }
  ]
}