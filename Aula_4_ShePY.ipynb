{
  "nbformat": 4,
  "nbformat_minor": 0,
  "metadata": {
    "colab": {
      "name": "Aula 4 - ShePY.ipynb",
      "provenance": [],
      "authorship_tag": "ABX9TyNAYMq/E+z13ZPKkpodzFvB",
      "include_colab_link": true
    },
    "kernelspec": {
      "name": "python3",
      "display_name": "Python 3"
    },
    "language_info": {
      "name": "python"
    }
  },
  "cells": [
    {
      "cell_type": "markdown",
      "metadata": {
        "id": "view-in-github",
        "colab_type": "text"
      },
      "source": [
        "<a href=\"https://colab.research.google.com/github/cristiane88/ShePY/blob/main/Aula_4_ShePY.ipynb\" target=\"_parent\"><img src=\"https://colab.research.google.com/assets/colab-badge.svg\" alt=\"Open In Colab\"/></a>"
      ]
    },
    {
      "cell_type": "code",
      "metadata": {
        "id": "nJpc-FDYPr0K"
      },
      "source": [
        ""
      ],
      "execution_count": null,
      "outputs": []
    },
    {
      "cell_type": "markdown",
      "metadata": {
        "id": "2fHrMgiOQSMC"
      },
      "source": [
        "# Aula 4 - ShePY\n",
        "## NumPY - Numerical Python\n",
        "\n",
        "NumPY é uma poderosa biblioteca que suporta arrays e matrizes e muito importante para processamento numerico em Python. Esses tipos de cálculos númericos são amplamente utilizados em tarefas como: Modelos de Machine Learning, Visão computacional e tarefas matemáticas.\n",
        "\n",
        "Alguns recursos no Numpy?\n",
        "- ndarray: um array multidimensional eficaz que oferece operações rápidas.\n",
        "- funções matemáticas para operações rápidas em arrays de dados, sem que haja a necessidade de escrever laços."
      ]
    },
    {
      "cell_type": "markdown",
      "metadata": {
        "id": "yaTezOx0SPYS"
      },
      "source": [
        "### Criando arrays com Numpy:"
      ]
    },
    {
      "cell_type": "markdown",
      "metadata": {
        "id": "bHYj1yJ2T7cu"
      },
      "source": [
        "### Uma Dimensão - Linear"
      ]
    },
    {
      "cell_type": "code",
      "metadata": {
        "id": "0QlSzBJJSWXX"
      },
      "source": [
        "import numpy as np"
      ],
      "execution_count": null,
      "outputs": []
    },
    {
      "cell_type": "code",
      "metadata": {
        "colab": {
          "base_uri": "https://localhost:8080/"
        },
        "id": "P4YzUMC5SaPZ",
        "outputId": "fd99a5da-0380-43ad-ba3c-1d07eff096cb"
      },
      "source": [
        "# Criando um array a partir de uma lista\n",
        "mylist = [1, 2, 3]\n",
        "myarray = np.array(mylist)\n",
        "myarray"
      ],
      "execution_count": null,
      "outputs": [
        {
          "output_type": "execute_result",
          "data": {
            "text/plain": [
              "array([1, 2, 3])"
            ]
          },
          "metadata": {
            "tags": []
          },
          "execution_count": 3
        }
      ]
    },
    {
      "cell_type": "code",
      "metadata": {
        "colab": {
          "base_uri": "https://localhost:8080/"
        },
        "id": "eotxBw9fSQ_1",
        "outputId": "907c372e-c1e6-4fe8-9cb4-1e9de65a2ea0"
      },
      "source": [
        "type(myarray)"
      ],
      "execution_count": null,
      "outputs": [
        {
          "output_type": "execute_result",
          "data": {
            "text/plain": [
              "numpy.ndarray"
            ]
          },
          "metadata": {
            "tags": []
          },
          "execution_count": 4
        }
      ]
    },
    {
      "cell_type": "code",
      "metadata": {
        "colab": {
          "base_uri": "https://localhost:8080/"
        },
        "id": "0-wQf6kqS20t",
        "outputId": "5915e040-563c-4e63-b75b-52f0b1f2cb3b"
      },
      "source": [
        "myarray = np.array([1, 2, 3])\n",
        "myarray"
      ],
      "execution_count": null,
      "outputs": [
        {
          "output_type": "execute_result",
          "data": {
            "text/plain": [
              "array([1, 2, 3])"
            ]
          },
          "metadata": {
            "tags": []
          },
          "execution_count": 5
        }
      ]
    },
    {
      "cell_type": "code",
      "metadata": {
        "colab": {
          "base_uri": "https://localhost:8080/"
        },
        "id": "7qVTkjp5TEd7",
        "outputId": "fd6d4eb9-4fd1-413c-b85d-3b55618c1026"
      },
      "source": [
        "# Criando um  array com arange, sendo o intervalo de 0 a 10.\n",
        "ald = np.arange(0, 10)\n",
        "ald"
      ],
      "execution_count": null,
      "outputs": [
        {
          "output_type": "execute_result",
          "data": {
            "text/plain": [
              "array([0, 1, 2, 3, 4, 5, 6, 7, 8, 9])"
            ]
          },
          "metadata": {
            "tags": []
          },
          "execution_count": 6
        }
      ]
    },
    {
      "cell_type": "code",
      "metadata": {
        "colab": {
          "base_uri": "https://localhost:8080/"
        },
        "id": "GCvMWaapTTOO",
        "outputId": "d725cd10-32b5-4399-ad3e-88aac22c57be"
      },
      "source": [
        "#Criando um array de zeros.\n",
        "zeros = np.zeros(5)\n",
        "zeros"
      ],
      "execution_count": null,
      "outputs": [
        {
          "output_type": "execute_result",
          "data": {
            "text/plain": [
              "array([0., 0., 0., 0., 0.])"
            ]
          },
          "metadata": {
            "tags": []
          },
          "execution_count": 7
        }
      ]
    },
    {
      "cell_type": "code",
      "metadata": {
        "colab": {
          "base_uri": "https://localhost:8080/"
        },
        "id": "5DcRTpJ4U43z",
        "outputId": "68a17a3e-f85a-4b39-854a-62a1a8c068b5"
      },
      "source": [
        "array = np.array(['pyton', 'R', 'Java'])\n",
        "array"
      ],
      "execution_count": null,
      "outputs": [
        {
          "output_type": "execute_result",
          "data": {
            "text/plain": [
              "array(['pyton', 'R', 'Java'], dtype='<U5')"
            ]
          },
          "metadata": {
            "tags": []
          },
          "execution_count": 9
        }
      ]
    },
    {
      "cell_type": "markdown",
      "metadata": {
        "id": "kSzKR8PpUt45"
      },
      "source": [
        "###Arrays de 2 dimensões"
      ]
    },
    {
      "cell_type": "code",
      "metadata": {
        "colab": {
          "base_uri": "https://localhost:8080/"
        },
        "id": "082HSuPwTd82",
        "outputId": "55c0dea8-e2f0-4e80-e701-8a89fe1613fe"
      },
      "source": [
        "a2d = np.array([[1, 2, 3], [4, 5, 6], [7, 8, 9]])\n",
        "a2d"
      ],
      "execution_count": null,
      "outputs": [
        {
          "output_type": "execute_result",
          "data": {
            "text/plain": [
              "array([[1, 2, 3],\n",
              "       [4, 5, 6],\n",
              "       [7, 8, 9]])"
            ]
          },
          "metadata": {
            "tags": []
          },
          "execution_count": 8
        }
      ]
    },
    {
      "cell_type": "code",
      "metadata": {
        "colab": {
          "base_uri": "https://localhost:8080/"
        },
        "id": "f5f8coPKTeNe",
        "outputId": "ac630424-2885-488b-b43c-c6c00b37ec79"
      },
      "source": [
        "zeros2d = np.zeros(shape=(3, 4)) # 3 linhas e 4 colunas\n",
        "zeros2d"
      ],
      "execution_count": null,
      "outputs": [
        {
          "output_type": "execute_result",
          "data": {
            "text/plain": [
              "array([[0., 0., 0., 0.],\n",
              "       [0., 0., 0., 0.],\n",
              "       [0., 0., 0., 0.]])"
            ]
          },
          "metadata": {
            "tags": []
          },
          "execution_count": 10
        }
      ]
    },
    {
      "cell_type": "markdown",
      "metadata": {
        "id": "txlS1NHjWTS8"
      },
      "source": [
        "## Array de 3 dimensões"
      ]
    },
    {
      "cell_type": "code",
      "metadata": {
        "colab": {
          "base_uri": "https://localhost:8080/"
        },
        "id": "i4S4HKenWZ6f",
        "outputId": "20abd2a2-dfce-4004-8e63-136dd73af71c"
      },
      "source": [
        "array3d = np.array([[[1, 2, 3], [4, 5, 6], [7, 8, 9]], [[10, 11, 12]], [[13, 14, 15]]])\n",
        "array3d"
      ],
      "execution_count": null,
      "outputs": [
        {
          "output_type": "stream",
          "text": [
            "/usr/local/lib/python3.7/dist-packages/ipykernel_launcher.py:1: VisibleDeprecationWarning: Creating an ndarray from ragged nested sequences (which is a list-or-tuple of lists-or-tuples-or ndarrays with different lengths or shapes) is deprecated. If you meant to do this, you must specify 'dtype=object' when creating the ndarray\n",
            "  \"\"\"Entry point for launching an IPython kernel.\n"
          ],
          "name": "stderr"
        },
        {
          "output_type": "execute_result",
          "data": {
            "text/plain": [
              "array([list([[1, 2, 3], [4, 5, 6], [7, 8, 9]]), list([[10, 11, 12]]),\n",
              "       list([[13, 14, 15]])], dtype=object)"
            ]
          },
          "metadata": {
            "tags": []
          },
          "execution_count": 11
        }
      ]
    },
    {
      "cell_type": "code",
      "metadata": {
        "id": "LKvXM_MhXGmb"
      },
      "source": [
        ""
      ],
      "execution_count": null,
      "outputs": []
    },
    {
      "cell_type": "markdown",
      "metadata": {
        "id": "o0_EsM_UXI4F"
      },
      "source": [
        "Comparação de performace do Numpy"
      ]
    },
    {
      "cell_type": "code",
      "metadata": {
        "id": "DQV6089xYGJS",
        "colab": {
          "base_uri": "https://localhost:8080/"
        },
        "outputId": "5d312efb-971a-429a-b95b-48bdb2e62325"
      },
      "source": [
        "idades = np.random.randint(50, size=1000)\n",
        "idades"
      ],
      "execution_count": null,
      "outputs": [
        {
          "output_type": "execute_result",
          "data": {
            "text/plain": [
              "array([14, 14, 44, 48, 37, 44,  6, 43,  8, 14, 21, 34, 28,  8,  2, 37,  8,\n",
              "        1, 45, 21, 17, 38,  6,  5, 48, 26, 32, 48, 19, 40, 25,  0, 28,  3,\n",
              "       37, 18, 24,  8, 42, 18, 38, 19, 37, 19,  8, 13, 40, 48, 18, 28, 22,\n",
              "       34,  1, 14, 24, 34, 16,  5, 18, 38, 31, 17, 32, 35, 12, 30, 11, 28,\n",
              "        1, 20, 15,  7,  1, 14, 18, 34, 16, 46, 36, 29,  5, 34, 25, 32, 20,\n",
              "       34, 15, 38, 45, 43, 42, 38, 23, 30,  4, 47,  4,  8, 44, 21, 18, 12,\n",
              "       24,  2,  9, 25,  2, 39, 49, 36, 13, 21, 18, 25, 48,  3, 18, 47, 40,\n",
              "       33, 16, 10, 34, 28, 32, 41, 45,  4, 47, 28,  0,  1, 45, 42, 48, 43,\n",
              "       10, 14, 13, 29, 13, 15, 48, 48, 22, 39, 26, 40, 18, 17, 17, 39, 32,\n",
              "       47, 10, 20,  0, 16, 22, 12, 24,  2, 32, 36,  4, 13, 28,  1, 36,  2,\n",
              "        9, 48, 10, 12, 16,  5, 36, 24,  8,  1, 17, 26, 44, 31, 43, 30, 32,\n",
              "       25, 28, 25, 48,  2, 45, 12, 39, 36, 48, 45, 35, 20,  3, 11, 13, 40,\n",
              "       10, 19,  8,  9,  9, 10,  0, 14, 49, 22, 37, 29,  6, 42, 20, 43, 48,\n",
              "       31,  8, 32, 43, 33, 40, 31, 36, 25, 10,  2, 28, 12, 32, 49, 24, 43,\n",
              "       27, 33, 35, 39, 10,  7, 28,  9, 19, 13, 48, 42, 44, 43, 15, 24,  7,\n",
              "        7,  6, 38, 28, 29, 48, 19, 39, 25, 36,  8, 42, 44, 46, 38, 22, 42,\n",
              "       13, 47,  8, 10, 17, 34, 25, 13, 13,  9,  7, 17, 20, 31, 39, 15, 16,\n",
              "       18, 44, 35, 18, 38, 32,  8,  7, 12,  6,  2, 11, 36, 14, 13, 13, 35,\n",
              "        9, 42,  9, 30, 39,  6, 27, 30,  6, 13, 23,  4,  8, 20, 12, 48, 33,\n",
              "       29, 35,  4, 35, 12,  2, 26, 45, 32, 22, 28, 32, 24, 38, 26, 35, 25,\n",
              "       29,  1,  7, 19, 22,  9,  2, 45, 21, 41,  1, 47, 34, 16, 24, 12, 28,\n",
              "       40, 46, 47,  2, 45, 18, 22, 14, 37,  9, 32, 35, 41, 13, 41, 33, 23,\n",
              "       42, 27, 41, 17,  1, 27, 42, 29, 14, 27, 24, 40,  0,  2, 36, 17,  3,\n",
              "       40, 29, 26, 19, 34, 22, 11,  1, 20, 17, 41,  9, 10, 36, 37, 36, 25,\n",
              "       35, 49,  4, 11, 29, 29, 14, 19,  8, 11, 41, 49, 30, 36, 23, 30, 15,\n",
              "        1,  4,  2, 41, 22, 46, 40, 18, 23,  0, 32,  3, 27,  4, 32, 22, 44,\n",
              "        2, 40, 25, 40, 40, 27, 12, 42,  9,  4, 44, 38, 17, 20, 19, 42, 18,\n",
              "        1, 14, 29, 38, 25, 13, 48, 26,  4, 42, 18, 47, 22, 17, 45, 28, 25,\n",
              "       14, 10, 36,  1, 31, 20, 36,  8, 39, 43, 30,  6, 40, 24, 34,  2, 47,\n",
              "        9, 44, 49, 27, 38, 47, 40, 21,  3, 26, 13, 46, 12, 13, 36, 39, 46,\n",
              "       24, 24, 12, 44, 32, 14, 14,  3,  4, 16, 46, 27, 32, 33, 14,  9, 15,\n",
              "       10, 49, 33,  9, 25, 29, 11, 44, 43, 33, 29, 47, 17, 10,  6, 26, 18,\n",
              "       21, 39, 12, 21,  8, 30, 17,  9,  0, 19, 31, 22, 27, 43, 36, 20, 15,\n",
              "       48, 37, 25, 15, 25,  1, 31, 42, 48, 22,  6, 32, 38, 49, 18, 24, 43,\n",
              "        2, 36,  1, 28,  0,  3, 42, 24,  5, 13, 44,  1, 48,  0,  4, 40,  4,\n",
              "       38,  2, 43, 40, 23, 21,  9, 35, 35, 49, 11, 17, 16, 19, 12, 12, 25,\n",
              "       25, 48, 38, 20,  6, 37, 17, 20, 37, 42, 49, 35, 45, 28, 30, 48,  4,\n",
              "        1, 14,  7,  9, 32, 24, 21, 37, 33, 35, 41, 31, 23, 12, 26, 45, 48,\n",
              "       28, 26, 21, 47, 16, 24,  1, 39,  3, 18, 32, 17, 39,  0, 22, 23, 17,\n",
              "       49, 34, 25, 19,  9,  9, 40, 25, 36, 43, 33, 20, 43, 25, 34,  6, 28,\n",
              "       48, 42, 33, 19, 18, 32, 48, 38,  5, 45, 38,  5, 24, 47, 17,  0, 22,\n",
              "       37, 33, 40, 39, 26,  1, 32, 38, 21, 23,  4, 46, 10,  4, 44,  1, 29,\n",
              "       48, 22, 24, 38, 41, 42, 32, 22, 24, 21,  5, 18, 38, 26, 29, 11, 20,\n",
              "       33,  2, 19,  5, 31, 46, 24, 28,  1, 18, 28, 31, 21, 29, 25,  9, 47,\n",
              "       28,  0, 43, 20, 25, 47, 17, 30, 31, 29, 32, 31, 25,  5, 46, 15, 44,\n",
              "       26,  5, 28, 20, 47, 27,  3, 45, 24,  4, 25, 40, 15, 14, 29,  1, 46,\n",
              "        1,  3,  5, 15, 30, 31, 12,  3, 16, 39,  0, 27, 40, 49, 33, 31, 16,\n",
              "       20,  8, 13,  5, 32, 39, 22, 49, 36, 48, 11, 24, 34,  3, 10,  0, 38,\n",
              "       22, 21,  0, 42, 32, 45, 16, 14, 26, 16, 18, 49, 15, 48,  4, 32,  2,\n",
              "        8,  7,  5, 17, 33, 49, 47,  1, 41,  1, 23, 20,  7,  5, 17, 34, 15,\n",
              "       32, 28, 24,  9,  7,  7, 43, 37, 41, 39,  0,  3,  5, 18, 25,  3, 10,\n",
              "       40,  2,  6, 47, 34, 34,  3, 12, 35, 45, 36, 37, 38, 28, 35, 47, 48,\n",
              "       43, 41, 48, 28, 41, 45,  8, 41, 41, 21, 18,  3, 22, 21, 36, 44,  2,\n",
              "       44, 45, 14, 45, 15, 42, 46, 27,  7, 19, 43, 36, 28,  2,  9, 18, 12,\n",
              "       39, 33,  3, 24, 43, 26, 24, 36,  2, 20, 45,  1,  5, 23,  1, 11, 26,\n",
              "       20,  7, 20, 30,  5, 14, 28, 20, 26, 26, 37, 39, 13, 44, 33, 10,  5,\n",
              "       33, 14, 15, 47,  6, 27,  8,  8, 11, 13, 29, 25, 18, 38, 45, 11, 16,\n",
              "       46, 15, 10, 11, 45, 29, 22, 31, 24, 44,  0, 23, 14,  9, 28, 25,  1,\n",
              "       11, 37, 25, 39, 12, 47,  1, 33, 41, 36, 45, 45, 12,  4])"
            ]
          },
          "metadata": {
            "tags": []
          },
          "execution_count": 15
        }
      ]
    },
    {
      "cell_type": "code",
      "metadata": {
        "colab": {
          "base_uri": "https://localhost:8080/"
        },
        "id": "7PACsbvgXQ13",
        "outputId": "a640aaeb-cc9a-475a-f56b-77a3868cd9a0"
      },
      "source": [
        "idades = np.random.randint(50, size=1000)\n",
        "len(idades)"
      ],
      "execution_count": null,
      "outputs": [
        {
          "output_type": "execute_result",
          "data": {
            "text/plain": [
              "1000"
            ]
          },
          "metadata": {
            "tags": []
          },
          "execution_count": 12
        }
      ]
    },
    {
      "cell_type": "code",
      "metadata": {
        "colab": {
          "base_uri": "https://localhost:8080/"
        },
        "id": "3hAK5Gr-XgfX",
        "outputId": "18abba73-f800-407a-a114-9427787f21c3"
      },
      "source": [
        "%timeit sum(idades)"
      ],
      "execution_count": null,
      "outputs": [
        {
          "output_type": "stream",
          "text": [
            "10000 loops, best of 5: 160 µs per loop\n"
          ],
          "name": "stdout"
        }
      ]
    },
    {
      "cell_type": "code",
      "metadata": {
        "colab": {
          "base_uri": "https://localhost:8080/"
        },
        "id": "u01NV0ScXvda",
        "outputId": "1946a88d-2f03-4cdb-a8b8-0e0932d97eb1"
      },
      "source": [
        "%timeit np.sum(idades)"
      ],
      "execution_count": null,
      "outputs": [
        {
          "output_type": "stream",
          "text": [
            "The slowest run took 61.00 times longer than the fastest. This could mean that an intermediate result is being cached.\n",
            "100000 loops, best of 5: 5.39 µs per loop\n"
          ],
          "name": "stdout"
        }
      ]
    }
  ]
}