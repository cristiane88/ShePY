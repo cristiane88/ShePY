{
  "nbformat": 4,
  "nbformat_minor": 0,
  "metadata": {
    "colab": {
      "name": "Aula 1 - ShePY.ipynb",
      "provenance": [],
      "authorship_tag": "ABX9TyNwMed+VNp4s+RxkJiQ9y+X",
      "include_colab_link": true
    },
    "kernelspec": {
      "name": "python3",
      "display_name": "Python 3"
    },
    "language_info": {
      "name": "python"
    }
  },
  "cells": [
    {
      "cell_type": "markdown",
      "metadata": {
        "id": "view-in-github",
        "colab_type": "text"
      },
      "source": [
        "<a href=\"https://colab.research.google.com/github/cristiane88/ShePY/blob/main/Aula_1_ShePY.ipynb\" target=\"_parent\"><img src=\"https://colab.research.google.com/assets/colab-badge.svg\" alt=\"Open In Colab\"/></a>"
      ]
    },
    {
      "cell_type": "markdown",
      "metadata": {
        "id": "hJ6ldeT-72nD"
      },
      "source": [
        "# Aula 1 - shePY\n",
        "Nessa aula iremos trabalhar com **Python** e relizar operações *matemáticas*."
      ]
    },
    {
      "cell_type": "markdown",
      "metadata": {
        "id": "GBmHuyVt89JW"
      },
      "source": [
        "## Tipos de dados##\n",
        "\n",
        "Númericos:\n",
        "- Inteiros (**int**):9, 7, -4, 2\n",
        "- Reais (**float**): 3.14, 600.4, 0.0, 8.9\n",
        "\n",
        "Não númericos: \n",
        "- Texto/String (**str**): 'Python' , 'Maria' ,'Python'\n",
        "- Lógico (**bool**): True ou False"
      ]
    },
    {
      "cell_type": "markdown",
      "metadata": {
        "id": "BxIUcc40CviV"
      },
      "source": [
        ""
      ]
    },
    {
      "cell_type": "code",
      "metadata": {
        "id": "HNo31g6vCxNL"
      },
      "source": [
        ""
      ],
      "execution_count": null,
      "outputs": []
    },
    {
      "cell_type": "markdown",
      "metadata": {
        "id": "kezqtJ_F_RWa"
      },
      "source": [
        "### Variáveis e identificadores"
      ]
    },
    {
      "cell_type": "code",
      "metadata": {
        "colab": {
          "base_uri": "https://localhost:8080/"
        },
        "id": "RgUCymLY6PqU",
        "outputId": "8ca4d9ed-5d44-46e1-84e7-658c8ba32ced"
      },
      "source": [
        "print(\"Olá Cristiane\")"
      ],
      "execution_count": null,
      "outputs": [
        {
          "output_type": "stream",
          "text": [
            "Olá Cristiane\n"
          ],
          "name": "stdout"
        }
      ]
    },
    {
      "cell_type": "code",
      "metadata": {
        "colab": {
          "base_uri": "https://localhost:8080/",
          "height": 178
        },
        "id": "o1w7QlIClyee",
        "outputId": "950dec24-41d3-4b00-e347-614d6d3d882b"
      },
      "source": [
        "cumprimento = ('Olá pessoal')\n",
        "print(cumprimento)"
      ],
      "execution_count": null,
      "outputs": [
        {
          "output_type": "error",
          "ename": "TypeError",
          "evalue": "ignored",
          "traceback": [
            "\u001b[0;31m---------------------------------------------------------------------------\u001b[0m",
            "\u001b[0;31mTypeError\u001b[0m                                 Traceback (most recent call last)",
            "\u001b[0;32m<ipython-input-94-213bc45b4b35>\u001b[0m in \u001b[0;36m<module>\u001b[0;34m()\u001b[0m\n\u001b[1;32m      1\u001b[0m \u001b[0mcumprimento\u001b[0m \u001b[0;34m=\u001b[0m \u001b[0;34m(\u001b[0m\u001b[0;34m'Olá pessoal'\u001b[0m\u001b[0;34m)\u001b[0m\u001b[0;34m\u001b[0m\u001b[0;34m\u001b[0m\u001b[0m\n\u001b[0;32m----> 2\u001b[0;31m \u001b[0mprint\u001b[0m\u001b[0;34m(\u001b[0m\u001b[0mcumprimento\u001b[0m\u001b[0;34m)\u001b[0m\u001b[0;34m\u001b[0m\u001b[0;34m\u001b[0m\u001b[0m\n\u001b[0m",
            "\u001b[0;31mTypeError\u001b[0m: 'str' object is not callable"
          ]
        }
      ]
    },
    {
      "cell_type": "markdown",
      "metadata": {
        "id": "un00bL2r0eL4"
      },
      "source": [
        "# Nova seção"
      ]
    },
    {
      "cell_type": "code",
      "metadata": {
        "colab": {
          "base_uri": "https://localhost:8080/"
        },
        "id": "7aN4P_e2DEbn",
        "outputId": "710e9438-ee1d-4172-8087-8f1cf199036d"
      },
      "source": [
        "saudacao = \"tenha um bom dia\"\n",
        "print(saudacao)"
      ],
      "execution_count": null,
      "outputs": [
        {
          "output_type": "stream",
          "text": [
            "tenha um bom dia\n"
          ],
          "name": "stdout"
        }
      ]
    },
    {
      "cell_type": "code",
      "metadata": {
        "colab": {
          "base_uri": "https://localhost:8080/"
        },
        "id": "fJiNHha2Dk1U",
        "outputId": "5bc4004c-b6e2-4a54-d699-1c0642d918f2"
      },
      "source": [
        "print(cumprimento, saudacao, 'e bebam água!!!')"
      ],
      "execution_count": null,
      "outputs": [
        {
          "output_type": "stream",
          "text": [
            "Olá pessoal tenha um bom dia e bebam água!!!\n"
          ],
          "name": "stdout"
        }
      ]
    },
    {
      "cell_type": "code",
      "metadata": {
        "colab": {
          "base_uri": "https://localhost:8080/"
        },
        "id": "pp3Grr1CD0Xk",
        "outputId": "64520032-0c6c-4b4e-e45c-a77433268928"
      },
      "source": [
        "meu_nome = 'Cristiane Rodrigues'\n",
        "print(meu_nome)"
      ],
      "execution_count": null,
      "outputs": [
        {
          "output_type": "stream",
          "text": [
            "Cristiane Rodrigues\n"
          ],
          "name": "stdout"
        }
      ]
    },
    {
      "cell_type": "code",
      "metadata": {
        "colab": {
          "base_uri": "https://localhost:8080/"
        },
        "id": "qHu839KzEOcV",
        "outputId": "578a7cf0-5de6-43f8-d9ac-f95267882b92"
      },
      "source": [
        "print('hello,', meu_nome, '!')"
      ],
      "execution_count": null,
      "outputs": [
        {
          "output_type": "stream",
          "text": [
            "hello, Cristiane Rodrigues !\n"
          ],
          "name": "stdout"
        }
      ]
    },
    {
      "cell_type": "code",
      "metadata": {
        "colab": {
          "base_uri": "https://localhost:8080/"
        },
        "id": "nF6-eKmSFASw",
        "outputId": "871dd3e1-fb80-4c28-f439-87fecd35ddbe"
      },
      "source": [
        "salario = 7500\n",
        "type(salario)"
      ],
      "execution_count": null,
      "outputs": [
        {
          "output_type": "execute_result",
          "data": {
            "text/plain": [
              "int"
            ]
          },
          "metadata": {
            "tags": []
          },
          "execution_count": 54
        }
      ]
    },
    {
      "cell_type": "code",
      "metadata": {
        "colab": {
          "base_uri": "https://localhost:8080/",
          "height": 178
        },
        "id": "15fNDTupurho",
        "outputId": "5f502d77-1534-4fd2-bccf-5e9b6f6eea38"
      },
      "source": [
        "mensagem = \"Hello, world\"\n",
        "print(mensagem)"
      ],
      "execution_count": null,
      "outputs": [
        {
          "output_type": "error",
          "ename": "TypeError",
          "evalue": "ignored",
          "traceback": [
            "\u001b[0;31m---------------------------------------------------------------------------\u001b[0m",
            "\u001b[0;31mTypeError\u001b[0m                                 Traceback (most recent call last)",
            "\u001b[0;32m<ipython-input-96-14ab31b87263>\u001b[0m in \u001b[0;36m<module>\u001b[0;34m()\u001b[0m\n\u001b[1;32m      1\u001b[0m \u001b[0mmensagem\u001b[0m \u001b[0;34m=\u001b[0m \u001b[0;34m\"Hello, world\"\u001b[0m\u001b[0;34m\u001b[0m\u001b[0;34m\u001b[0m\u001b[0m\n\u001b[0;32m----> 2\u001b[0;31m \u001b[0mprint\u001b[0m\u001b[0;34m(\u001b[0m\u001b[0mmensagem\u001b[0m\u001b[0;34m)\u001b[0m\u001b[0;34m\u001b[0m\u001b[0;34m\u001b[0m\u001b[0m\n\u001b[0m",
            "\u001b[0;31mTypeError\u001b[0m: 'str' object is not callable"
          ]
        }
      ]
    },
    {
      "cell_type": "code",
      "metadata": {
        "colab": {
          "base_uri": "https://localhost:8080/",
          "height": 178
        },
        "id": "8Y9s-AwbGEX0",
        "outputId": "65031cbf-1ee1-4bd8-e0f9-c48887e8aafc"
      },
      "source": [
        "\n",
        "print('olá, {}'.format(meu_nome))"
      ],
      "execution_count": null,
      "outputs": [
        {
          "output_type": "error",
          "ename": "TypeError",
          "evalue": "ignored",
          "traceback": [
            "\u001b[0;31m---------------------------------------------------------------------------\u001b[0m",
            "\u001b[0;31mTypeError\u001b[0m                                 Traceback (most recent call last)",
            "\u001b[0;32m<ipython-input-92-643062de19f9>\u001b[0m in \u001b[0;36m<module>\u001b[0;34m()\u001b[0m\n\u001b[1;32m      1\u001b[0m \u001b[0;34m\u001b[0m\u001b[0m\n\u001b[0;32m----> 2\u001b[0;31m \u001b[0mprint\u001b[0m\u001b[0;34m(\u001b[0m\u001b[0;34m'olá, {}'\u001b[0m\u001b[0;34m.\u001b[0m\u001b[0mformat\u001b[0m\u001b[0;34m(\u001b[0m\u001b[0mmeu_nome\u001b[0m\u001b[0;34m)\u001b[0m\u001b[0;34m)\u001b[0m\u001b[0;34m\u001b[0m\u001b[0;34m\u001b[0m\u001b[0m\n\u001b[0m",
            "\u001b[0;31mTypeError\u001b[0m: 'str' object is not callable"
          ]
        }
      ]
    },
    {
      "cell_type": "code",
      "metadata": {
        "colab": {
          "base_uri": "https://localhost:8080/"
        },
        "id": "_AEqTpHoJVRa",
        "outputId": "3114a5c0-5e90-4a0e-c9b1-13bba498d819"
      },
      "source": [
        ""
      ],
      "execution_count": null,
      "outputs": [
        {
          "output_type": "stream",
          "text": [
            "7\n",
            "-3\n",
            "10\n",
            "0.4\n",
            "32\n"
          ],
          "name": "stdout"
        }
      ]
    },
    {
      "cell_type": "code",
      "metadata": {
        "id": "kHOboewhJ377"
      },
      "source": [
        "n1 = int(input('digite um número: '))\n",
        "n2 = int(input('digite um segundo número: ' ))\n",
        "n3 = int(input('digite um terceiro número: ' ))\n",
        "\n",
        "soma = n1 + n2 + n3\n",
        "\n",
        "print(soma)\n"
      ],
      "execution_count": null,
      "outputs": []
    },
    {
      "cell_type": "code",
      "metadata": {
        "id": "1tiHHLMhLM4k"
      },
      "source": [
        "+"
      ],
      "execution_count": null,
      "outputs": []
    },
    {
      "cell_type": "code",
      "metadata": {
        "colab": {
          "base_uri": "https://localhost:8080/"
        },
        "id": "iGDhWSAvLvvH",
        "outputId": "a3d6ddd9-c03e-425e-fc03-2ca1b9e82d63"
      },
      "source": [
        "(2+3)*4/(5-6)"
      ],
      "execution_count": null,
      "outputs": [
        {
          "output_type": "execute_result",
          "data": {
            "text/plain": [
              "-20.0"
            ]
          },
          "metadata": {
            "tags": []
          },
          "execution_count": 33
        }
      ]
    },
    {
      "cell_type": "code",
      "metadata": {
        "id": "9X-tlzkIOvKt"
      },
      "source": [
        "n1 = flot(input('numero 1:'))\n",
        "n2 = flot(input('numero 2:'))\n",
        "\n",
        "soma = n1 + n2\n",
        "\n",
        "print('a soma entre {} e {} é: {}'.format(n1, n2, soma))"
      ],
      "execution_count": null,
      "outputs": []
    },
    {
      "cell_type": "code",
      "metadata": {
        "id": "OPX0fOt0PBi6"
      },
      "source": [
        "n1 = int(input('Digite um número: '))\n",
        "\n",
        "antecessor = n1 - 1\n",
        "sucessor = n1 + 1\n",
        "\n",
        "print('O antecessor do número {} é {} e o sucessor é {}'.format(n1, antecessor, sucessor))"
      ],
      "execution_count": null,
      "outputs": []
    },
    {
      "cell_type": "code",
      "metadata": {
        "id": "NAg114cLQ9QH",
        "colab": {
          "base_uri": "https://localhost:8080/"
        },
        "outputId": "909cb9c3-596d-41d3-c601-f33cb226516a"
      },
      "source": [
        "lagura = float(input('Largura da parede: '))\n",
        "altura = float(input('Altura da parede: '))\n",
        "\n",
        "area = lagura * altura\n",
        "\n",
        "tinta = area / 2\n",
        "\n",
        "print('A área será de {} m² e a quantidade de tinta é de {} litros.'.format(area, tinta))"
      ],
      "execution_count": null,
      "outputs": [
        {
          "output_type": "stream",
          "text": [
            "Largura da parede: 50\n",
            "Altura da parede: 2\n",
            "A área será de 100.0 m² e a quantidade de tinta é de 50.0 litros.\n"
          ],
          "name": "stdout"
        }
      ]
    }
  ]
}